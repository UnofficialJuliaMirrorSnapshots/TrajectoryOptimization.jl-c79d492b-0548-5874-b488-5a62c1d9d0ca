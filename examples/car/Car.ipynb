{
 "cells": [
  {
   "cell_type": "markdown",
   "metadata": {},
   "source": [
    "## Car"
   ]
  },
  {
   "cell_type": "code",
   "execution_count": 1,
   "metadata": {},
   "outputs": [],
   "source": [
    "using TrajectoryOptimization\n",
    "using Plots, LinearAlgebra"
   ]
  },
  {
   "cell_type": "markdown",
   "metadata": {},
   "source": [
    "Import the car model"
   ]
  },
  {
   "cell_type": "code",
   "execution_count": 2,
   "metadata": {},
   "outputs": [],
   "source": [
    "model = Dynamics.car_model\n",
    "n = model.n # number of states\n",
    "m = model.m; # number of controls"
   ]
  },
  {
   "cell_type": "markdown",
   "metadata": {},
   "source": [
    "Define numerical type"
   ]
  },
  {
   "cell_type": "code",
   "execution_count": 3,
   "metadata": {},
   "outputs": [],
   "source": [
    "T = Float64;"
   ]
  },
  {
   "cell_type": "markdown",
   "metadata": {},
   "source": [
    "Define initial and goals states"
   ]
  },
  {
   "cell_type": "code",
   "execution_count": 4,
   "metadata": {},
   "outputs": [
    {
     "data": {
      "text/plain": [
       "3-element Array{Float64,1}:\n",
       " 0.0\n",
       " 1.0\n",
       " 0.0"
      ]
     },
     "execution_count": 4,
     "metadata": {},
     "output_type": "execute_result"
    }
   ],
   "source": [
    "x0 = [0.; 0.; 0.]\n",
    "xf = [0.; 1.; 0.]"
   ]
  },
  {
   "cell_type": "markdown",
   "metadata": {},
   "source": [
    "Define a cost function, e.g., quadratic"
   ]
  },
  {
   "cell_type": "code",
   "execution_count": 5,
   "metadata": {},
   "outputs": [],
   "source": [
    "Q = (1.0e-2)*Diagonal(I,n)\n",
    "R = (1.0e-1)*Diagonal(I,m)\n",
    "Qf = 1000.0*Diagonal(I,n)\n",
    "cost = LQRCost(Q, R, Qf, xf);"
   ]
  },
  {
   "cell_type": "markdown",
   "metadata": {},
   "source": [
    "Define a problem"
   ]
  },
  {
   "cell_type": "code",
   "execution_count": 6,
   "metadata": {},
   "outputs": [],
   "source": [
    "N = 101 # number of knot points\n",
    "dt = 0.1 # total time\n",
    "\n",
    "U = [rand(m) for k = 1:N-1] \n",
    "obj = Objective(cost,N) # objective with same stagewise costs\n",
    "\n",
    "prob = Problem(model,obj, x0=x0, integration=:rk4, N=N, dt=dt)\n",
    "initial_controls!(prob,U); # initialize problem with controls"
   ]
  },
  {
   "cell_type": "markdown",
   "metadata": {},
   "source": [
    "Solve problem"
   ]
  },
  {
   "cell_type": "code",
   "execution_count": 7,
   "metadata": {
    "scrolled": false
   },
   "outputs": [
    {
     "name": "stderr",
     "output_type": "stream",
     "text": [
      "\u001b[32m\u001b[1m    iter cost          expected    z         α         ρ         dJ        grad      zero_count info                                              \u001b[22m\u001b[39m\n",
      "\u001b[32m\u001b[1m____----------------------------------------------------------------------------------------------------------------------------------------------\u001b[22m\u001b[39m\n",
      "    1     10524.64424   10451.7625  0.326366  0.5       0e+00     3411.104  2.464067 0          \n",
      "    2     2536.3019754  7893.29607  1.012041  0.5       0e+00     7988.342  1.514589 0          \n",
      "    3     588.85364188  1902.16987  1.023804  0.5       0e+00     1947.448  0.834499 0          \n",
      "    4     160.12943313  588.806921  0.728124  1         0e+00     428.7242  0.768824 0          \n",
      "    5     105.92866107  160.123359  0.338494  1         0e+00     54.20077  0.868644 0          \n",
      "    6     41.27409132   79.4416151  0.813863  0.5       0e+00     64.65457  0.563864 0          \n",
      "    7     0.0577944722  41.2624842  0.998881  1         0e+00     41.2163   0.759519 0          \n",
      "    8     0.0125326315  0.04711204  0.960728  1         0e+00     0.045262  0.126296 0          \n",
      "    9     0.012396269   0.00205977  0.066203  1         0e+00     0.000136  0.081167 0          \n",
      "    10    0.0107454959  0.00194652  0.848062  1         0e+00     0.001651  0.05428  0          \n",
      "\u001b[32m\u001b[1m    iter cost          expected    z         α         ρ         dJ        grad      zero_count info                                              \u001b[22m\u001b[39m\n",
      "\u001b[32m\u001b[1m____----------------------------------------------------------------------------------------------------------------------------------------------\u001b[22m\u001b[39m\n",
      "    11    0.0104987747  0.00032901  0.749897  1         0e+00     0.000247  0.038379 0          \n",
      "    12    0.0104661646  0.000095    0.343257  1         0e+00     3.26e-05  0.028688 0          \n"
     ]
    },
    {
     "data": {
      "text/plain": [
       "0.010466164597988778"
      ]
     },
     "execution_count": 7,
     "metadata": {},
     "output_type": "execute_result"
    }
   ],
   "source": [
    "solve!(prob, iLQRSolverOptions{T}(verbose=true)) # solve with iLQR"
   ]
  },
  {
   "cell_type": "code",
   "execution_count": 8,
   "metadata": {},
   "outputs": [
    {
     "data": {
      "image/svg+xml": [
       "<?xml version=\"1.0\" encoding=\"utf-8\"?>\n",
       "<svg xmlns=\"http://www.w3.org/2000/svg\" xmlns:xlink=\"http://www.w3.org/1999/xlink\" width=\"600\" height=\"400\" viewBox=\"0 0 2400 1600\">\n",
       "<defs>\n",
       "  <clipPath id=\"clip8000\">\n",
       "    <rect x=\"0\" y=\"0\" width=\"2400\" height=\"1600\"/>\n",
       "  </clipPath>\n",
       "</defs>\n",
       "<polygon clip-path=\"url(#clip8000)\" points=\"\n",
       "0,1600 2400,1600 2400,0 0,0 \n",
       "  \" fill=\"#ffffff\" fill-rule=\"evenodd\" fill-opacity=\"1\"/>\n",
       "<defs>\n",
       "  <clipPath id=\"clip8001\">\n",
       "    <rect x=\"480\" y=\"0\" width=\"1681\" height=\"1600\"/>\n",
       "  </clipPath>\n",
       "</defs>\n",
       "<polygon clip-path=\"url(#clip8000)\" points=\"\n",
       "251.149,1440.48 2321.26,1440.48 2321.26,125.984 251.149,125.984 \n",
       "  \" fill=\"#ffffff\" fill-rule=\"evenodd\" fill-opacity=\"1\"/>\n",
       "<defs>\n",
       "  <clipPath id=\"clip8002\">\n",
       "    <rect x=\"251\" y=\"125\" width=\"2071\" height=\"1315\"/>\n",
       "  </clipPath>\n",
       "</defs>\n",
       "<polyline clip-path=\"url(#clip8002)\" style=\"stroke:#000000; stroke-width:2; stroke-opacity:0.1; fill:none\" points=\"\n",
       "  598.607,1440.48 598.607,125.984 \n",
       "  \"/>\n",
       "<polyline clip-path=\"url(#clip8002)\" style=\"stroke:#000000; stroke-width:2; stroke-opacity:0.1; fill:none\" points=\"\n",
       "  995.005,1440.48 995.005,125.984 \n",
       "  \"/>\n",
       "<polyline clip-path=\"url(#clip8002)\" style=\"stroke:#000000; stroke-width:2; stroke-opacity:0.1; fill:none\" points=\"\n",
       "  1391.4,1440.48 1391.4,125.984 \n",
       "  \"/>\n",
       "<polyline clip-path=\"url(#clip8002)\" style=\"stroke:#000000; stroke-width:2; stroke-opacity:0.1; fill:none\" points=\"\n",
       "  1787.8,1440.48 1787.8,125.984 \n",
       "  \"/>\n",
       "<polyline clip-path=\"url(#clip8002)\" style=\"stroke:#000000; stroke-width:2; stroke-opacity:0.1; fill:none\" points=\"\n",
       "  2184.2,1440.48 2184.2,125.984 \n",
       "  \"/>\n",
       "<polyline clip-path=\"url(#clip8002)\" style=\"stroke:#000000; stroke-width:2; stroke-opacity:0.1; fill:none\" points=\"\n",
       "  251.149,1394.95 2321.26,1394.95 \n",
       "  \"/>\n",
       "<polyline clip-path=\"url(#clip8002)\" style=\"stroke:#000000; stroke-width:2; stroke-opacity:0.1; fill:none\" points=\"\n",
       "  251.149,1098.05 2321.26,1098.05 \n",
       "  \"/>\n",
       "<polyline clip-path=\"url(#clip8002)\" style=\"stroke:#000000; stroke-width:2; stroke-opacity:0.1; fill:none\" points=\"\n",
       "  251.149,801.149 2321.26,801.149 \n",
       "  \"/>\n",
       "<polyline clip-path=\"url(#clip8002)\" style=\"stroke:#000000; stroke-width:2; stroke-opacity:0.1; fill:none\" points=\"\n",
       "  251.149,504.246 2321.26,504.246 \n",
       "  \"/>\n",
       "<polyline clip-path=\"url(#clip8002)\" style=\"stroke:#000000; stroke-width:2; stroke-opacity:0.1; fill:none\" points=\"\n",
       "  251.149,207.344 2321.26,207.344 \n",
       "  \"/>\n",
       "<polyline clip-path=\"url(#clip8000)\" style=\"stroke:#000000; stroke-width:4; stroke-opacity:1; fill:none\" points=\"\n",
       "  251.149,1440.48 2321.26,1440.48 \n",
       "  \"/>\n",
       "<polyline clip-path=\"url(#clip8000)\" style=\"stroke:#000000; stroke-width:4; stroke-opacity:1; fill:none\" points=\"\n",
       "  251.149,1440.48 251.149,125.984 \n",
       "  \"/>\n",
       "<polyline clip-path=\"url(#clip8000)\" style=\"stroke:#000000; stroke-width:4; stroke-opacity:1; fill:none\" points=\"\n",
       "  598.607,1440.48 598.607,1420.77 \n",
       "  \"/>\n",
       "<polyline clip-path=\"url(#clip8000)\" style=\"stroke:#000000; stroke-width:4; stroke-opacity:1; fill:none\" points=\"\n",
       "  995.005,1440.48 995.005,1420.77 \n",
       "  \"/>\n",
       "<polyline clip-path=\"url(#clip8000)\" style=\"stroke:#000000; stroke-width:4; stroke-opacity:1; fill:none\" points=\"\n",
       "  1391.4,1440.48 1391.4,1420.77 \n",
       "  \"/>\n",
       "<polyline clip-path=\"url(#clip8000)\" style=\"stroke:#000000; stroke-width:4; stroke-opacity:1; fill:none\" points=\"\n",
       "  1787.8,1440.48 1787.8,1420.77 \n",
       "  \"/>\n",
       "<polyline clip-path=\"url(#clip8000)\" style=\"stroke:#000000; stroke-width:4; stroke-opacity:1; fill:none\" points=\"\n",
       "  2184.2,1440.48 2184.2,1420.77 \n",
       "  \"/>\n",
       "<polyline clip-path=\"url(#clip8000)\" style=\"stroke:#000000; stroke-width:4; stroke-opacity:1; fill:none\" points=\"\n",
       "  251.149,1394.95 282.2,1394.95 \n",
       "  \"/>\n",
       "<polyline clip-path=\"url(#clip8000)\" style=\"stroke:#000000; stroke-width:4; stroke-opacity:1; fill:none\" points=\"\n",
       "  251.149,1098.05 282.2,1098.05 \n",
       "  \"/>\n",
       "<polyline clip-path=\"url(#clip8000)\" style=\"stroke:#000000; stroke-width:4; stroke-opacity:1; fill:none\" points=\"\n",
       "  251.149,801.149 282.2,801.149 \n",
       "  \"/>\n",
       "<polyline clip-path=\"url(#clip8000)\" style=\"stroke:#000000; stroke-width:4; stroke-opacity:1; fill:none\" points=\"\n",
       "  251.149,504.246 282.2,504.246 \n",
       "  \"/>\n",
       "<polyline clip-path=\"url(#clip8000)\" style=\"stroke:#000000; stroke-width:4; stroke-opacity:1; fill:none\" points=\"\n",
       "  251.149,207.344 282.2,207.344 \n",
       "  \"/>\n",
       "<g clip-path=\"url(#clip8000)\">\n",
       "<text style=\"fill:#000000; fill-opacity:1; font-family:Arial,Helvetica Neue,Helvetica,sans-serif; font-size:48px; text-anchor:middle;\" transform=\"rotate(0, 598.607, 1494.48)\" x=\"598.607\" y=\"1494.48\">-0.4</text>\n",
       "</g>\n",
       "<g clip-path=\"url(#clip8000)\">\n",
       "<text style=\"fill:#000000; fill-opacity:1; font-family:Arial,Helvetica Neue,Helvetica,sans-serif; font-size:48px; text-anchor:middle;\" transform=\"rotate(0, 995.005, 1494.48)\" x=\"995.005\" y=\"1494.48\">-0.2</text>\n",
       "</g>\n",
       "<g clip-path=\"url(#clip8000)\">\n",
       "<text style=\"fill:#000000; fill-opacity:1; font-family:Arial,Helvetica Neue,Helvetica,sans-serif; font-size:48px; text-anchor:middle;\" transform=\"rotate(0, 1391.4, 1494.48)\" x=\"1391.4\" y=\"1494.48\">0.0</text>\n",
       "</g>\n",
       "<g clip-path=\"url(#clip8000)\">\n",
       "<text style=\"fill:#000000; fill-opacity:1; font-family:Arial,Helvetica Neue,Helvetica,sans-serif; font-size:48px; text-anchor:middle;\" transform=\"rotate(0, 1787.8, 1494.48)\" x=\"1787.8\" y=\"1494.48\">0.2</text>\n",
       "</g>\n",
       "<g clip-path=\"url(#clip8000)\">\n",
       "<text style=\"fill:#000000; fill-opacity:1; font-family:Arial,Helvetica Neue,Helvetica,sans-serif; font-size:48px; text-anchor:middle;\" transform=\"rotate(0, 2184.2, 1494.48)\" x=\"2184.2\" y=\"1494.48\">0.4</text>\n",
       "</g>\n",
       "<g clip-path=\"url(#clip8000)\">\n",
       "<text style=\"fill:#000000; fill-opacity:1; font-family:Arial,Helvetica Neue,Helvetica,sans-serif; font-size:48px; text-anchor:end;\" transform=\"rotate(0, 227.149, 1412.45)\" x=\"227.149\" y=\"1412.45\">0.00</text>\n",
       "</g>\n",
       "<g clip-path=\"url(#clip8000)\">\n",
       "<text style=\"fill:#000000; fill-opacity:1; font-family:Arial,Helvetica Neue,Helvetica,sans-serif; font-size:48px; text-anchor:end;\" transform=\"rotate(0, 227.149, 1115.55)\" x=\"227.149\" y=\"1115.55\">0.25</text>\n",
       "</g>\n",
       "<g clip-path=\"url(#clip8000)\">\n",
       "<text style=\"fill:#000000; fill-opacity:1; font-family:Arial,Helvetica Neue,Helvetica,sans-serif; font-size:48px; text-anchor:end;\" transform=\"rotate(0, 227.149, 818.649)\" x=\"227.149\" y=\"818.649\">0.50</text>\n",
       "</g>\n",
       "<g clip-path=\"url(#clip8000)\">\n",
       "<text style=\"fill:#000000; fill-opacity:1; font-family:Arial,Helvetica Neue,Helvetica,sans-serif; font-size:48px; text-anchor:end;\" transform=\"rotate(0, 227.149, 521.746)\" x=\"227.149\" y=\"521.746\">0.75</text>\n",
       "</g>\n",
       "<g clip-path=\"url(#clip8000)\">\n",
       "<text style=\"fill:#000000; fill-opacity:1; font-family:Arial,Helvetica Neue,Helvetica,sans-serif; font-size:48px; text-anchor:end;\" transform=\"rotate(0, 227.149, 224.844)\" x=\"227.149\" y=\"224.844\">1.00</text>\n",
       "</g>\n",
       "<g clip-path=\"url(#clip8000)\">\n",
       "<text style=\"fill:#000000; fill-opacity:1; font-family:Arial,Helvetica Neue,Helvetica,sans-serif; font-size:84px; text-anchor:middle;\" transform=\"rotate(0, 1286.2, 73.2)\" x=\"1286.2\" y=\"73.2\">state trajectory</text>\n",
       "</g>\n",
       "<g clip-path=\"url(#clip8000)\">\n",
       "<text style=\"fill:#000000; fill-opacity:1; font-family:Arial,Helvetica Neue,Helvetica,sans-serif; font-size:66px; text-anchor:middle;\" transform=\"rotate(0, 1286.2, 1590.4)\" x=\"1286.2\" y=\"1590.4\">x</text>\n",
       "</g>\n",
       "<g clip-path=\"url(#clip8000)\">\n",
       "<text style=\"fill:#000000; fill-opacity:1; font-family:Arial,Helvetica Neue,Helvetica,sans-serif; font-size:66px; text-anchor:middle;\" transform=\"rotate(-90, 128.749, 783.233)\" x=\"128.749\" y=\"783.233\">y</text>\n",
       "</g>\n",
       "<polyline clip-path=\"url(#clip8002)\" style=\"stroke:#009af9; stroke-width:4; stroke-opacity:1; fill:none\" points=\"\n",
       "  1391.4,1394.95 1341.29,1394.72 1286.66,1393.99 1228.28,1392.82 1166.95,1391.27 1103.43,1389.46 1038.46,1387.52 972.782,1385.6 907.104,1383.83 842.11,1382.35 \n",
       "  778.459,1381.3 716.783,1380.76 657.689,1380.82 601.752,1381.49 549.512,1382.79 501.468,1384.68 458.076,1387.06 419.734,1389.82 386.784,1392.8 359.496,1395.8 \n",
       "  338.069,1398.59 322.621,1400.94 313.191,1402.59 309.737,1403.28 312.135,1402.74 320.189,1400.74 333.637,1397.05 352.158,1391.46 375.385,1383.8 402.917,1373.96 \n",
       "  434.329,1361.82 469.187,1347.33 507.057,1330.48 547.516,1311.27 590.159,1289.75 634.608,1266 680.516,1240.13 727.569,1212.25 775.488,1182.5 824.034,1151.05 \n",
       "  872.999,1118.05 922.213,1083.67 971.536,1048.08 1020.85,1011.48 1070.08,974.018 1119.16,935.887 1168.03,897.255 1216.67,858.292 1265.06,819.164 1313.18,780.035 \n",
       "  1361.02,741.063 1408.57,702.402 1455.83,664.203 1502.78,626.612 1549.4,589.772 1595.65,553.819 1641.49,518.887 1686.86,485.103 1731.7,452.59 1775.9,421.464 \n",
       "  1819.37,391.833 1861.96,363.798 1903.54,337.45 1943.94,312.869 1982.97,290.125 2020.43,269.273 2056.1,250.351 2089.75,233.385 2121.13,218.38 2150,205.324 \n",
       "  2176.11,194.185 2199.22,184.911 2219.08,177.432 2235.47,171.656 2248.18,167.475 2257.05,164.764 2261.91,163.385 2262.67,163.187 2259.24,164.012 2251.6,165.697 \n",
       "  2239.75,168.079 2223.75,170.997 2203.68,174.296 2179.68,177.832 2151.92,181.472 2120.6,185.099 2085.92,188.611 2048.13,191.924 2007.49,194.972 1964.25,197.706 \n",
       "  1918.68,200.093 1871.04,202.116 1821.59,203.774 1770.58,205.078 1718.27,206.05 1664.87,206.723 1610.65,207.139 1555.85,207.346 1500.83,207.405 1445.87,207.383 \n",
       "  1391.41,207.362 \n",
       "  \"/>\n",
       "<circle clip-path=\"url(#clip8002)\" style=\"fill:#000000; stroke:none; fill-opacity:1\" cx=\"1391.4\" cy=\"1394.95\" r=\"18\"/>\n",
       "<circle clip-path=\"url(#clip8002)\" style=\"fill:#ff0000; stroke:none; fill-opacity:1\" cx=\"1391.4\" cy=\"1394.95\" r=\"14\"/>\n",
       "<circle clip-path=\"url(#clip8002)\" style=\"fill:#000000; stroke:none; fill-opacity:1\" cx=\"1391.41\" cy=\"207.362\" r=\"18\"/>\n",
       "<circle clip-path=\"url(#clip8002)\" style=\"fill:#008000; stroke:none; fill-opacity:1\" cx=\"1391.41\" cy=\"207.362\" r=\"14\"/>\n",
       "<polygon clip-path=\"url(#clip8000)\" points=\"\n",
       "1915.64,390.944 2249.26,390.944 2249.26,209.504 1915.64,209.504 \n",
       "  \" fill=\"#ffffff\" fill-rule=\"evenodd\" fill-opacity=\"1\"/>\n",
       "<polyline clip-path=\"url(#clip8000)\" style=\"stroke:#000000; stroke-width:4; stroke-opacity:1; fill:none\" points=\"\n",
       "  1915.64,390.944 2249.26,390.944 2249.26,209.504 1915.64,209.504 1915.64,390.944 \n",
       "  \"/>\n",
       "<polyline clip-path=\"url(#clip8000)\" style=\"stroke:#ff0000; stroke-width:4; stroke-opacity:1; fill:none\" points=\"\n",
       "  1939.64,269.984 2083.64,269.984 \n",
       "  \"/>\n",
       "<circle clip-path=\"url(#clip8000)\" style=\"fill:#000000; stroke:none; fill-opacity:1\" cx=\"2023.64\" cy=\"269.984\" r=\"25\"/>\n",
       "<circle clip-path=\"url(#clip8000)\" style=\"fill:#ff0000; stroke:none; fill-opacity:1\" cx=\"2023.64\" cy=\"269.984\" r=\"21\"/>\n",
       "<g clip-path=\"url(#clip8000)\">\n",
       "<text style=\"fill:#000000; fill-opacity:1; font-family:Arial,Helvetica Neue,Helvetica,sans-serif; font-size:48px; text-anchor:start;\" transform=\"rotate(0, 2107.64, 287.484)\" x=\"2107.64\" y=\"287.484\">start</text>\n",
       "</g>\n",
       "<polyline clip-path=\"url(#clip8000)\" style=\"stroke:#008000; stroke-width:4; stroke-opacity:1; fill:none\" points=\"\n",
       "  1939.64,330.464 2083.64,330.464 \n",
       "  \"/>\n",
       "<circle clip-path=\"url(#clip8000)\" style=\"fill:#000000; stroke:none; fill-opacity:1\" cx=\"2023.64\" cy=\"330.464\" r=\"25\"/>\n",
       "<circle clip-path=\"url(#clip8000)\" style=\"fill:#008000; stroke:none; fill-opacity:1\" cx=\"2023.64\" cy=\"330.464\" r=\"21\"/>\n",
       "<g clip-path=\"url(#clip8000)\">\n",
       "<text style=\"fill:#000000; fill-opacity:1; font-family:Arial,Helvetica Neue,Helvetica,sans-serif; font-size:48px; text-anchor:start;\" transform=\"rotate(0, 2107.64, 347.964)\" x=\"2107.64\" y=\"347.964\">goal</text>\n",
       "</g>\n",
       "</svg>\n"
      ]
     },
     "execution_count": 8,
     "metadata": {},
     "output_type": "execute_result"
    }
   ],
   "source": [
    "x = [prob.X[k][1] for k = 1:N]\n",
    "y = [prob.X[k][2] for k = 1:N]\n",
    "\n",
    "plot(x,y,xlabel=\"x\",ylabel=\"y\",label=\"\",title=\"state trajectory\")\n",
    "plot!((x[1],y[1]),marker=:circle,color=:red,label=\"start\")\n",
    "plot!((x[end],y[end]),marker=:circle,color=:green,label=\"goal\")"
   ]
  },
  {
   "cell_type": "code",
   "execution_count": 9,
   "metadata": {},
   "outputs": [
    {
     "data": {
      "image/svg+xml": [
       "<?xml version=\"1.0\" encoding=\"utf-8\"?>\n",
       "<svg xmlns=\"http://www.w3.org/2000/svg\" xmlns:xlink=\"http://www.w3.org/1999/xlink\" width=\"600\" height=\"400\" viewBox=\"0 0 2400 1600\">\n",
       "<defs>\n",
       "  <clipPath id=\"clip8400\">\n",
       "    <rect x=\"0\" y=\"0\" width=\"2400\" height=\"1600\"/>\n",
       "  </clipPath>\n",
       "</defs>\n",
       "<polygon clip-path=\"url(#clip8400)\" points=\"\n",
       "0,1600 2400,1600 2400,0 0,0 \n",
       "  \" fill=\"#ffffff\" fill-rule=\"evenodd\" fill-opacity=\"1\"/>\n",
       "<defs>\n",
       "  <clipPath id=\"clip8401\">\n",
       "    <rect x=\"480\" y=\"0\" width=\"1681\" height=\"1600\"/>\n",
       "  </clipPath>\n",
       "</defs>\n",
       "<polygon clip-path=\"url(#clip8400)\" points=\"\n",
       "189.504,1440.48 2321.26,1440.48 2321.26,125.984 189.504,125.984 \n",
       "  \" fill=\"#ffffff\" fill-rule=\"evenodd\" fill-opacity=\"1\"/>\n",
       "<defs>\n",
       "  <clipPath id=\"clip8402\">\n",
       "    <rect x=\"189\" y=\"125\" width=\"2133\" height=\"1315\"/>\n",
       "  </clipPath>\n",
       "</defs>\n",
       "<polyline clip-path=\"url(#clip8402)\" style=\"stroke:#000000; stroke-width:2; stroke-opacity:0.1; fill:none\" points=\"\n",
       "  229.523,1440.48 229.523,125.984 \n",
       "  \"/>\n",
       "<polyline clip-path=\"url(#clip8402)\" style=\"stroke:#000000; stroke-width:2; stroke-opacity:0.1; fill:none\" points=\"\n",
       "  737.374,1440.48 737.374,125.984 \n",
       "  \"/>\n",
       "<polyline clip-path=\"url(#clip8402)\" style=\"stroke:#000000; stroke-width:2; stroke-opacity:0.1; fill:none\" points=\"\n",
       "  1245.22,1440.48 1245.22,125.984 \n",
       "  \"/>\n",
       "<polyline clip-path=\"url(#clip8402)\" style=\"stroke:#000000; stroke-width:2; stroke-opacity:0.1; fill:none\" points=\"\n",
       "  1753.08,1440.48 1753.08,125.984 \n",
       "  \"/>\n",
       "<polyline clip-path=\"url(#clip8402)\" style=\"stroke:#000000; stroke-width:2; stroke-opacity:0.1; fill:none\" points=\"\n",
       "  2260.93,1440.48 2260.93,125.984 \n",
       "  \"/>\n",
       "<polyline clip-path=\"url(#clip8402)\" style=\"stroke:#000000; stroke-width:2; stroke-opacity:0.1; fill:none\" points=\"\n",
       "  189.504,1183.01 2321.26,1183.01 \n",
       "  \"/>\n",
       "<polyline clip-path=\"url(#clip8402)\" style=\"stroke:#000000; stroke-width:2; stroke-opacity:0.1; fill:none\" points=\"\n",
       "  189.504,848.672 2321.26,848.672 \n",
       "  \"/>\n",
       "<polyline clip-path=\"url(#clip8402)\" style=\"stroke:#000000; stroke-width:2; stroke-opacity:0.1; fill:none\" points=\"\n",
       "  189.504,514.334 2321.26,514.334 \n",
       "  \"/>\n",
       "<polyline clip-path=\"url(#clip8402)\" style=\"stroke:#000000; stroke-width:2; stroke-opacity:0.1; fill:none\" points=\"\n",
       "  189.504,179.996 2321.26,179.996 \n",
       "  \"/>\n",
       "<polyline clip-path=\"url(#clip8400)\" style=\"stroke:#000000; stroke-width:4; stroke-opacity:1; fill:none\" points=\"\n",
       "  189.504,1440.48 2321.26,1440.48 \n",
       "  \"/>\n",
       "<polyline clip-path=\"url(#clip8400)\" style=\"stroke:#000000; stroke-width:4; stroke-opacity:1; fill:none\" points=\"\n",
       "  189.504,1440.48 189.504,125.984 \n",
       "  \"/>\n",
       "<polyline clip-path=\"url(#clip8400)\" style=\"stroke:#000000; stroke-width:4; stroke-opacity:1; fill:none\" points=\"\n",
       "  229.523,1440.48 229.523,1420.77 \n",
       "  \"/>\n",
       "<polyline clip-path=\"url(#clip8400)\" style=\"stroke:#000000; stroke-width:4; stroke-opacity:1; fill:none\" points=\"\n",
       "  737.374,1440.48 737.374,1420.77 \n",
       "  \"/>\n",
       "<polyline clip-path=\"url(#clip8400)\" style=\"stroke:#000000; stroke-width:4; stroke-opacity:1; fill:none\" points=\"\n",
       "  1245.22,1440.48 1245.22,1420.77 \n",
       "  \"/>\n",
       "<polyline clip-path=\"url(#clip8400)\" style=\"stroke:#000000; stroke-width:4; stroke-opacity:1; fill:none\" points=\"\n",
       "  1753.08,1440.48 1753.08,1420.77 \n",
       "  \"/>\n",
       "<polyline clip-path=\"url(#clip8400)\" style=\"stroke:#000000; stroke-width:4; stroke-opacity:1; fill:none\" points=\"\n",
       "  2260.93,1440.48 2260.93,1420.77 \n",
       "  \"/>\n",
       "<polyline clip-path=\"url(#clip8400)\" style=\"stroke:#000000; stroke-width:4; stroke-opacity:1; fill:none\" points=\"\n",
       "  189.504,1183.01 221.48,1183.01 \n",
       "  \"/>\n",
       "<polyline clip-path=\"url(#clip8400)\" style=\"stroke:#000000; stroke-width:4; stroke-opacity:1; fill:none\" points=\"\n",
       "  189.504,848.672 221.48,848.672 \n",
       "  \"/>\n",
       "<polyline clip-path=\"url(#clip8400)\" style=\"stroke:#000000; stroke-width:4; stroke-opacity:1; fill:none\" points=\"\n",
       "  189.504,514.334 221.48,514.334 \n",
       "  \"/>\n",
       "<polyline clip-path=\"url(#clip8400)\" style=\"stroke:#000000; stroke-width:4; stroke-opacity:1; fill:none\" points=\"\n",
       "  189.504,179.996 221.48,179.996 \n",
       "  \"/>\n",
       "<g clip-path=\"url(#clip8400)\">\n",
       "<text style=\"fill:#000000; fill-opacity:1; font-family:Arial,Helvetica Neue,Helvetica,sans-serif; font-size:48px; text-anchor:middle;\" transform=\"rotate(0, 229.523, 1494.48)\" x=\"229.523\" y=\"1494.48\">0</text>\n",
       "</g>\n",
       "<g clip-path=\"url(#clip8400)\">\n",
       "<text style=\"fill:#000000; fill-opacity:1; font-family:Arial,Helvetica Neue,Helvetica,sans-serif; font-size:48px; text-anchor:middle;\" transform=\"rotate(0, 737.374, 1494.48)\" x=\"737.374\" y=\"1494.48\">25</text>\n",
       "</g>\n",
       "<g clip-path=\"url(#clip8400)\">\n",
       "<text style=\"fill:#000000; fill-opacity:1; font-family:Arial,Helvetica Neue,Helvetica,sans-serif; font-size:48px; text-anchor:middle;\" transform=\"rotate(0, 1245.22, 1494.48)\" x=\"1245.22\" y=\"1494.48\">50</text>\n",
       "</g>\n",
       "<g clip-path=\"url(#clip8400)\">\n",
       "<text style=\"fill:#000000; fill-opacity:1; font-family:Arial,Helvetica Neue,Helvetica,sans-serif; font-size:48px; text-anchor:middle;\" transform=\"rotate(0, 1753.08, 1494.48)\" x=\"1753.08\" y=\"1494.48\">75</text>\n",
       "</g>\n",
       "<g clip-path=\"url(#clip8400)\">\n",
       "<text style=\"fill:#000000; fill-opacity:1; font-family:Arial,Helvetica Neue,Helvetica,sans-serif; font-size:48px; text-anchor:middle;\" transform=\"rotate(0, 2260.93, 1494.48)\" x=\"2260.93\" y=\"1494.48\">100</text>\n",
       "</g>\n",
       "<g clip-path=\"url(#clip8400)\">\n",
       "<text style=\"fill:#000000; fill-opacity:1; font-family:Arial,Helvetica Neue,Helvetica,sans-serif; font-size:48px; text-anchor:end;\" transform=\"rotate(0, 165.504, 1200.51)\" x=\"165.504\" y=\"1200.51\">-0.2</text>\n",
       "</g>\n",
       "<g clip-path=\"url(#clip8400)\">\n",
       "<text style=\"fill:#000000; fill-opacity:1; font-family:Arial,Helvetica Neue,Helvetica,sans-serif; font-size:48px; text-anchor:end;\" transform=\"rotate(0, 165.504, 866.172)\" x=\"165.504\" y=\"866.172\">0.0</text>\n",
       "</g>\n",
       "<g clip-path=\"url(#clip8400)\">\n",
       "<text style=\"fill:#000000; fill-opacity:1; font-family:Arial,Helvetica Neue,Helvetica,sans-serif; font-size:48px; text-anchor:end;\" transform=\"rotate(0, 165.504, 531.834)\" x=\"165.504\" y=\"531.834\">0.2</text>\n",
       "</g>\n",
       "<g clip-path=\"url(#clip8400)\">\n",
       "<text style=\"fill:#000000; fill-opacity:1; font-family:Arial,Helvetica Neue,Helvetica,sans-serif; font-size:48px; text-anchor:end;\" transform=\"rotate(0, 165.504, 197.496)\" x=\"165.504\" y=\"197.496\">0.4</text>\n",
       "</g>\n",
       "<g clip-path=\"url(#clip8400)\">\n",
       "<text style=\"fill:#000000; fill-opacity:1; font-family:Arial,Helvetica Neue,Helvetica,sans-serif; font-size:84px; text-anchor:middle;\" transform=\"rotate(0, 1255.38, 73.2)\" x=\"1255.38\" y=\"73.2\">control trajectory</text>\n",
       "</g>\n",
       "<g clip-path=\"url(#clip8400)\">\n",
       "<text style=\"fill:#000000; fill-opacity:1; font-family:Arial,Helvetica Neue,Helvetica,sans-serif; font-size:66px; text-anchor:middle;\" transform=\"rotate(0, 1255.38, 1590.4)\" x=\"1255.38\" y=\"1590.4\">time step</text>\n",
       "</g>\n",
       "<polyline clip-path=\"url(#clip8402)\" style=\"stroke:#009af9; stroke-width:4; stroke-opacity:1; fill:none\" points=\"\n",
       "  249.837,1271.38 270.151,1309.57 290.465,1341.28 310.779,1366.44 331.093,1385.08 351.407,1397.31 371.721,1403.28 392.035,1403.18 412.349,1397.25 432.663,1385.74 \n",
       "  452.977,1368.93 473.291,1347.1 493.605,1320.57 513.919,1289.68 534.233,1254.77 554.547,1216.21 574.862,1174.4 595.176,1129.74 615.49,1082.68 635.804,1033.65 \n",
       "  656.118,983.109 676.432,931.53 696.746,879.371 717.06,827.087 737.374,775.116 757.688,723.876 778.002,673.753 798.316,625.099 818.63,578.226 838.944,533.404 \n",
       "  859.258,490.856 879.572,450.763 899.886,413.262 920.2,378.446 940.514,346.375 960.828,317.071 981.142,290.528 1001.46,266.717 1021.77,245.587 1042.08,227.072 \n",
       "  1062.4,211.095 1082.71,197.575 1103.03,186.421 1123.34,177.548 1143.65,170.868 1163.97,166.298 1184.28,163.762 1204.6,163.187 1224.91,164.51 1245.22,167.676 \n",
       "  1265.54,172.634 1285.85,179.345 1306.17,187.776 1326.48,197.9 1346.8,209.696 1367.11,223.15 1387.42,238.252 1407.74,254.993 1428.05,273.367 1448.37,293.37 \n",
       "  1468.68,314.993 1488.99,338.228 1509.31,363.058 1529.62,389.462 1549.94,417.409 1570.25,446.856 1590.56,477.749 1610.88,510.018 1631.19,543.575 1651.51,578.316 \n",
       "  1671.82,614.117 1692.13,650.832 1712.45,688.297 1732.76,726.328 1753.08,764.72 1773.39,803.256 1793.7,841.704 1814.02,879.823 1834.33,917.368 1854.65,954.098 \n",
       "  1874.96,989.775 1895.27,1024.18 1915.59,1057.1 1935.9,1088.36 1956.22,1117.81 1976.53,1145.31 1996.84,1170.78 2017.16,1194.15 2037.47,1215.4 2057.79,1234.5 \n",
       "  2078.1,1251.49 2098.41,1266.4 2118.73,1279.28 2139.04,1290.17 2159.36,1299.11 2179.67,1306.07 2199.99,1310.84 2220.3,1312.74 2240.61,1312.22 2260.93,1308.05 \n",
       "  \n",
       "  \"/>\n",
       "<polyline clip-path=\"url(#clip8402)\" style=\"stroke:#e26f46; stroke-width:4; stroke-opacity:1; fill:none\" points=\"\n",
       "  249.837,1111.29 270.151,1064.59 290.465,1015.59 310.779,964.877 331.093,913.019 351.407,860.544 371.721,807.939 392.035,755.659 412.349,704.126 432.663,653.732 \n",
       "  452.977,604.848 473.291,557.822 493.605,512.984 513.919,470.645 534.233,431.096 554.547,394.61 574.862,361.431 595.176,331.779 615.49,305.841 635.804,283.766 \n",
       "  656.118,265.663 676.432,251.599 696.746,241.592 717.06,235.614 737.374,233.591 757.688,235.404 778.002,240.894 798.316,249.865 818.63,262.093 838.944,277.327 \n",
       "  859.258,295.302 879.572,315.744 899.886,338.374 920.2,362.916 940.514,389.104 960.828,416.682 981.142,445.413 1001.46,475.076 1021.77,505.47 1042.08,536.415 \n",
       "  1062.4,567.752 1082.71,599.342 1103.03,631.063 1123.34,662.813 1143.65,694.505 1163.97,726.063 1184.28,757.426 1204.6,788.542 1224.91,819.367 1245.22,849.86 \n",
       "  1265.54,879.988 1285.85,909.718 1306.17,939.018 1326.48,967.854 1346.8,996.192 1367.11,1023.99 1387.42,1051.21 1407.74,1077.79 1428.05,1103.69 1448.37,1128.83 \n",
       "  1468.68,1153.15 1488.99,1176.56 1509.31,1198.98 1529.62,1220.32 1549.94,1240.46 1570.25,1259.31 1590.56,1276.74 1610.88,1292.64 1631.19,1306.89 1651.51,1319.37 \n",
       "  1671.82,1329.97 1692.13,1338.57 1712.45,1345.09 1732.76,1349.44 1753.08,1351.54 1773.39,1351.34 1793.7,1348.83 1814.02,1343.99 1834.33,1336.86 1854.65,1327.47 \n",
       "  1874.96,1315.92 1895.27,1302.29 1915.59,1286.71 1935.9,1269.32 1956.22,1250.28 1976.53,1229.75 1996.84,1207.89 2017.16,1184.86 2037.47,1160.82 2057.79,1135.92 \n",
       "  2078.1,1110.27 2098.41,1083.95 2118.73,1057.03 2139.04,1029.48 2159.36,1001.21 2179.67,971.945 2199.99,941.154 2220.3,907.937 2240.61,871.324 2260.93,826.277 \n",
       "  \n",
       "  \"/>\n",
       "</svg>\n"
      ]
     },
     "execution_count": 9,
     "metadata": {},
     "output_type": "execute_result"
    }
   ],
   "source": [
    "plot(prob.U,xlabel=\"time step\",legend=:none,title=\"control trajectory\")"
   ]
  }
 ],
 "metadata": {
  "@webio": {
   "lastCommId": null,
   "lastKernelId": null
  },
  "kernelspec": {
   "display_name": "Julia 1.1.0",
   "language": "julia",
   "name": "julia-1.1"
  },
  "language_info": {
   "file_extension": ".jl",
   "mimetype": "application/julia",
   "name": "julia",
   "version": "1.1.0"
  }
 },
 "nbformat": 4,
 "nbformat_minor": 2
}
