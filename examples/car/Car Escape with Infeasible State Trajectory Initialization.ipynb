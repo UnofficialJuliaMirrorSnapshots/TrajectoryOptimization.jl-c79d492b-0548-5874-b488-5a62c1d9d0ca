{
 "cells": [
  {
   "cell_type": "markdown",
   "metadata": {},
   "source": [
    "## Car Escape with Infeasible State Trajectory Initialization"
   ]
  },
  {
   "cell_type": "code",
   "execution_count": 1,
   "metadata": {},
   "outputs": [
    {
     "name": "stderr",
     "output_type": "stream",
     "text": [
      "┌ Info: Recompiling stale cache file /home/taylor/.julia/compiled/v1.1/TrajectoryOptimization/UVgeA.ji for TrajectoryOptimization [c79d492b-0548-5874-b488-5a62c1d9d0ca]\n",
      "└ @ Base loading.jl:1184\n"
     ]
    }
   ],
   "source": [
    "using TrajectoryOptimization\n",
    "using Plots, LinearAlgebra, ForwardDiff"
   ]
  },
  {
   "cell_type": "markdown",
   "metadata": {},
   "source": [
    "Import the car model"
   ]
  },
  {
   "cell_type": "code",
   "execution_count": 2,
   "metadata": {},
   "outputs": [],
   "source": [
    "model = Dynamics.car_model\n",
    "n = model.n # number of states\n",
    "m = model.m; # number of controls"
   ]
  },
  {
   "cell_type": "markdown",
   "metadata": {},
   "source": [
    "Define numerical type"
   ]
  },
  {
   "cell_type": "code",
   "execution_count": 3,
   "metadata": {},
   "outputs": [],
   "source": [
    "T = Float64;"
   ]
  },
  {
   "cell_type": "markdown",
   "metadata": {},
   "source": [
    "Define initial and goal states"
   ]
  },
  {
   "cell_type": "code",
   "execution_count": 4,
   "metadata": {},
   "outputs": [
    {
     "data": {
      "text/plain": [
       "3-element Array{Float64,1}:\n",
       " 7.5\n",
       " 2.5\n",
       " 0.0"
      ]
     },
     "execution_count": 4,
     "metadata": {},
     "output_type": "execute_result"
    }
   ],
   "source": [
    "x0 = [2.5;2.5;0.]\n",
    "xf = [7.5;2.5;0.]"
   ]
  },
  {
   "cell_type": "markdown",
   "metadata": {},
   "source": [
    "Define a cost function, e.g., quadratic"
   ]
  },
  {
   "cell_type": "code",
   "execution_count": 5,
   "metadata": {},
   "outputs": [],
   "source": [
    "Qf = 100.0*Diagonal(I,n)\n",
    "Q = (1e-3)*Diagonal(I,n)\n",
    "R = (1e-2)*Diagonal(I,m)\n",
    "cost = LQRCost(Q,R,Qf,xf);"
   ]
  },
  {
   "cell_type": "markdown",
   "metadata": {},
   "source": [
    "Define constraints"
   ]
  },
  {
   "cell_type": "code",
   "execution_count": 6,
   "metadata": {},
   "outputs": [
    {
     "data": {
      "text/plain": [
       "Constraint{Equality}(getfield(TrajectoryOptimization, Symbol(\"#terminal_constraint#23\")){Array{Float64,1}}([7.5, 2.5, 0.0]), getfield(TrajectoryOptimization, Symbol(\"#terminal_jacobian#24\")){Int64}(3), 3, :goal, Array{Int64,1}[[1, 2, 3], []], :terminal)"
      ]
     },
     "execution_count": 6,
     "metadata": {},
     "output_type": "execute_result"
    }
   ],
   "source": [
    "u_min = [-5.; -5.]\n",
    "u_max = [5.; 5.]\n",
    "bnd = BoundConstraint(n,m,u_min=u_min,u_max=u_max,trim=true)\n",
    "\n",
    "goal = goal_constraint(xf)"
   ]
  },
  {
   "cell_type": "markdown",
   "metadata": {},
   "source": [
    "Construct trap constraint"
   ]
  },
  {
   "cell_type": "code",
   "execution_count": 8,
   "metadata": {},
   "outputs": [],
   "source": [
    "r = 0.5\n",
    "s1 = 30; s2 = 50; s3 = 15\n",
    "\n",
    "circles_escape = []\n",
    "\n",
    "for i in range(0,stop=5,length=s1)\n",
    "    push!(circles_escape,(0.,i,r))\n",
    "end\n",
    "for i in range(0,stop=5,length=s1)\n",
    "    push!(circles_escape,(5.,i,r))\n",
    "end\n",
    "for i in range(0,stop=5,length=s1)\n",
    "    push!(circles_escape,(10.,i,r))\n",
    "end\n",
    "for i in range(0,stop=10,length=s2)\n",
    "    push!(circles_escape,(i,0.,r))\n",
    "end\n",
    "for i in range(0,stop=3,length=s3)\n",
    "    push!(circles_escape,(i,5.,r))\n",
    "end\n",
    "for i in range(5,stop=8,length=s3)\n",
    "    push!(circles_escape,(i,5.,r))\n",
    "end\n",
    "\n",
    "n_circles_escape = 3*s1 + s2 + 2*s3\n",
    "\n",
    "function cI_escape(c,x,u)\n",
    "    for i = 1:n_circles_escape\n",
    "        c[i] = circle_constraint(x,circles_escape[i][1],circles_escape[i][2],circles_escape[i][3])\n",
    "    end\n",
    "end\n",
    "\n",
    "cI_wrap(c,z) = cI_escape(c,z[1:n],z[n .+ (1:m)])\n",
    "\n",
    "ForwardDiff.jacobian(cI_wrap,zeros(n_circles_escape),rand(n+m))\n",
    "\n",
    "function ∇cI_escape(C,x,u)\n",
    "    copyto!(C,ForwardDiff.jacobian(cI_wrap,zeros(n_circles_escape),[x;u]))\n",
    "end\n",
    "\n",
    "trap = Constraint{Inequality}(cI_escape,∇cI_escape,n,m,n_circles_escape,:trap);"
   ]
  },
  {
   "cell_type": "markdown",
   "metadata": {},
   "source": [
    "Create constraint set"
   ]
  },
  {
   "cell_type": "code",
   "execution_count": 9,
   "metadata": {},
   "outputs": [],
   "source": [
    "con = [bnd,trap,goal];"
   ]
  },
  {
   "cell_type": "markdown",
   "metadata": {},
   "source": [
    "Set options"
   ]
  },
  {
   "cell_type": "code",
   "execution_count": 10,
   "metadata": {},
   "outputs": [],
   "source": [
    "verbose=false\n",
    "opts_ilqr = iLQRSolverOptions{T}(verbose=false,live_plotting=:off)\n",
    "\n",
    "opts_al = AugmentedLagrangianSolverOptions{T}(verbose=false,opts_uncon=opts_ilqr,\n",
    "    cost_tolerance=1.0e-4,cost_tolerance_intermediate=1.0e-2,constraint_tolerance=1.0e-3,penalty_scaling=10.,penalty_initial=1.)\n",
    "\n",
    "opts_altro = ALTROSolverOptions{T}(verbose=false,opts_al=opts_al,R_inf=1.0);"
   ]
  },
  {
   "cell_type": "markdown",
   "metadata": {},
   "source": [
    "Define a problem"
   ]
  },
  {
   "cell_type": "code",
   "execution_count": 11,
   "metadata": {},
   "outputs": [],
   "source": [
    "N = 101\n",
    "tf = 3.0\n",
    "U = [ones(m) for k = 1:N-1]\n",
    "obj = Objective(cost,N)\n",
    "constraints = ProblemConstraints(con,N)\n",
    "\n",
    "prob = Problem(model,obj,constraints=constraints,N=N,tf=tf,x0=x0)\n",
    "initial_controls!(prob, U);"
   ]
  },
  {
   "cell_type": "markdown",
   "metadata": {},
   "source": [
    "Infeasible state trajectory"
   ]
  },
  {
   "cell_type": "code",
   "execution_count": 12,
   "metadata": {},
   "outputs": [
    {
     "ename": "UndefVarError",
     "evalue": "UndefVarError: interp_rows not defined",
     "output_type": "error",
     "traceback": [
      "UndefVarError: interp_rows not defined",
      "",
      "Stacktrace:",
      " [1] getproperty(::Module, ::Symbol) at ./sysimg.jl:13",
      " [2] top-level scope at In[12]:2"
     ]
    }
   ],
   "source": [
    "X_guess = [2.5 2.5 0.;4. 5. .785;5. 6.25 0.;7.5 6.25 -.261;9 5. -1.57;7.5 2.5 0.]\n",
    "X0 = TrajectoryOptimization.interp_rows(N,tf,Array(X_guess'));"
   ]
  },
  {
   "cell_type": "code",
   "execution_count": 13,
   "metadata": {},
   "outputs": [
    {
     "ename": "UndefVarError",
     "evalue": "UndefVarError: X0 not defined",
     "output_type": "error",
     "traceback": [
      "UndefVarError: X0 not defined",
      "",
      "Stacktrace:",
      " [1] top-level scope at In[13]:3"
     ]
    }
   ],
   "source": [
    "plot(labels=\"\")\n",
    "plot_obstacles(circles_escape,:grey)\n",
    "plot!(X0[1,:],X0[2,:],width=2,color=:purple,label=\"X_guess\")\n",
    "plot!((x0[1],x0[1]),marker=:circle,color=:red,label=\"start\")\n",
    "plot!((xf[1],xf[2]),marker=:circle,color=:green,label=\"goal\",legend=:left)"
   ]
  },
  {
   "cell_type": "markdown",
   "metadata": {},
   "source": [
    "Initialize problem with state trajectory"
   ]
  },
  {
   "cell_type": "code",
   "execution_count": 14,
   "metadata": {},
   "outputs": [
    {
     "ename": "UndefVarError",
     "evalue": "UndefVarError: X0 not defined",
     "output_type": "error",
     "traceback": [
      "UndefVarError: X0 not defined",
      "",
      "Stacktrace:",
      " [1] top-level scope at In[14]:1"
     ]
    }
   ],
   "source": [
    "copyto!(prob.X,X0);"
   ]
  },
  {
   "cell_type": "markdown",
   "metadata": {},
   "source": [
    "Solve problem"
   ]
  },
  {
   "cell_type": "code",
   "execution_count": null,
   "metadata": {
    "scrolled": false
   },
   "outputs": [],
   "source": [
    "solve!(prob, opts_altro) # solve with ALTRO"
   ]
  },
  {
   "cell_type": "markdown",
   "metadata": {},
   "source": [
    "Plot state trajectories"
   ]
  },
  {
   "cell_type": "code",
   "execution_count": null,
   "metadata": {},
   "outputs": [],
   "source": [
    "x = [prob.X[k][1] for k = 1:N]\n",
    "y = [prob.X[k][2] for k = 1:N];"
   ]
  },
  {
   "cell_type": "code",
   "execution_count": null,
   "metadata": {},
   "outputs": [],
   "source": [
    "plot(labels=\"\")\n",
    "plot_obstacles(circles_escape,:grey)\n",
    "plot!(X0[1,:],X0[2,:],width=2,color=:purple,label=\"X_guess\")\n",
    "plot!(x,y,width=2,color=:blue,label=\"ALTRO\")\n",
    "plot!((x0[1],x0[1]),marker=:circle,color=:red,label=\"start\")\n",
    "plot!((xf[1],xf[2]),marker=:circle,color=:green,label=\"goal\",legend=:left)"
   ]
  }
 ],
 "metadata": {
  "@webio": {
   "lastCommId": null,
   "lastKernelId": null
  },
  "kernelspec": {
   "display_name": "Julia 1.1.0",
   "language": "julia",
   "name": "julia-1.1"
  },
  "language_info": {
   "file_extension": ".jl",
   "mimetype": "application/julia",
   "name": "julia",
   "version": "1.1.0"
  }
 },
 "nbformat": 4,
 "nbformat_minor": 2
}
