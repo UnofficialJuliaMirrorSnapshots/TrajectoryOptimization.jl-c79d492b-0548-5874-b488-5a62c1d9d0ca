{
 "cells": [
  {
   "cell_type": "markdown",
   "metadata": {},
   "source": [
    "## Car Minimum Time"
   ]
  },
  {
   "cell_type": "code",
   "execution_count": 1,
   "metadata": {},
   "outputs": [
    {
     "name": "stderr",
     "output_type": "stream",
     "text": [
      "┌ Info: Recompiling stale cache file /home/taylor/.julia/compiled/v1.1/TrajectoryOptimization/UVgeA.ji for TrajectoryOptimization [c79d492b-0548-5874-b488-5a62c1d9d0ca]\n",
      "└ @ Base loading.jl:1184\n"
     ]
    }
   ],
   "source": [
    "using TrajectoryOptimization\n",
    "using Plots, LinearAlgebra"
   ]
  },
  {
   "cell_type": "markdown",
   "metadata": {},
   "source": [
    "Import the car model"
   ]
  },
  {
   "cell_type": "code",
   "execution_count": 2,
   "metadata": {},
   "outputs": [],
   "source": [
    "model = Dynamics.car_model\n",
    "n = model.n # number of states\n",
    "m = model.m; # number of control"
   ]
  },
  {
   "cell_type": "markdown",
   "metadata": {},
   "source": [
    "Define numerical type"
   ]
  },
  {
   "cell_type": "code",
   "execution_count": 3,
   "metadata": {},
   "outputs": [],
   "source": [
    "T = Float64;"
   ]
  },
  {
   "cell_type": "markdown",
   "metadata": {},
   "source": [
    "Define initial and goals states"
   ]
  },
  {
   "cell_type": "code",
   "execution_count": 4,
   "metadata": {},
   "outputs": [],
   "source": [
    "x0 = [0.0;0.0;0.0]\n",
    "xf = [0.0;1.0;0.0];"
   ]
  },
  {
   "cell_type": "markdown",
   "metadata": {},
   "source": [
    "Define a cost function, e.g., quadratic"
   ]
  },
  {
   "cell_type": "code",
   "execution_count": 5,
   "metadata": {},
   "outputs": [],
   "source": [
    "Qf = 100.0*Diagonal(I,n)\n",
    "Q = (1e-2)*Diagonal(I,n)\n",
    "R = (1e-2)*Diagonal(I,m)\n",
    "cost = LQRCost(Q,R,Qf,xf);"
   ]
  },
  {
   "cell_type": "markdown",
   "metadata": {},
   "source": [
    "Define constraints"
   ]
  },
  {
   "cell_type": "code",
   "execution_count": 6,
   "metadata": {},
   "outputs": [],
   "source": [
    "u_bnd = 2.\n",
    "bnd = BoundConstraint(n,m,u_min=-u_bnd,u_max=u_bnd,trim=true)\n",
    "\n",
    "goal_con = goal_constraint(xf)\n",
    "\n",
    "con = [bnd, goal_con];"
   ]
  },
  {
   "cell_type": "markdown",
   "metadata": {},
   "source": [
    "Set options"
   ]
  },
  {
   "cell_type": "code",
   "execution_count": 7,
   "metadata": {},
   "outputs": [],
   "source": [
    "verbose=false\n",
    "opts_ilqr = iLQRSolverOptions{T}(verbose=false,live_plotting=:off)\n",
    "\n",
    "opts_al = AugmentedLagrangianSolverOptions{T}(verbose=false,opts_uncon=opts_ilqr,\n",
    "    iterations=30,penalty_scaling=10.0)\n",
    "\n",
    "opts_altro = ALTROSolverOptions{T}(verbose=false,opts_al=opts_al,R_minimum_time=15.0,\n",
    "    dt_max=0.2,dt_min=1.0e-3);"
   ]
  },
  {
   "cell_type": "markdown",
   "metadata": {},
   "source": [
    "Define a problem"
   ]
  },
  {
   "cell_type": "code",
   "execution_count": 8,
   "metadata": {},
   "outputs": [],
   "source": [
    "N = 51\n",
    "tf = 3.0\n",
    "U = [ones(m) for k = 1:N-1]\n",
    "dt = 0.06\n",
    "obj = Objective(cost,N)\n",
    "constraints = Constraints(con,N)\n",
    "\n",
    "prob = Problem(model,obj,integration=:rk4,constraints=constraints,dt=dt,N=N,x0=x0)\n",
    "initial_controls!(prob, U);"
   ]
  },
  {
   "cell_type": "markdown",
   "metadata": {},
   "source": [
    "Solve problem"
   ]
  },
  {
   "cell_type": "code",
   "execution_count": 9,
   "metadata": {},
   "outputs": [],
   "source": [
    "solve!(prob, opts_altro) # solve with ALTRO"
   ]
  },
  {
   "cell_type": "markdown",
   "metadata": {},
   "source": [
    "Define minimum time problem setting tf to :min"
   ]
  },
  {
   "cell_type": "code",
   "execution_count": 10,
   "metadata": {},
   "outputs": [],
   "source": [
    "U = [ones(m) for k = 1:N-1]\n",
    "\n",
    "prob_mt = Problem(model,obj,constraints=constraints,integration=:rk4,\n",
    "    dt=dt,x0=x0,N=N,tf=:min);\n",
    "initial_controls!(prob_mt, U);"
   ]
  },
  {
   "cell_type": "markdown",
   "metadata": {},
   "source": [
    "Solve minimum time problem"
   ]
  },
  {
   "cell_type": "code",
   "execution_count": 11,
   "metadata": {},
   "outputs": [
    {
     "name": "stderr",
     "output_type": "stream",
     "text": [
      "┌ Info: Minimum Time Solve\n",
      "└ @ TrajectoryOptimization /home/taylor/.julia/dev/TrajectoryOptimization/src/altro.jl:70\n"
     ]
    }
   ],
   "source": [
    "solve!(prob_mt, opts_altro); # solve with ALTRO"
   ]
  },
  {
   "cell_type": "markdown",
   "metadata": {},
   "source": [
    "Plot state trajectories"
   ]
  },
  {
   "cell_type": "code",
   "execution_count": 12,
   "metadata": {},
   "outputs": [],
   "source": [
    "x = [prob.X[k][1] for k = 1:N]\n",
    "y = [prob.X[k][2] for k = 1:N]\n",
    "\n",
    "x_min_time = [prob_mt.X[k][1] for k = 1:N]\n",
    "y_min_time = [prob_mt.X[k][2] for k = 1:N];"
   ]
  },
  {
   "cell_type": "code",
   "execution_count": 13,
   "metadata": {},
   "outputs": [
    {
     "data": {
      "image/svg+xml": [
       "<?xml version=\"1.0\" encoding=\"utf-8\"?>\n",
       "<svg xmlns=\"http://www.w3.org/2000/svg\" xmlns:xlink=\"http://www.w3.org/1999/xlink\" width=\"600\" height=\"400\" viewBox=\"0 0 2400 1600\">\n",
       "<defs>\n",
       "  <clipPath id=\"clip7900\">\n",
       "    <rect x=\"0\" y=\"0\" width=\"2400\" height=\"1600\"/>\n",
       "  </clipPath>\n",
       "</defs>\n",
       "<polygon clip-path=\"url(#clip7900)\" points=\"\n",
       "0,1600 2400,1600 2400,0 0,0 \n",
       "  \" fill=\"#ffffff\" fill-rule=\"evenodd\" fill-opacity=\"1\"/>\n",
       "<defs>\n",
       "  <clipPath id=\"clip7901\">\n",
       "    <rect x=\"480\" y=\"0\" width=\"1681\" height=\"1600\"/>\n",
       "  </clipPath>\n",
       "</defs>\n",
       "<polygon clip-path=\"url(#clip7900)\" points=\"\n",
       "394.926,1425.62 2200.35,1425.62 2200.35,121.675 394.926,121.675 \n",
       "  \" fill=\"#ffffff\" fill-rule=\"evenodd\" fill-opacity=\"1\"/>\n",
       "<defs>\n",
       "  <clipPath id=\"clip7902\">\n",
       "    <rect x=\"394\" y=\"121\" width=\"1806\" height=\"1305\"/>\n",
       "  </clipPath>\n",
       "</defs>\n",
       "<polyline clip-path=\"url(#clip7902)\" style=\"stroke:#000000; stroke-width:2; stroke-opacity:0.1; fill:none\" points=\"\n",
       "  394.926,1425.62 394.926,121.675 \n",
       "  \"/>\n",
       "<polyline clip-path=\"url(#clip7902)\" style=\"stroke:#000000; stroke-width:2; stroke-opacity:0.1; fill:none\" points=\"\n",
       "  695.829,1425.62 695.829,121.675 \n",
       "  \"/>\n",
       "<polyline clip-path=\"url(#clip7902)\" style=\"stroke:#000000; stroke-width:2; stroke-opacity:0.1; fill:none\" points=\"\n",
       "  996.733,1425.62 996.733,121.675 \n",
       "  \"/>\n",
       "<polyline clip-path=\"url(#clip7902)\" style=\"stroke:#000000; stroke-width:2; stroke-opacity:0.1; fill:none\" points=\"\n",
       "  1297.64,1425.62 1297.64,121.675 \n",
       "  \"/>\n",
       "<polyline clip-path=\"url(#clip7902)\" style=\"stroke:#000000; stroke-width:2; stroke-opacity:0.1; fill:none\" points=\"\n",
       "  1598.54,1425.62 1598.54,121.675 \n",
       "  \"/>\n",
       "<polyline clip-path=\"url(#clip7902)\" style=\"stroke:#000000; stroke-width:2; stroke-opacity:0.1; fill:none\" points=\"\n",
       "  1899.44,1425.62 1899.44,121.675 \n",
       "  \"/>\n",
       "<polyline clip-path=\"url(#clip7902)\" style=\"stroke:#000000; stroke-width:2; stroke-opacity:0.1; fill:none\" points=\"\n",
       "  2200.35,1425.62 2200.35,121.675 \n",
       "  \"/>\n",
       "<polyline clip-path=\"url(#clip7902)\" style=\"stroke:#000000; stroke-width:2; stroke-opacity:0.1; fill:none\" points=\"\n",
       "  394.926,1388.71 2200.35,1388.71 \n",
       "  \"/>\n",
       "<polyline clip-path=\"url(#clip7902)\" style=\"stroke:#000000; stroke-width:2; stroke-opacity:0.1; fill:none\" points=\"\n",
       "  394.926,1087.81 2200.35,1087.81 \n",
       "  \"/>\n",
       "<polyline clip-path=\"url(#clip7902)\" style=\"stroke:#000000; stroke-width:2; stroke-opacity:0.1; fill:none\" points=\"\n",
       "  394.926,786.908 2200.35,786.908 \n",
       "  \"/>\n",
       "<polyline clip-path=\"url(#clip7902)\" style=\"stroke:#000000; stroke-width:2; stroke-opacity:0.1; fill:none\" points=\"\n",
       "  394.926,486.004 2200.35,486.004 \n",
       "  \"/>\n",
       "<polyline clip-path=\"url(#clip7902)\" style=\"stroke:#000000; stroke-width:2; stroke-opacity:0.1; fill:none\" points=\"\n",
       "  394.926,185.101 2200.35,185.101 \n",
       "  \"/>\n",
       "<polyline clip-path=\"url(#clip7900)\" style=\"stroke:#000000; stroke-width:4; stroke-opacity:1; fill:none\" points=\"\n",
       "  394.926,1425.62 2200.35,1425.62 \n",
       "  \"/>\n",
       "<polyline clip-path=\"url(#clip7900)\" style=\"stroke:#000000; stroke-width:4; stroke-opacity:1; fill:none\" points=\"\n",
       "  394.926,1425.62 394.926,121.675 \n",
       "  \"/>\n",
       "<polyline clip-path=\"url(#clip7900)\" style=\"stroke:#000000; stroke-width:4; stroke-opacity:1; fill:none\" points=\"\n",
       "  394.926,1425.62 394.926,1406.06 \n",
       "  \"/>\n",
       "<polyline clip-path=\"url(#clip7900)\" style=\"stroke:#000000; stroke-width:4; stroke-opacity:1; fill:none\" points=\"\n",
       "  695.829,1425.62 695.829,1406.06 \n",
       "  \"/>\n",
       "<polyline clip-path=\"url(#clip7900)\" style=\"stroke:#000000; stroke-width:4; stroke-opacity:1; fill:none\" points=\"\n",
       "  996.733,1425.62 996.733,1406.06 \n",
       "  \"/>\n",
       "<polyline clip-path=\"url(#clip7900)\" style=\"stroke:#000000; stroke-width:4; stroke-opacity:1; fill:none\" points=\"\n",
       "  1297.64,1425.62 1297.64,1406.06 \n",
       "  \"/>\n",
       "<polyline clip-path=\"url(#clip7900)\" style=\"stroke:#000000; stroke-width:4; stroke-opacity:1; fill:none\" points=\"\n",
       "  1598.54,1425.62 1598.54,1406.06 \n",
       "  \"/>\n",
       "<polyline clip-path=\"url(#clip7900)\" style=\"stroke:#000000; stroke-width:4; stroke-opacity:1; fill:none\" points=\"\n",
       "  1899.44,1425.62 1899.44,1406.06 \n",
       "  \"/>\n",
       "<polyline clip-path=\"url(#clip7900)\" style=\"stroke:#000000; stroke-width:4; stroke-opacity:1; fill:none\" points=\"\n",
       "  2200.35,1425.62 2200.35,1406.06 \n",
       "  \"/>\n",
       "<polyline clip-path=\"url(#clip7900)\" style=\"stroke:#000000; stroke-width:4; stroke-opacity:1; fill:none\" points=\"\n",
       "  394.926,1388.71 422.007,1388.71 \n",
       "  \"/>\n",
       "<polyline clip-path=\"url(#clip7900)\" style=\"stroke:#000000; stroke-width:4; stroke-opacity:1; fill:none\" points=\"\n",
       "  394.926,1087.81 422.007,1087.81 \n",
       "  \"/>\n",
       "<polyline clip-path=\"url(#clip7900)\" style=\"stroke:#000000; stroke-width:4; stroke-opacity:1; fill:none\" points=\"\n",
       "  394.926,786.908 422.007,786.908 \n",
       "  \"/>\n",
       "<polyline clip-path=\"url(#clip7900)\" style=\"stroke:#000000; stroke-width:4; stroke-opacity:1; fill:none\" points=\"\n",
       "  394.926,486.004 422.007,486.004 \n",
       "  \"/>\n",
       "<polyline clip-path=\"url(#clip7900)\" style=\"stroke:#000000; stroke-width:4; stroke-opacity:1; fill:none\" points=\"\n",
       "  394.926,185.101 422.007,185.101 \n",
       "  \"/>\n",
       "<g clip-path=\"url(#clip7900)\">\n",
       "<text style=\"fill:#000000; fill-opacity:1; font-family:Arial,Helvetica Neue,Helvetica,sans-serif; font-size:48px; text-anchor:middle;\" transform=\"rotate(0, 394.926, 1479.62)\" x=\"394.926\" y=\"1479.62\">-0.75</text>\n",
       "</g>\n",
       "<g clip-path=\"url(#clip7900)\">\n",
       "<text style=\"fill:#000000; fill-opacity:1; font-family:Arial,Helvetica Neue,Helvetica,sans-serif; font-size:48px; text-anchor:middle;\" transform=\"rotate(0, 695.829, 1479.62)\" x=\"695.829\" y=\"1479.62\">-0.50</text>\n",
       "</g>\n",
       "<g clip-path=\"url(#clip7900)\">\n",
       "<text style=\"fill:#000000; fill-opacity:1; font-family:Arial,Helvetica Neue,Helvetica,sans-serif; font-size:48px; text-anchor:middle;\" transform=\"rotate(0, 996.733, 1479.62)\" x=\"996.733\" y=\"1479.62\">-0.25</text>\n",
       "</g>\n",
       "<g clip-path=\"url(#clip7900)\">\n",
       "<text style=\"fill:#000000; fill-opacity:1; font-family:Arial,Helvetica Neue,Helvetica,sans-serif; font-size:48px; text-anchor:middle;\" transform=\"rotate(0, 1297.64, 1479.62)\" x=\"1297.64\" y=\"1479.62\">0.00</text>\n",
       "</g>\n",
       "<g clip-path=\"url(#clip7900)\">\n",
       "<text style=\"fill:#000000; fill-opacity:1; font-family:Arial,Helvetica Neue,Helvetica,sans-serif; font-size:48px; text-anchor:middle;\" transform=\"rotate(0, 1598.54, 1479.62)\" x=\"1598.54\" y=\"1479.62\">0.25</text>\n",
       "</g>\n",
       "<g clip-path=\"url(#clip7900)\">\n",
       "<text style=\"fill:#000000; fill-opacity:1; font-family:Arial,Helvetica Neue,Helvetica,sans-serif; font-size:48px; text-anchor:middle;\" transform=\"rotate(0, 1899.44, 1479.62)\" x=\"1899.44\" y=\"1479.62\">0.50</text>\n",
       "</g>\n",
       "<g clip-path=\"url(#clip7900)\">\n",
       "<text style=\"fill:#000000; fill-opacity:1; font-family:Arial,Helvetica Neue,Helvetica,sans-serif; font-size:48px; text-anchor:middle;\" transform=\"rotate(0, 2200.35, 1479.62)\" x=\"2200.35\" y=\"1479.62\">0.75</text>\n",
       "</g>\n",
       "<g clip-path=\"url(#clip7900)\">\n",
       "<text style=\"fill:#000000; fill-opacity:1; font-family:Arial,Helvetica Neue,Helvetica,sans-serif; font-size:48px; text-anchor:end;\" transform=\"rotate(0, 370.926, 1406.21)\" x=\"370.926\" y=\"1406.21\">0.00</text>\n",
       "</g>\n",
       "<g clip-path=\"url(#clip7900)\">\n",
       "<text style=\"fill:#000000; fill-opacity:1; font-family:Arial,Helvetica Neue,Helvetica,sans-serif; font-size:48px; text-anchor:end;\" transform=\"rotate(0, 370.926, 1105.31)\" x=\"370.926\" y=\"1105.31\">0.25</text>\n",
       "</g>\n",
       "<g clip-path=\"url(#clip7900)\">\n",
       "<text style=\"fill:#000000; fill-opacity:1; font-family:Arial,Helvetica Neue,Helvetica,sans-serif; font-size:48px; text-anchor:end;\" transform=\"rotate(0, 370.926, 804.408)\" x=\"370.926\" y=\"804.408\">0.50</text>\n",
       "</g>\n",
       "<g clip-path=\"url(#clip7900)\">\n",
       "<text style=\"fill:#000000; fill-opacity:1; font-family:Arial,Helvetica Neue,Helvetica,sans-serif; font-size:48px; text-anchor:end;\" transform=\"rotate(0, 370.926, 503.504)\" x=\"370.926\" y=\"503.504\">0.75</text>\n",
       "</g>\n",
       "<g clip-path=\"url(#clip7900)\">\n",
       "<text style=\"fill:#000000; fill-opacity:1; font-family:Arial,Helvetica Neue,Helvetica,sans-serif; font-size:48px; text-anchor:end;\" transform=\"rotate(0, 370.926, 202.601)\" x=\"370.926\" y=\"202.601\">1.00</text>\n",
       "</g>\n",
       "<g clip-path=\"url(#clip7900)\">\n",
       "<text style=\"fill:#000000; fill-opacity:1; font-family:Arial,Helvetica Neue,Helvetica,sans-serif; font-size:84px; text-anchor:middle;\" transform=\"rotate(0, 1297.64, 73.2)\" x=\"1297.64\" y=\"73.2\">state trajectory</text>\n",
       "</g>\n",
       "<g clip-path=\"url(#clip7900)\">\n",
       "<text style=\"fill:#000000; fill-opacity:1; font-family:Arial,Helvetica Neue,Helvetica,sans-serif; font-size:66px; text-anchor:middle;\" transform=\"rotate(0, 1297.64, 1559.48)\" x=\"1297.64\" y=\"1559.48\">x</text>\n",
       "</g>\n",
       "<g clip-path=\"url(#clip7900)\">\n",
       "<text style=\"fill:#000000; fill-opacity:1; font-family:Arial,Helvetica Neue,Helvetica,sans-serif; font-size:66px; text-anchor:middle;\" transform=\"rotate(-90, 241.696, 773.647)\" x=\"241.696\" y=\"773.647\">y</text>\n",
       "</g>\n",
       "<polyline clip-path=\"url(#clip7902)\" style=\"stroke:#0000ff; stroke-width:4; stroke-opacity:1; fill:none\" stroke-dasharray=\"16, 10\" points=\"\n",
       "  1297.64,1388.71 1268.27,1387.72 1222.08,1383.24 1162.54,1374.24 1093.25,1360.78 1017.52,1343.75 938.308,1324.55 858.141,1304.78 779.275,1286.01 703.769,1269.63 \n",
       "  633.556,1256.65 570.473,1247.64 516.238,1242.65 472.372,1241.15 440.097,1242.13 420.227,1244.11 413.077,1245.35 418.42,1244 435.508,1238.31 463.152,1226.77 \n",
       "  499.852,1208.27 543.948,1182.13 593.77,1148.16 647.761,1106.56 704.561,1057.89 763.063,1002.95 822.416,942.717 882.01,878.295 941.446,810.828 1000.48,741.484 \n",
       "  1058.98,671.436 1116.87,601.856 1174.04,533.907 1230.34,468.746 1285.5,407.517 1339.06,351.324 1390.33,301.201 1438.38,258.049 1482.02,222.554 1519.83,195.103 \n",
       "  1550.26,175.682 1571.75,163.822 1582.94,158.579 1582.89,158.599 1571.24,162.259 1548.34,167.874 1515.31,173.912 1473.98,179.177 1427.02,182.889 1376.35,184.821 \n",
       "  1297.68,185.592 \n",
       "  \"/>\n",
       "<polyline clip-path=\"url(#clip7902)\" style=\"stroke:#0000ff; stroke-width:8; stroke-opacity:1; fill:none\" points=\"\n",
       "  1297.64,1388.71 1420.19,1381.09 1608.53,1353.98 1794.14,1329.31 1923.22,1324.97 1963.31,1330.09 1912.71,1313.66 1797.03,1251.37 1649.56,1141.06 1494.62,997.693 \n",
       "  1344.24,841.534 1202.85,690.575 1072.48,557.973 955.747,451.713 856.479,374.825 778.948,325.888 726.446,300.03 700.159,290.451 698.811,290.115 719.113,293.093 \n",
       "  756.639,295.252 806.716,294.31 865.041,289.499 927.978,281.078 992.607,269.896 1056.64,257.047 1118.27,243.645 1176.06,230.682 1228.86,218.942 1275.74,208.961 \n",
       "  1315.99,201.01 1349.17,195.12 1375.1,191.118 1393.86,188.688 1405.79,187.446 1411.45,186.998 1411.56,186.992 1406.94,187.15 1398.47,187.28 1387.09,187.275 \n",
       "  1373.75,187.102 1359.43,186.786 1345.12,186.389 1331.76,185.984 1320.14,185.636 1310.78,185.38 1303.89,185.219 1299.34,185.136 1296.9,185.104 1296.3,185.1 \n",
       "  1297.64,185.103 \n",
       "  \"/>\n",
       "<circle clip-path=\"url(#clip7902)\" style=\"fill:#000000; stroke:none; fill-opacity:1\" cx=\"1297.64\" cy=\"1388.71\" r=\"18\"/>\n",
       "<circle clip-path=\"url(#clip7902)\" style=\"fill:#ff0000; stroke:none; fill-opacity:1\" cx=\"1297.64\" cy=\"1388.71\" r=\"14\"/>\n",
       "<circle clip-path=\"url(#clip7902)\" style=\"fill:#000000; stroke:none; fill-opacity:1\" cx=\"1297.68\" cy=\"185.592\" r=\"18\"/>\n",
       "<circle clip-path=\"url(#clip7902)\" style=\"fill:#008000; stroke:none; fill-opacity:1\" cx=\"1297.68\" cy=\"185.592\" r=\"14\"/>\n",
       "<polygon clip-path=\"url(#clip7900)\" points=\"\n",
       "1489.85,1068.99 2128.35,1068.99 2128.35,766.588 1489.85,766.588 \n",
       "  \" fill=\"#ffffff\" fill-rule=\"evenodd\" fill-opacity=\"1\"/>\n",
       "<polyline clip-path=\"url(#clip7900)\" style=\"stroke:#000000; stroke-width:4; stroke-opacity:1; fill:none\" points=\"\n",
       "  1489.85,1068.99 2128.35,1068.99 2128.35,766.588 1489.85,766.588 1489.85,1068.99 \n",
       "  \"/>\n",
       "<polyline clip-path=\"url(#clip7900)\" style=\"stroke:#0000ff; stroke-width:4; stroke-opacity:1; fill:none\" stroke-dasharray=\"16, 10\" points=\"\n",
       "  1513.85,827.068 1657.85,827.068 \n",
       "  \"/>\n",
       "<g clip-path=\"url(#clip7900)\">\n",
       "<text style=\"fill:#000000; fill-opacity:1; font-family:Arial,Helvetica Neue,Helvetica,sans-serif; font-size:48px; text-anchor:start;\" transform=\"rotate(0, 1681.85, 844.568)\" x=\"1681.85\" y=\"844.568\">ALTRO</text>\n",
       "</g>\n",
       "<polyline clip-path=\"url(#clip7900)\" style=\"stroke:#0000ff; stroke-width:8; stroke-opacity:1; fill:none\" points=\"\n",
       "  1513.85,887.548 1657.85,887.548 \n",
       "  \"/>\n",
       "<g clip-path=\"url(#clip7900)\">\n",
       "<text style=\"fill:#000000; fill-opacity:1; font-family:Arial,Helvetica Neue,Helvetica,sans-serif; font-size:48px; text-anchor:start;\" transform=\"rotate(0, 1681.85, 905.048)\" x=\"1681.85\" y=\"905.048\">ALTRO Min. Time.</text>\n",
       "</g>\n",
       "<polyline clip-path=\"url(#clip7900)\" style=\"stroke:#ff0000; stroke-width:4; stroke-opacity:1; fill:none\" points=\"\n",
       "  1513.85,948.028 1657.85,948.028 \n",
       "  \"/>\n",
       "<circle clip-path=\"url(#clip7900)\" style=\"fill:#000000; stroke:none; fill-opacity:1\" cx=\"1597.85\" cy=\"948.028\" r=\"25\"/>\n",
       "<circle clip-path=\"url(#clip7900)\" style=\"fill:#ff0000; stroke:none; fill-opacity:1\" cx=\"1597.85\" cy=\"948.028\" r=\"21\"/>\n",
       "<g clip-path=\"url(#clip7900)\">\n",
       "<text style=\"fill:#000000; fill-opacity:1; font-family:Arial,Helvetica Neue,Helvetica,sans-serif; font-size:48px; text-anchor:start;\" transform=\"rotate(0, 1681.85, 965.528)\" x=\"1681.85\" y=\"965.528\">start</text>\n",
       "</g>\n",
       "<polyline clip-path=\"url(#clip7900)\" style=\"stroke:#008000; stroke-width:4; stroke-opacity:1; fill:none\" points=\"\n",
       "  1513.85,1008.51 1657.85,1008.51 \n",
       "  \"/>\n",
       "<circle clip-path=\"url(#clip7900)\" style=\"fill:#000000; stroke:none; fill-opacity:1\" cx=\"1597.85\" cy=\"1008.51\" r=\"25\"/>\n",
       "<circle clip-path=\"url(#clip7900)\" style=\"fill:#008000; stroke:none; fill-opacity:1\" cx=\"1597.85\" cy=\"1008.51\" r=\"21\"/>\n",
       "<g clip-path=\"url(#clip7900)\">\n",
       "<text style=\"fill:#000000; fill-opacity:1; font-family:Arial,Helvetica Neue,Helvetica,sans-serif; font-size:48px; text-anchor:start;\" transform=\"rotate(0, 1681.85, 1026.01)\" x=\"1681.85\" y=\"1026.01\">goal</text>\n",
       "</g>\n",
       "</svg>\n"
      ]
     },
     "execution_count": 13,
     "metadata": {},
     "output_type": "execute_result"
    }
   ],
   "source": [
    "plot()\n",
    "# plot_obstacles(circles,:orange)\n",
    "plot!(x,y,xlabel=\"x\",ylabel=\"y\",label=\"ALTRO\",legend=:right,color=:blue,linestyle=:dash,ratio=:equal,title=\"state trajectory\")\n",
    "plot!(x_min_time,y_min_time,xlim=(-0.75,0.75),xlabel=\"x\",ylabel=\"y\",label=\"ALTRO Min. Time.\",color=:blue,width=2,ratio=:equal,title=\"state trajectory\")\n",
    "\n",
    "plot!((x[1],y[1]),marker=:circle,color=:red,label=\"start\")\n",
    "plot!((x[end],y[end]),marker=:circle,color=:green,label=\"goal\")"
   ]
  },
  {
   "cell_type": "markdown",
   "metadata": {},
   "source": [
    "Compute total time"
   ]
  },
  {
   "cell_type": "code",
   "execution_count": 14,
   "metadata": {},
   "outputs": [
    {
     "data": {
      "text/plain": [
       "9.94985315821436"
      ]
     },
     "execution_count": 14,
     "metadata": {},
     "output_type": "execute_result"
    }
   ],
   "source": [
    "tt = total_time(prob)\n",
    "tt_mt = total_time(prob_mt)"
   ]
  },
  {
   "cell_type": "markdown",
   "metadata": {},
   "source": [
    "Plot control trajectories"
   ]
  },
  {
   "cell_type": "code",
   "execution_count": 15,
   "metadata": {},
   "outputs": [],
   "source": [
    "t_range = range(0, stop=tt, length=N)[1:end-1]\n",
    "u1 = [prob.U[k][1] for k = 1:N-1]\n",
    "u2 = [prob.U[k][2] for k = 1:N-1];"
   ]
  },
  {
   "cell_type": "code",
   "execution_count": 16,
   "metadata": {},
   "outputs": [],
   "source": [
    "t_range_mt = range(0, stop=tt_mt, length=N)[1:end-1]\n",
    "u1_mt = [prob_mt.U[k][1] for k = 1:N-1]\n",
    "u2_mt = [prob_mt.U[k][2] for k = 1:N-1];"
   ]
  },
  {
   "cell_type": "code",
   "execution_count": 17,
   "metadata": {},
   "outputs": [
    {
     "data": {
      "image/svg+xml": [
       "<?xml version=\"1.0\" encoding=\"utf-8\"?>\n",
       "<svg xmlns=\"http://www.w3.org/2000/svg\" xmlns:xlink=\"http://www.w3.org/1999/xlink\" width=\"600\" height=\"400\" viewBox=\"0 0 2400 1600\">\n",
       "<defs>\n",
       "  <clipPath id=\"clip8300\">\n",
       "    <rect x=\"0\" y=\"0\" width=\"2400\" height=\"1600\"/>\n",
       "  </clipPath>\n",
       "</defs>\n",
       "<polygon clip-path=\"url(#clip8300)\" points=\"\n",
       "0,1600 2400,1600 2400,0 0,0 \n",
       "  \" fill=\"#ffffff\" fill-rule=\"evenodd\" fill-opacity=\"1\"/>\n",
       "<defs>\n",
       "  <clipPath id=\"clip8301\">\n",
       "    <rect x=\"480\" y=\"0\" width=\"1681\" height=\"1600\"/>\n",
       "  </clipPath>\n",
       "</defs>\n",
       "<polygon clip-path=\"url(#clip8300)\" points=\"\n",
       "182.008,1425.62 2352.76,1425.62 2352.76,121.675 182.008,121.675 \n",
       "  \" fill=\"#ffffff\" fill-rule=\"evenodd\" fill-opacity=\"1\"/>\n",
       "<defs>\n",
       "  <clipPath id=\"clip8302\">\n",
       "    <rect x=\"182\" y=\"121\" width=\"2172\" height=\"1305\"/>\n",
       "  </clipPath>\n",
       "</defs>\n",
       "<polyline clip-path=\"url(#clip8302)\" style=\"stroke:#000000; stroke-width:2; stroke-opacity:0.1; fill:none\" points=\"\n",
       "  243.444,1425.62 243.444,121.675 \n",
       "  \"/>\n",
       "<polyline clip-path=\"url(#clip8302)\" style=\"stroke:#000000; stroke-width:2; stroke-opacity:0.1; fill:none\" points=\"\n",
       "  768.494,1425.62 768.494,121.675 \n",
       "  \"/>\n",
       "<polyline clip-path=\"url(#clip8302)\" style=\"stroke:#000000; stroke-width:2; stroke-opacity:0.1; fill:none\" points=\"\n",
       "  1293.54,1425.62 1293.54,121.675 \n",
       "  \"/>\n",
       "<polyline clip-path=\"url(#clip8302)\" style=\"stroke:#000000; stroke-width:2; stroke-opacity:0.1; fill:none\" points=\"\n",
       "  1818.59,1425.62 1818.59,121.675 \n",
       "  \"/>\n",
       "<polyline clip-path=\"url(#clip8302)\" style=\"stroke:#000000; stroke-width:2; stroke-opacity:0.1; fill:none\" points=\"\n",
       "  2343.64,1425.62 2343.64,121.675 \n",
       "  \"/>\n",
       "<polyline clip-path=\"url(#clip8302)\" style=\"stroke:#000000; stroke-width:2; stroke-opacity:0.1; fill:none\" points=\"\n",
       "  182.008,1315.45 2352.76,1315.45 \n",
       "  \"/>\n",
       "<polyline clip-path=\"url(#clip8302)\" style=\"stroke:#000000; stroke-width:2; stroke-opacity:0.1; fill:none\" points=\"\n",
       "  182.008,1059.93 2352.76,1059.93 \n",
       "  \"/>\n",
       "<polyline clip-path=\"url(#clip8302)\" style=\"stroke:#000000; stroke-width:2; stroke-opacity:0.1; fill:none\" points=\"\n",
       "  182.008,804.406 2352.76,804.406 \n",
       "  \"/>\n",
       "<polyline clip-path=\"url(#clip8302)\" style=\"stroke:#000000; stroke-width:2; stroke-opacity:0.1; fill:none\" points=\"\n",
       "  182.008,548.884 2352.76,548.884 \n",
       "  \"/>\n",
       "<polyline clip-path=\"url(#clip8302)\" style=\"stroke:#000000; stroke-width:2; stroke-opacity:0.1; fill:none\" points=\"\n",
       "  182.008,293.363 2352.76,293.363 \n",
       "  \"/>\n",
       "<polyline clip-path=\"url(#clip8300)\" style=\"stroke:#000000; stroke-width:4; stroke-opacity:1; fill:none\" points=\"\n",
       "  182.008,1425.62 2352.76,1425.62 \n",
       "  \"/>\n",
       "<polyline clip-path=\"url(#clip8300)\" style=\"stroke:#000000; stroke-width:4; stroke-opacity:1; fill:none\" points=\"\n",
       "  182.008,1425.62 182.008,121.675 \n",
       "  \"/>\n",
       "<polyline clip-path=\"url(#clip8300)\" style=\"stroke:#000000; stroke-width:4; stroke-opacity:1; fill:none\" points=\"\n",
       "  243.444,1425.62 243.444,1406.06 \n",
       "  \"/>\n",
       "<polyline clip-path=\"url(#clip8300)\" style=\"stroke:#000000; stroke-width:4; stroke-opacity:1; fill:none\" points=\"\n",
       "  768.494,1425.62 768.494,1406.06 \n",
       "  \"/>\n",
       "<polyline clip-path=\"url(#clip8300)\" style=\"stroke:#000000; stroke-width:4; stroke-opacity:1; fill:none\" points=\"\n",
       "  1293.54,1425.62 1293.54,1406.06 \n",
       "  \"/>\n",
       "<polyline clip-path=\"url(#clip8300)\" style=\"stroke:#000000; stroke-width:4; stroke-opacity:1; fill:none\" points=\"\n",
       "  1818.59,1425.62 1818.59,1406.06 \n",
       "  \"/>\n",
       "<polyline clip-path=\"url(#clip8300)\" style=\"stroke:#000000; stroke-width:4; stroke-opacity:1; fill:none\" points=\"\n",
       "  2343.64,1425.62 2343.64,1406.06 \n",
       "  \"/>\n",
       "<polyline clip-path=\"url(#clip8300)\" style=\"stroke:#000000; stroke-width:4; stroke-opacity:1; fill:none\" points=\"\n",
       "  182.008,1315.45 214.569,1315.45 \n",
       "  \"/>\n",
       "<polyline clip-path=\"url(#clip8300)\" style=\"stroke:#000000; stroke-width:4; stroke-opacity:1; fill:none\" points=\"\n",
       "  182.008,1059.93 214.569,1059.93 \n",
       "  \"/>\n",
       "<polyline clip-path=\"url(#clip8300)\" style=\"stroke:#000000; stroke-width:4; stroke-opacity:1; fill:none\" points=\"\n",
       "  182.008,804.406 214.569,804.406 \n",
       "  \"/>\n",
       "<polyline clip-path=\"url(#clip8300)\" style=\"stroke:#000000; stroke-width:4; stroke-opacity:1; fill:none\" points=\"\n",
       "  182.008,548.884 214.569,548.884 \n",
       "  \"/>\n",
       "<polyline clip-path=\"url(#clip8300)\" style=\"stroke:#000000; stroke-width:4; stroke-opacity:1; fill:none\" points=\"\n",
       "  182.008,293.363 214.569,293.363 \n",
       "  \"/>\n",
       "<g clip-path=\"url(#clip8300)\">\n",
       "<text style=\"fill:#000000; fill-opacity:1; font-family:Arial,Helvetica Neue,Helvetica,sans-serif; font-size:48px; text-anchor:middle;\" transform=\"rotate(0, 243.444, 1479.62)\" x=\"243.444\" y=\"1479.62\">0.0</text>\n",
       "</g>\n",
       "<g clip-path=\"url(#clip8300)\">\n",
       "<text style=\"fill:#000000; fill-opacity:1; font-family:Arial,Helvetica Neue,Helvetica,sans-serif; font-size:48px; text-anchor:middle;\" transform=\"rotate(0, 768.494, 1479.62)\" x=\"768.494\" y=\"1479.62\">2.5</text>\n",
       "</g>\n",
       "<g clip-path=\"url(#clip8300)\">\n",
       "<text style=\"fill:#000000; fill-opacity:1; font-family:Arial,Helvetica Neue,Helvetica,sans-serif; font-size:48px; text-anchor:middle;\" transform=\"rotate(0, 1293.54, 1479.62)\" x=\"1293.54\" y=\"1479.62\">5.0</text>\n",
       "</g>\n",
       "<g clip-path=\"url(#clip8300)\">\n",
       "<text style=\"fill:#000000; fill-opacity:1; font-family:Arial,Helvetica Neue,Helvetica,sans-serif; font-size:48px; text-anchor:middle;\" transform=\"rotate(0, 1818.59, 1479.62)\" x=\"1818.59\" y=\"1479.62\">7.5</text>\n",
       "</g>\n",
       "<g clip-path=\"url(#clip8300)\">\n",
       "<text style=\"fill:#000000; fill-opacity:1; font-family:Arial,Helvetica Neue,Helvetica,sans-serif; font-size:48px; text-anchor:middle;\" transform=\"rotate(0, 2343.64, 1479.62)\" x=\"2343.64\" y=\"1479.62\">10.0</text>\n",
       "</g>\n",
       "<g clip-path=\"url(#clip8300)\">\n",
       "<text style=\"fill:#000000; fill-opacity:1; font-family:Arial,Helvetica Neue,Helvetica,sans-serif; font-size:48px; text-anchor:end;\" transform=\"rotate(0, 158.008, 1332.95)\" x=\"158.008\" y=\"1332.95\">-1.0</text>\n",
       "</g>\n",
       "<g clip-path=\"url(#clip8300)\">\n",
       "<text style=\"fill:#000000; fill-opacity:1; font-family:Arial,Helvetica Neue,Helvetica,sans-serif; font-size:48px; text-anchor:end;\" transform=\"rotate(0, 158.008, 1077.43)\" x=\"158.008\" y=\"1077.43\">-0.5</text>\n",
       "</g>\n",
       "<g clip-path=\"url(#clip8300)\">\n",
       "<text style=\"fill:#000000; fill-opacity:1; font-family:Arial,Helvetica Neue,Helvetica,sans-serif; font-size:48px; text-anchor:end;\" transform=\"rotate(0, 158.008, 821.906)\" x=\"158.008\" y=\"821.906\">0.0</text>\n",
       "</g>\n",
       "<g clip-path=\"url(#clip8300)\">\n",
       "<text style=\"fill:#000000; fill-opacity:1; font-family:Arial,Helvetica Neue,Helvetica,sans-serif; font-size:48px; text-anchor:end;\" transform=\"rotate(0, 158.008, 566.384)\" x=\"158.008\" y=\"566.384\">0.5</text>\n",
       "</g>\n",
       "<g clip-path=\"url(#clip8300)\">\n",
       "<text style=\"fill:#000000; fill-opacity:1; font-family:Arial,Helvetica Neue,Helvetica,sans-serif; font-size:48px; text-anchor:end;\" transform=\"rotate(0, 158.008, 310.863)\" x=\"158.008\" y=\"310.863\">1.0</text>\n",
       "</g>\n",
       "<g clip-path=\"url(#clip8300)\">\n",
       "<text style=\"fill:#000000; fill-opacity:1; font-family:Arial,Helvetica Neue,Helvetica,sans-serif; font-size:84px; text-anchor:middle;\" transform=\"rotate(0, 1267.38, 73.2)\" x=\"1267.38\" y=\"73.2\">Control Trajectory</text>\n",
       "</g>\n",
       "<g clip-path=\"url(#clip8300)\">\n",
       "<text style=\"fill:#000000; fill-opacity:1; font-family:Arial,Helvetica Neue,Helvetica,sans-serif; font-size:66px; text-anchor:middle;\" transform=\"rotate(0, 1267.38, 1559.48)\" x=\"1267.38\" y=\"1559.48\">time (s)</text>\n",
       "</g>\n",
       "<polyline clip-path=\"url(#clip8302)\" style=\"stroke:#009af9; stroke-width:4; stroke-opacity:1; fill:none\" points=\"\n",
       "  243.444,1012.34 256.046,1132.85 268.647,1230.59 281.248,1303.97 293.849,1353.63 306.45,1381.22 319.052,1388.71 331.653,1378.09 344.254,1351.18 356.855,1309.71 \n",
       "  369.456,1255.37 382.058,1189.87 394.659,1115.06 407.26,1032.95 419.861,945.741 432.462,855.773 445.064,765.408 457.665,676.922 470.266,592.373 482.867,513.492 \n",
       "  495.468,441.606 508.07,377.621 520.671,322.035 533.272,275.005 545.873,236.42 558.474,205.996 571.076,183.359 583.677,168.12 596.278,159.941 608.879,158.579 \n",
       "  621.48,163.921 634.082,175.998 646.683,194.991 659.284,221.211 671.885,255.063 684.486,296.979 697.088,347.328 709.689,406.287 722.29,473.705 734.891,548.933 \n",
       "  747.492,630.68 760.094,716.902 772.695,804.787 785.296,890.881 797.897,971.29 810.498,1042.02 823.1,1099.29 835.701,1137.74 848.302,1163.3 860.903,1361.13 \n",
       "  \n",
       "  \"/>\n",
       "<polyline clip-path=\"url(#clip8302)\" style=\"stroke:#e26f46; stroke-width:4; stroke-opacity:1; fill:none\" points=\"\n",
       "  243.444,1378.73 256.046,1304.67 268.647,1211.65 281.248,1108.21 293.849,1000.44 306.45,892.043 319.052,785.575 331.653,683.039 344.254,586.094 356.855,496.2 \n",
       "  369.456,414.717 382.058,342.938 394.659,282.065 407.26,233.144 419.861,196.969 432.462,173.989 445.064,164.227 457.665,167.256 470.266,182.219 482.867,207.907 \n",
       "  495.468,242.869 508.07,285.548 520.671,334.401 533.272,388.006 545.873,445.13 558.474,504.765 571.076,566.132 583.677,628.665 596.278,691.974 608.879,755.796 \n",
       "  621.48,819.942 634.082,884.24 646.683,948.461 659.284,1012.25 671.885,1075.07 684.486,1136.09 697.088,1194.16 709.689,1247.77 722.29,1295.05 734.891,1333.85 \n",
       "  747.492,1361.89 760.094,1377.02 772.695,1377.58 785.296,1362.79 797.897,1333.21 810.498,1291.04 823.1,1239.71 835.701,1183.83 848.302,1119.5 860.903,971.386 \n",
       "  \n",
       "  \"/>\n",
       "<polyline clip-path=\"url(#clip8302)\" style=\"stroke:#3da44d; stroke-width:8; stroke-opacity:1; fill:none\" points=\"\n",
       "  243.444,542.197 285.238,398.347 327.031,404.768 368.824,528.589 410.618,718.044 452.411,918.105 494.205,1085.11 535.998,1197.66 577.791,1254.99 619.585,1267.06 \n",
       "  661.378,1245.78 703.171,1201.25 744.965,1141.33 786.758,1072.44 828.552,1000.14 870.345,929.355 912.138,864.139 953.932,807.371 995.725,760.604 1037.52,724.171 \n",
       "  1079.31,697.502 1121.11,679.503 1162.9,668.893 1204.69,664.433 1246.49,665.04 1288.28,669.815 1330.07,678.012 1371.87,688.986 1413.66,702.132 1455.45,716.841 \n",
       "  1497.25,732.484 1539.04,748.422 1580.83,764.043 1622.63,778.807 1664.42,792.285 1706.21,804.173 1748.01,814.275 1789.8,822.474 1831.59,828.697 1873.39,832.881 \n",
       "  1915.18,834.97 1956.97,834.951 1998.77,832.928 2040.56,829.216 2082.35,824.379 2124.15,819.128 2165.94,814.099 2207.73,809.623 2249.53,805.67 2291.32,801.576 \n",
       "  \n",
       "  \"/>\n",
       "<polyline clip-path=\"url(#clip8302)\" style=\"stroke:#c271d2; stroke-width:8; stroke-opacity:1; fill:none\" points=\"\n",
       "  243.444,485.351 285.238,708.044 327.031,956.466 368.824,1158.62 410.618,1274.78 452.411,1295.29 494.205,1237.51 535.998,1133.1 577.791,1011.8 619.585,893.119 \n",
       "  661.378,786.952 703.171,697.496 744.965,626.431 786.758,574.402 828.552,541.314 870.345,526.14 912.138,526.802 953.932,540.335 995.725,563.321 1037.52,592.403 \n",
       "  1079.31,624.679 1121.11,657.905 1162.9,690.504 1204.69,721.449 1246.49,750.111 1288.28,776.107 1330.07,799.183 1371.87,819.145 1413.66,835.83 1455.45,849.117 \n",
       "  1497.25,858.953 1539.04,865.392 1580.83,868.615 1622.63,868.921 1664.42,866.7 1706.21,862.383 1748.01,856.398 1789.8,849.144 1831.59,840.983 1873.39,832.264 \n",
       "  1915.18,823.36 1956.97,814.712 1998.77,806.838 2040.56,800.276 2082.35,795.43 2124.15,792.412 2165.94,790.98 2207.73,790.663 2249.53,790.915 2291.32,791.329 \n",
       "  \n",
       "  \"/>\n",
       "<polygon clip-path=\"url(#clip8300)\" points=\"\n",
       "1730.53,507.595 2280.76,507.595 2280.76,205.195 1730.53,205.195 \n",
       "  \" fill=\"#ffffff\" fill-rule=\"evenodd\" fill-opacity=\"1\"/>\n",
       "<polyline clip-path=\"url(#clip8300)\" style=\"stroke:#000000; stroke-width:4; stroke-opacity:1; fill:none\" points=\"\n",
       "  1730.53,507.595 2280.76,507.595 2280.76,205.195 1730.53,205.195 1730.53,507.595 \n",
       "  \"/>\n",
       "<polyline clip-path=\"url(#clip8300)\" style=\"stroke:#009af9; stroke-width:4; stroke-opacity:1; fill:none\" points=\"\n",
       "  1754.53,265.675 1898.53,265.675 \n",
       "  \"/>\n",
       "<g clip-path=\"url(#clip8300)\">\n",
       "<text style=\"fill:#000000; fill-opacity:1; font-family:Arial,Helvetica Neue,Helvetica,sans-serif; font-size:48px; text-anchor:start;\" transform=\"rotate(0, 1922.53, 283.175)\" x=\"1922.53\" y=\"283.175\">u1</text>\n",
       "</g>\n",
       "<polyline clip-path=\"url(#clip8300)\" style=\"stroke:#e26f46; stroke-width:4; stroke-opacity:1; fill:none\" points=\"\n",
       "  1754.53,326.155 1898.53,326.155 \n",
       "  \"/>\n",
       "<g clip-path=\"url(#clip8300)\">\n",
       "<text style=\"fill:#000000; fill-opacity:1; font-family:Arial,Helvetica Neue,Helvetica,sans-serif; font-size:48px; text-anchor:start;\" transform=\"rotate(0, 1922.53, 343.655)\" x=\"1922.53\" y=\"343.655\">u2</text>\n",
       "</g>\n",
       "<polyline clip-path=\"url(#clip8300)\" style=\"stroke:#3da44d; stroke-width:8; stroke-opacity:1; fill:none\" points=\"\n",
       "  1754.53,386.635 1898.53,386.635 \n",
       "  \"/>\n",
       "<g clip-path=\"url(#clip8300)\">\n",
       "<text style=\"fill:#000000; fill-opacity:1; font-family:Arial,Helvetica Neue,Helvetica,sans-serif; font-size:48px; text-anchor:start;\" transform=\"rotate(0, 1922.53, 404.135)\" x=\"1922.53\" y=\"404.135\">u1 (Min. Time)</text>\n",
       "</g>\n",
       "<polyline clip-path=\"url(#clip8300)\" style=\"stroke:#c271d2; stroke-width:8; stroke-opacity:1; fill:none\" points=\"\n",
       "  1754.53,447.115 1898.53,447.115 \n",
       "  \"/>\n",
       "<g clip-path=\"url(#clip8300)\">\n",
       "<text style=\"fill:#000000; fill-opacity:1; font-family:Arial,Helvetica Neue,Helvetica,sans-serif; font-size:48px; text-anchor:start;\" transform=\"rotate(0, 1922.53, 464.615)\" x=\"1922.53\" y=\"464.615\">u2 (Min. Time)</text>\n",
       "</g>\n",
       "</svg>\n"
      ]
     },
     "execution_count": 17,
     "metadata": {},
     "output_type": "execute_result"
    }
   ],
   "source": [
    "plot(title=\"Control Trajectory\",xlabel=\"time (s)\")\n",
    "plot!(t_range,u1,label=\"u1\")\n",
    "plot!(t_range,u2,label=\"u2\")\n",
    "plot!(t_range_mt,u1_mt,width=2,label=\"u1 (Min. Time)\")\n",
    "plot!(t_range_mt,u2_mt,width=2,label=\"u2 (Min. Time)\")"
   ]
  },
  {
   "cell_type": "code",
   "execution_count": null,
   "metadata": {},
   "outputs": [],
   "source": []
  }
 ],
 "metadata": {
  "@webio": {
   "lastCommId": null,
   "lastKernelId": null
  },
  "kernelspec": {
   "display_name": "Julia 1.1.0",
   "language": "julia",
   "name": "julia-1.1"
  },
  "language_info": {
   "file_extension": ".jl",
   "mimetype": "application/julia",
   "name": "julia",
   "version": "1.1.0"
  }
 },
 "nbformat": 4,
 "nbformat_minor": 2
}
