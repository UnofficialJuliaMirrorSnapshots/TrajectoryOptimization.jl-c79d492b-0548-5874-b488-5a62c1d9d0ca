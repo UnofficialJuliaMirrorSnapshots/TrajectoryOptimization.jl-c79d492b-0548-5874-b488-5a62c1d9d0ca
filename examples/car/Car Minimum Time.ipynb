{
 "cells": [
  {
   "cell_type": "markdown",
   "metadata": {},
   "source": [
    "## Car Minimum Time"
   ]
  },
  {
   "cell_type": "code",
   "execution_count": 9,
   "metadata": {},
   "outputs": [],
   "source": [
    "using TrajectoryOptimization\n",
    "using Plots, LinearAlgebra"
   ]
  },
  {
   "cell_type": "markdown",
   "metadata": {},
   "source": [
    "Import the car model"
   ]
  },
  {
   "cell_type": "code",
   "execution_count": 10,
   "metadata": {},
   "outputs": [],
   "source": [
    "model = Dynamics.car_model\n",
    "n = model.n # number of states\n",
    "m = model.m; # number of control"
   ]
  },
  {
   "cell_type": "markdown",
   "metadata": {},
   "source": [
    "Define numerical type"
   ]
  },
  {
   "cell_type": "code",
   "execution_count": 11,
   "metadata": {},
   "outputs": [],
   "source": [
    "T = Float64;"
   ]
  },
  {
   "cell_type": "markdown",
   "metadata": {},
   "source": [
    "Define initial and goals states"
   ]
  },
  {
   "cell_type": "code",
   "execution_count": 12,
   "metadata": {},
   "outputs": [],
   "source": [
    "x0 = [0.0;0.0;0.0]\n",
    "xf = [0.0;1.0;0.0];"
   ]
  },
  {
   "cell_type": "markdown",
   "metadata": {},
   "source": [
    "Define a cost function, e.g., quadratic"
   ]
  },
  {
   "cell_type": "code",
   "execution_count": 13,
   "metadata": {},
   "outputs": [],
   "source": [
    "Qf = 100.0*Diagonal(I,n)\n",
    "Q = (1e-2)*Diagonal(I,n)\n",
    "R = (1e-2)*Diagonal(I,m)\n",
    "cost = LQRCost(Q,R,Qf,xf);"
   ]
  },
  {
   "cell_type": "markdown",
   "metadata": {},
   "source": [
    "Define constraints"
   ]
  },
  {
   "cell_type": "code",
   "execution_count": 16,
   "metadata": {},
   "outputs": [],
   "source": [
    "u_bnd = 2.\n",
    "bnd = BoundConstraint(n,m,u_min=-u_bnd,u_max=u_bnd,trim=true)\n",
    "\n",
    "goal_con = goal_constraint(xf)\n",
    "\n",
    "con = [bnd, goal_con];"
   ]
  },
  {
   "cell_type": "markdown",
   "metadata": {},
   "source": [
    "Set options"
   ]
  },
  {
   "cell_type": "code",
   "execution_count": 17,
   "metadata": {},
   "outputs": [],
   "source": [
    "verbose=false\n",
    "opts_ilqr = iLQRSolverOptions{T}(verbose=false,live_plotting=:off)\n",
    "\n",
    "opts_al = AugmentedLagrangianSolverOptions{T}(verbose=false,opts_uncon=opts_ilqr,\n",
    "    iterations=30,penalty_scaling=10.0)\n",
    "\n",
    "opts_altro = ALTROSolverOptions{T}(verbose=false,opts_al=opts_al,R_minimum_time=15.0,\n",
    "    dt_max=0.2,dt_min=1.0e-3);"
   ]
  },
  {
   "cell_type": "markdown",
   "metadata": {},
   "source": [
    "Define a problem"
   ]
  },
  {
   "cell_type": "code",
   "execution_count": 25,
   "metadata": {},
   "outputs": [],
   "source": [
    "N = 51\n",
    "tf = 3.0\n",
    "U = [ones(m) for k = 1:N-1]\n",
    "dt = 0.06\n",
    "obj = Objective(cost,N)\n",
    "constraints = ProblemConstraints(con,N)\n",
    "\n",
    "prob = Problem(model,obj,integration=:rk4,constraints=constraints,dt=dt,N=N,x0=x0)\n",
    "initial_controls!(prob, U);"
   ]
  },
  {
   "cell_type": "markdown",
   "metadata": {},
   "source": [
    "Solve problem"
   ]
  },
  {
   "cell_type": "code",
   "execution_count": 26,
   "metadata": {},
   "outputs": [],
   "source": [
    "solve!(prob, opts_altro) # solve with ALTRO"
   ]
  },
  {
   "cell_type": "markdown",
   "metadata": {},
   "source": [
    "Define minimum time problem setting tf to :min"
   ]
  },
  {
   "cell_type": "code",
   "execution_count": 30,
   "metadata": {},
   "outputs": [],
   "source": [
    "U = [ones(m) for k = 1:N-1]\n",
    "\n",
    "prob_mt = Problem(model,obj,constraints=constraints,integration=:rk4,\n",
    "    dt=dt,x0=x0,N=N,tf=:min);\n",
    "initial_controls!(prob_mt, U);"
   ]
  },
  {
   "cell_type": "markdown",
   "metadata": {},
   "source": [
    "Solve minimum time problem"
   ]
  },
  {
   "cell_type": "code",
   "execution_count": 31,
   "metadata": {},
   "outputs": [
    {
     "name": "stdout",
     "output_type": "stream",
     "text": [
      "Minimum Time Solve\n"
     ]
    }
   ],
   "source": [
    "solve!(prob_mt, opts_altro); # solve with ALTRO"
   ]
  },
  {
   "cell_type": "markdown",
   "metadata": {},
   "source": [
    "Plot state trajectories"
   ]
  },
  {
   "cell_type": "code",
   "execution_count": 32,
   "metadata": {},
   "outputs": [],
   "source": [
    "x = [prob.X[k][1] for k = 1:N]\n",
    "y = [prob.X[k][2] for k = 1:N]\n",
    "\n",
    "x_min_time = [prob_mt.X[k][1] for k = 1:N]\n",
    "y_min_time = [prob_mt.X[k][2] for k = 1:N];"
   ]
  },
  {
   "cell_type": "code",
   "execution_count": 33,
   "metadata": {},
   "outputs": [
    {
     "data": {
      "image/svg+xml": [
       "<?xml version=\"1.0\" encoding=\"utf-8\"?>\n",
       "<svg xmlns=\"http://www.w3.org/2000/svg\" xmlns:xlink=\"http://www.w3.org/1999/xlink\" width=\"600\" height=\"400\" viewBox=\"0 0 2400 1600\">\n",
       "<defs>\n",
       "  <clipPath id=\"clip8100\">\n",
       "    <rect x=\"0\" y=\"0\" width=\"2400\" height=\"1600\"/>\n",
       "  </clipPath>\n",
       "</defs>\n",
       "<polygon clip-path=\"url(#clip8100)\" points=\"\n",
       "0,1600 2400,1600 2400,0 0,0 \n",
       "  \" fill=\"#ffffff\" fill-rule=\"evenodd\" fill-opacity=\"1\"/>\n",
       "<defs>\n",
       "  <clipPath id=\"clip8101\">\n",
       "    <rect x=\"480\" y=\"0\" width=\"1681\" height=\"1600\"/>\n",
       "  </clipPath>\n",
       "</defs>\n",
       "<polygon clip-path=\"url(#clip8100)\" points=\"\n",
       "530.608,1440.48 2041.8,1440.48 2041.8,125.984 530.608,125.984 \n",
       "  \" fill=\"#ffffff\" fill-rule=\"evenodd\" fill-opacity=\"1\"/>\n",
       "<defs>\n",
       "  <clipPath id=\"clip8102\">\n",
       "    <rect x=\"530\" y=\"125\" width=\"1512\" height=\"1315\"/>\n",
       "  </clipPath>\n",
       "</defs>\n",
       "<polyline clip-path=\"url(#clip8102)\" style=\"stroke:#000000; stroke-width:2; stroke-opacity:0.1; fill:none\" points=\"\n",
       "  530.608,1440.48 530.608,125.984 \n",
       "  \"/>\n",
       "<polyline clip-path=\"url(#clip8102)\" style=\"stroke:#000000; stroke-width:2; stroke-opacity:0.1; fill:none\" points=\"\n",
       "  782.474,1440.48 782.474,125.984 \n",
       "  \"/>\n",
       "<polyline clip-path=\"url(#clip8102)\" style=\"stroke:#000000; stroke-width:2; stroke-opacity:0.1; fill:none\" points=\"\n",
       "  1034.34,1440.48 1034.34,125.984 \n",
       "  \"/>\n",
       "<polyline clip-path=\"url(#clip8102)\" style=\"stroke:#000000; stroke-width:2; stroke-opacity:0.1; fill:none\" points=\"\n",
       "  1286.2,1440.48 1286.2,125.984 \n",
       "  \"/>\n",
       "<polyline clip-path=\"url(#clip8102)\" style=\"stroke:#000000; stroke-width:2; stroke-opacity:0.1; fill:none\" points=\"\n",
       "  1538.07,1440.48 1538.07,125.984 \n",
       "  \"/>\n",
       "<polyline clip-path=\"url(#clip8102)\" style=\"stroke:#000000; stroke-width:2; stroke-opacity:0.1; fill:none\" points=\"\n",
       "  1789.93,1440.48 1789.93,125.984 \n",
       "  \"/>\n",
       "<polyline clip-path=\"url(#clip8102)\" style=\"stroke:#000000; stroke-width:2; stroke-opacity:0.1; fill:none\" points=\"\n",
       "  2041.8,1440.48 2041.8,125.984 \n",
       "  \"/>\n",
       "<polyline clip-path=\"url(#clip8102)\" style=\"stroke:#000000; stroke-width:2; stroke-opacity:0.1; fill:none\" points=\"\n",
       "  530.608,1297.67 2041.8,1297.67 \n",
       "  \"/>\n",
       "<polyline clip-path=\"url(#clip8102)\" style=\"stroke:#000000; stroke-width:2; stroke-opacity:0.1; fill:none\" points=\"\n",
       "  530.608,1045.8 2041.8,1045.8 \n",
       "  \"/>\n",
       "<polyline clip-path=\"url(#clip8102)\" style=\"stroke:#000000; stroke-width:2; stroke-opacity:0.1; fill:none\" points=\"\n",
       "  530.608,793.935 2041.8,793.935 \n",
       "  \"/>\n",
       "<polyline clip-path=\"url(#clip8102)\" style=\"stroke:#000000; stroke-width:2; stroke-opacity:0.1; fill:none\" points=\"\n",
       "  530.608,542.07 2041.8,542.07 \n",
       "  \"/>\n",
       "<polyline clip-path=\"url(#clip8102)\" style=\"stroke:#000000; stroke-width:2; stroke-opacity:0.1; fill:none\" points=\"\n",
       "  530.608,290.204 2041.8,290.204 \n",
       "  \"/>\n",
       "<polyline clip-path=\"url(#clip8100)\" style=\"stroke:#000000; stroke-width:4; stroke-opacity:1; fill:none\" points=\"\n",
       "  530.608,1440.48 2041.8,1440.48 \n",
       "  \"/>\n",
       "<polyline clip-path=\"url(#clip8100)\" style=\"stroke:#000000; stroke-width:4; stroke-opacity:1; fill:none\" points=\"\n",
       "  530.608,1440.48 530.608,125.984 \n",
       "  \"/>\n",
       "<polyline clip-path=\"url(#clip8100)\" style=\"stroke:#000000; stroke-width:4; stroke-opacity:1; fill:none\" points=\"\n",
       "  530.608,1440.48 530.608,1420.77 \n",
       "  \"/>\n",
       "<polyline clip-path=\"url(#clip8100)\" style=\"stroke:#000000; stroke-width:4; stroke-opacity:1; fill:none\" points=\"\n",
       "  782.474,1440.48 782.474,1420.77 \n",
       "  \"/>\n",
       "<polyline clip-path=\"url(#clip8100)\" style=\"stroke:#000000; stroke-width:4; stroke-opacity:1; fill:none\" points=\"\n",
       "  1034.34,1440.48 1034.34,1420.77 \n",
       "  \"/>\n",
       "<polyline clip-path=\"url(#clip8100)\" style=\"stroke:#000000; stroke-width:4; stroke-opacity:1; fill:none\" points=\"\n",
       "  1286.2,1440.48 1286.2,1420.77 \n",
       "  \"/>\n",
       "<polyline clip-path=\"url(#clip8100)\" style=\"stroke:#000000; stroke-width:4; stroke-opacity:1; fill:none\" points=\"\n",
       "  1538.07,1440.48 1538.07,1420.77 \n",
       "  \"/>\n",
       "<polyline clip-path=\"url(#clip8100)\" style=\"stroke:#000000; stroke-width:4; stroke-opacity:1; fill:none\" points=\"\n",
       "  1789.93,1440.48 1789.93,1420.77 \n",
       "  \"/>\n",
       "<polyline clip-path=\"url(#clip8100)\" style=\"stroke:#000000; stroke-width:4; stroke-opacity:1; fill:none\" points=\"\n",
       "  2041.8,1440.48 2041.8,1420.77 \n",
       "  \"/>\n",
       "<polyline clip-path=\"url(#clip8100)\" style=\"stroke:#000000; stroke-width:4; stroke-opacity:1; fill:none\" points=\"\n",
       "  530.608,1297.67 553.276,1297.67 \n",
       "  \"/>\n",
       "<polyline clip-path=\"url(#clip8100)\" style=\"stroke:#000000; stroke-width:4; stroke-opacity:1; fill:none\" points=\"\n",
       "  530.608,1045.8 553.276,1045.8 \n",
       "  \"/>\n",
       "<polyline clip-path=\"url(#clip8100)\" style=\"stroke:#000000; stroke-width:4; stroke-opacity:1; fill:none\" points=\"\n",
       "  530.608,793.935 553.276,793.935 \n",
       "  \"/>\n",
       "<polyline clip-path=\"url(#clip8100)\" style=\"stroke:#000000; stroke-width:4; stroke-opacity:1; fill:none\" points=\"\n",
       "  530.608,542.07 553.276,542.07 \n",
       "  \"/>\n",
       "<polyline clip-path=\"url(#clip8100)\" style=\"stroke:#000000; stroke-width:4; stroke-opacity:1; fill:none\" points=\"\n",
       "  530.608,290.204 553.276,290.204 \n",
       "  \"/>\n",
       "<g clip-path=\"url(#clip8100)\">\n",
       "<text style=\"fill:#000000; fill-opacity:1; font-family:Arial,Helvetica Neue,Helvetica,sans-serif; font-size:48px; text-anchor:middle;\" transform=\"rotate(0, 530.608, 1494.48)\" x=\"530.608\" y=\"1494.48\">-0.75</text>\n",
       "</g>\n",
       "<g clip-path=\"url(#clip8100)\">\n",
       "<text style=\"fill:#000000; fill-opacity:1; font-family:Arial,Helvetica Neue,Helvetica,sans-serif; font-size:48px; text-anchor:middle;\" transform=\"rotate(0, 782.474, 1494.48)\" x=\"782.474\" y=\"1494.48\">-0.50</text>\n",
       "</g>\n",
       "<g clip-path=\"url(#clip8100)\">\n",
       "<text style=\"fill:#000000; fill-opacity:1; font-family:Arial,Helvetica Neue,Helvetica,sans-serif; font-size:48px; text-anchor:middle;\" transform=\"rotate(0, 1034.34, 1494.48)\" x=\"1034.34\" y=\"1494.48\">-0.25</text>\n",
       "</g>\n",
       "<g clip-path=\"url(#clip8100)\">\n",
       "<text style=\"fill:#000000; fill-opacity:1; font-family:Arial,Helvetica Neue,Helvetica,sans-serif; font-size:48px; text-anchor:middle;\" transform=\"rotate(0, 1286.2, 1494.48)\" x=\"1286.2\" y=\"1494.48\">0.00</text>\n",
       "</g>\n",
       "<g clip-path=\"url(#clip8100)\">\n",
       "<text style=\"fill:#000000; fill-opacity:1; font-family:Arial,Helvetica Neue,Helvetica,sans-serif; font-size:48px; text-anchor:middle;\" transform=\"rotate(0, 1538.07, 1494.48)\" x=\"1538.07\" y=\"1494.48\">0.25</text>\n",
       "</g>\n",
       "<g clip-path=\"url(#clip8100)\">\n",
       "<text style=\"fill:#000000; fill-opacity:1; font-family:Arial,Helvetica Neue,Helvetica,sans-serif; font-size:48px; text-anchor:middle;\" transform=\"rotate(0, 1789.93, 1494.48)\" x=\"1789.93\" y=\"1494.48\">0.50</text>\n",
       "</g>\n",
       "<g clip-path=\"url(#clip8100)\">\n",
       "<text style=\"fill:#000000; fill-opacity:1; font-family:Arial,Helvetica Neue,Helvetica,sans-serif; font-size:48px; text-anchor:middle;\" transform=\"rotate(0, 2041.8, 1494.48)\" x=\"2041.8\" y=\"1494.48\">0.75</text>\n",
       "</g>\n",
       "<g clip-path=\"url(#clip8100)\">\n",
       "<text style=\"fill:#000000; fill-opacity:1; font-family:Arial,Helvetica Neue,Helvetica,sans-serif; font-size:48px; text-anchor:end;\" transform=\"rotate(0, 506.608, 1315.17)\" x=\"506.608\" y=\"1315.17\">0.00</text>\n",
       "</g>\n",
       "<g clip-path=\"url(#clip8100)\">\n",
       "<text style=\"fill:#000000; fill-opacity:1; font-family:Arial,Helvetica Neue,Helvetica,sans-serif; font-size:48px; text-anchor:end;\" transform=\"rotate(0, 506.608, 1063.3)\" x=\"506.608\" y=\"1063.3\">0.25</text>\n",
       "</g>\n",
       "<g clip-path=\"url(#clip8100)\">\n",
       "<text style=\"fill:#000000; fill-opacity:1; font-family:Arial,Helvetica Neue,Helvetica,sans-serif; font-size:48px; text-anchor:end;\" transform=\"rotate(0, 506.608, 811.435)\" x=\"506.608\" y=\"811.435\">0.50</text>\n",
       "</g>\n",
       "<g clip-path=\"url(#clip8100)\">\n",
       "<text style=\"fill:#000000; fill-opacity:1; font-family:Arial,Helvetica Neue,Helvetica,sans-serif; font-size:48px; text-anchor:end;\" transform=\"rotate(0, 506.608, 559.57)\" x=\"506.608\" y=\"559.57\">0.75</text>\n",
       "</g>\n",
       "<g clip-path=\"url(#clip8100)\">\n",
       "<text style=\"fill:#000000; fill-opacity:1; font-family:Arial,Helvetica Neue,Helvetica,sans-serif; font-size:48px; text-anchor:end;\" transform=\"rotate(0, 506.608, 307.704)\" x=\"506.608\" y=\"307.704\">1.00</text>\n",
       "</g>\n",
       "<g clip-path=\"url(#clip8100)\">\n",
       "<text style=\"fill:#000000; fill-opacity:1; font-family:Arial,Helvetica Neue,Helvetica,sans-serif; font-size:84px; text-anchor:middle;\" transform=\"rotate(0, 1286.2, 73.2)\" x=\"1286.2\" y=\"73.2\">state trajectory</text>\n",
       "</g>\n",
       "<g clip-path=\"url(#clip8100)\">\n",
       "<text style=\"fill:#000000; fill-opacity:1; font-family:Arial,Helvetica Neue,Helvetica,sans-serif; font-size:66px; text-anchor:middle;\" transform=\"rotate(0, 1286.2, 1590.4)\" x=\"1286.2\" y=\"1590.4\">x</text>\n",
       "</g>\n",
       "<g clip-path=\"url(#clip8100)\">\n",
       "<text style=\"fill:#000000; fill-opacity:1; font-family:Arial,Helvetica Neue,Helvetica,sans-serif; font-size:66px; text-anchor:middle;\" transform=\"rotate(-90, 408.208, 783.233)\" x=\"408.208\" y=\"783.233\">y</text>\n",
       "</g>\n",
       "<polyline clip-path=\"url(#clip8102)\" style=\"stroke:#0000ff; stroke-width:4; stroke-opacity:1; fill:none\" stroke-dasharray=\"16, 10\" points=\"\n",
       "  1286.2,1297.67 1255.82,1296.65 1210.97,1292.35 1156.46,1284.25 1096.33,1272.85 1033.23,1259.09 969.027,1244.12 905.366,1229.16 843.719,1215.35 785.46,1203.62 \n",
       "  731.895,1194.63 684.27,1188.66 643.735,1185.64 611.289,1185.09 587.715,1186.18 573.504,1187.81 568.804,1188.7 573.403,1187.48 586.741,1182.89 607.967,1173.83 \n",
       "  636.019,1159.45 669.722,1139.21 707.882,1112.89 749.373,1080.57 793.195,1042.56 838.515,999.394 884.684,951.744 931.228,900.377 977.832,846.122 1024.31,789.838 \n",
       "  1070.57,732.401 1116.56,674.694 1162.28,617.604 1207.66,562.022 1252.58,508.839 1296.81,458.94 1339.94,413.185 1381.39,372.381 1420.35,337.236 1455.8,308.307 \n",
       "  1486.48,285.937 1510.99,270.191 1527.8,260.803 1535.43,257.157 1532.6,258.291 1518.52,262.953 1493.32,269.692 1457.72,277.257 1410.44,285.147 1352.95,290.097 \n",
       "  1286.25,290.975 \n",
       "  \"/>\n",
       "<polyline clip-path=\"url(#clip8102)\" style=\"stroke:#0000ff; stroke-width:8; stroke-opacity:1; fill:none\" points=\"\n",
       "  1286.2,1297.67 1339.56,1299.08 1392.77,1303.32 1445.68,1310.37 1498.14,1320.21 1550,1332.82 1601.13,1348.15 1651.36,1366.17 1700.58,1386.83 1734.6,1403.28 \n",
       "  1687.85,1377.54 1642.54,1349.36 1598.78,1318.82 1556.69,1286 1516.41,1251.01 1478.04,1213.93 1441.68,1174.87 1407.44,1133.95 1375.42,1091.26 1345.71,1046.95 \n",
       "  1318.38,1001.12 1293.52,953.917 1271.19,905.46 1251.46,855.89 1234.16,805.416 1218.44,754.427 1202.92,703.376 1185.81,652.839 1166.06,603.279 1143.71,554.833 \n",
       "  1118.83,507.637 1091.49,461.824 1061.75,417.521 1029.72,374.854 995.469,333.942 959.101,294.899 920.716,257.836 880.421,222.856 838.331,190.058 799.8,163.187 \n",
       "  822.324,177.183 823.672,177.925 871.73,201.144 920.953,221.788 971.204,239.797 1022.34,255.121 1074.22,267.714 1126.69,277.542 1179.61,284.577 1232.83,288.798 \n",
       "  1286.2,290.204 \n",
       "  \"/>\n",
       "<circle clip-path=\"url(#clip8102)\" style=\"fill:#000000; stroke:none; fill-opacity:1\" cx=\"1286.2\" cy=\"1297.67\" r=\"18\"/>\n",
       "<circle clip-path=\"url(#clip8102)\" style=\"fill:#ff0000; stroke:none; fill-opacity:1\" cx=\"1286.2\" cy=\"1297.67\" r=\"14\"/>\n",
       "<circle clip-path=\"url(#clip8102)\" style=\"fill:#000000; stroke:none; fill-opacity:1\" cx=\"1286.25\" cy=\"290.975\" r=\"18\"/>\n",
       "<circle clip-path=\"url(#clip8102)\" style=\"fill:#008000; stroke:none; fill-opacity:1\" cx=\"1286.25\" cy=\"290.975\" r=\"14\"/>\n",
       "<polygon clip-path=\"url(#clip8100)\" points=\"\n",
       "1331.3,1063.71 1969.8,1063.71 1969.8,761.311 1331.3,761.311 \n",
       "  \" fill=\"#ffffff\" fill-rule=\"evenodd\" fill-opacity=\"1\"/>\n",
       "<polyline clip-path=\"url(#clip8100)\" style=\"stroke:#000000; stroke-width:4; stroke-opacity:1; fill:none\" points=\"\n",
       "  1331.3,1063.71 1969.8,1063.71 1969.8,761.311 1331.3,761.311 1331.3,1063.71 \n",
       "  \"/>\n",
       "<polyline clip-path=\"url(#clip8100)\" style=\"stroke:#0000ff; stroke-width:4; stroke-opacity:1; fill:none\" stroke-dasharray=\"16, 10\" points=\"\n",
       "  1355.3,821.791 1499.3,821.791 \n",
       "  \"/>\n",
       "<g clip-path=\"url(#clip8100)\">\n",
       "<text style=\"fill:#000000; fill-opacity:1; font-family:Arial,Helvetica Neue,Helvetica,sans-serif; font-size:48px; text-anchor:start;\" transform=\"rotate(0, 1523.3, 839.291)\" x=\"1523.3\" y=\"839.291\">ALTRO</text>\n",
       "</g>\n",
       "<polyline clip-path=\"url(#clip8100)\" style=\"stroke:#0000ff; stroke-width:8; stroke-opacity:1; fill:none\" points=\"\n",
       "  1355.3,882.271 1499.3,882.271 \n",
       "  \"/>\n",
       "<g clip-path=\"url(#clip8100)\">\n",
       "<text style=\"fill:#000000; fill-opacity:1; font-family:Arial,Helvetica Neue,Helvetica,sans-serif; font-size:48px; text-anchor:start;\" transform=\"rotate(0, 1523.3, 899.771)\" x=\"1523.3\" y=\"899.771\">ALTRO Min. Time.</text>\n",
       "</g>\n",
       "<polyline clip-path=\"url(#clip8100)\" style=\"stroke:#ff0000; stroke-width:4; stroke-opacity:1; fill:none\" points=\"\n",
       "  1355.3,942.751 1499.3,942.751 \n",
       "  \"/>\n",
       "<circle clip-path=\"url(#clip8100)\" style=\"fill:#000000; stroke:none; fill-opacity:1\" cx=\"1439.3\" cy=\"942.751\" r=\"25\"/>\n",
       "<circle clip-path=\"url(#clip8100)\" style=\"fill:#ff0000; stroke:none; fill-opacity:1\" cx=\"1439.3\" cy=\"942.751\" r=\"21\"/>\n",
       "<g clip-path=\"url(#clip8100)\">\n",
       "<text style=\"fill:#000000; fill-opacity:1; font-family:Arial,Helvetica Neue,Helvetica,sans-serif; font-size:48px; text-anchor:start;\" transform=\"rotate(0, 1523.3, 960.251)\" x=\"1523.3\" y=\"960.251\">start</text>\n",
       "</g>\n",
       "<polyline clip-path=\"url(#clip8100)\" style=\"stroke:#008000; stroke-width:4; stroke-opacity:1; fill:none\" points=\"\n",
       "  1355.3,1003.23 1499.3,1003.23 \n",
       "  \"/>\n",
       "<circle clip-path=\"url(#clip8100)\" style=\"fill:#000000; stroke:none; fill-opacity:1\" cx=\"1439.3\" cy=\"1003.23\" r=\"25\"/>\n",
       "<circle clip-path=\"url(#clip8100)\" style=\"fill:#008000; stroke:none; fill-opacity:1\" cx=\"1439.3\" cy=\"1003.23\" r=\"21\"/>\n",
       "<g clip-path=\"url(#clip8100)\">\n",
       "<text style=\"fill:#000000; fill-opacity:1; font-family:Arial,Helvetica Neue,Helvetica,sans-serif; font-size:48px; text-anchor:start;\" transform=\"rotate(0, 1523.3, 1020.73)\" x=\"1523.3\" y=\"1020.73\">goal</text>\n",
       "</g>\n",
       "</svg>\n"
      ]
     },
     "execution_count": 33,
     "metadata": {},
     "output_type": "execute_result"
    }
   ],
   "source": [
    "plot()\n",
    "# plot_obstacles(circles,:orange)\n",
    "plot!(x,y,xlabel=\"x\",ylabel=\"y\",label=\"ALTRO\",legend=:right,color=:blue,linestyle=:dash,ratio=:equal,title=\"state trajectory\")\n",
    "plot!(x_min_time,y_min_time,xlim=(-0.75,0.75),xlabel=\"x\",ylabel=\"y\",label=\"ALTRO Min. Time.\",color=:blue,width=2,ratio=:equal,title=\"state trajectory\")\n",
    "\n",
    "plot!((x[1],y[1]),marker=:circle,color=:red,label=\"start\")\n",
    "plot!((x[end],y[end]),marker=:circle,color=:green,label=\"goal\")"
   ]
  },
  {
   "cell_type": "markdown",
   "metadata": {},
   "source": [
    "Compute total time"
   ]
  },
  {
   "cell_type": "code",
   "execution_count": 34,
   "metadata": {},
   "outputs": [
    {
     "data": {
      "text/plain": [
       "1.3244065108854677"
      ]
     },
     "execution_count": 34,
     "metadata": {},
     "output_type": "execute_result"
    }
   ],
   "source": [
    "tt = total_time(prob)\n",
    "tt_mt = total_time(prob_mt)"
   ]
  },
  {
   "cell_type": "markdown",
   "metadata": {},
   "source": [
    "Plot control trajectories"
   ]
  },
  {
   "cell_type": "code",
   "execution_count": 35,
   "metadata": {},
   "outputs": [],
   "source": [
    "t_range = range(0, stop=tt, length=N)[1:end-1]\n",
    "u1 = [prob.U[k][1] for k = 1:N-1]\n",
    "u2 = [prob.U[k][2] for k = 1:N-1];"
   ]
  },
  {
   "cell_type": "code",
   "execution_count": 36,
   "metadata": {},
   "outputs": [],
   "source": [
    "t_range_mt = range(0, stop=tt_mt, length=N)[1:end-1]\n",
    "u1_mt = [prob_mt.U[k][1] for k = 1:N-1]\n",
    "u2_mt = [prob_mt.U[k][2] for k = 1:N-1];"
   ]
  },
  {
   "cell_type": "code",
   "execution_count": 37,
   "metadata": {},
   "outputs": [
    {
     "data": {
      "image/svg+xml": [
       "<?xml version=\"1.0\" encoding=\"utf-8\"?>\n",
       "<svg xmlns=\"http://www.w3.org/2000/svg\" xmlns:xlink=\"http://www.w3.org/1999/xlink\" width=\"600\" height=\"400\" viewBox=\"0 0 2400 1600\">\n",
       "<defs>\n",
       "  <clipPath id=\"clip8500\">\n",
       "    <rect x=\"0\" y=\"0\" width=\"2400\" height=\"1600\"/>\n",
       "  </clipPath>\n",
       "</defs>\n",
       "<polygon clip-path=\"url(#clip8500)\" points=\"\n",
       "0,1600 2400,1600 2400,0 0,0 \n",
       "  \" fill=\"#ffffff\" fill-rule=\"evenodd\" fill-opacity=\"1\"/>\n",
       "<defs>\n",
       "  <clipPath id=\"clip8501\">\n",
       "    <rect x=\"480\" y=\"0\" width=\"1681\" height=\"1600\"/>\n",
       "  </clipPath>\n",
       "</defs>\n",
       "<polygon clip-path=\"url(#clip8500)\" points=\"\n",
       "149.361,1440.48 2321.26,1440.48 2321.26,125.984 149.361,125.984 \n",
       "  \" fill=\"#ffffff\" fill-rule=\"evenodd\" fill-opacity=\"1\"/>\n",
       "<defs>\n",
       "  <clipPath id=\"clip8502\">\n",
       "    <rect x=\"149\" y=\"125\" width=\"2173\" height=\"1315\"/>\n",
       "  </clipPath>\n",
       "</defs>\n",
       "<polyline clip-path=\"url(#clip8502)\" style=\"stroke:#000000; stroke-width:2; stroke-opacity:0.1; fill:none\" points=\"\n",
       "  210.829,1440.48 210.829,125.984 \n",
       "  \"/>\n",
       "<polyline clip-path=\"url(#clip8502)\" style=\"stroke:#000000; stroke-width:2; stroke-opacity:0.1; fill:none\" points=\"\n",
       "  907.755,1440.48 907.755,125.984 \n",
       "  \"/>\n",
       "<polyline clip-path=\"url(#clip8502)\" style=\"stroke:#000000; stroke-width:2; stroke-opacity:0.1; fill:none\" points=\"\n",
       "  1604.68,1440.48 1604.68,125.984 \n",
       "  \"/>\n",
       "<polyline clip-path=\"url(#clip8502)\" style=\"stroke:#000000; stroke-width:2; stroke-opacity:0.1; fill:none\" points=\"\n",
       "  2301.61,1440.48 2301.61,125.984 \n",
       "  \"/>\n",
       "<polyline clip-path=\"url(#clip8502)\" style=\"stroke:#000000; stroke-width:2; stroke-opacity:0.1; fill:none\" points=\"\n",
       "  149.361,1403.28 2321.26,1403.28 \n",
       "  \"/>\n",
       "<polyline clip-path=\"url(#clip8502)\" style=\"stroke:#000000; stroke-width:2; stroke-opacity:0.1; fill:none\" points=\"\n",
       "  149.361,1093.26 2321.26,1093.26 \n",
       "  \"/>\n",
       "<polyline clip-path=\"url(#clip8502)\" style=\"stroke:#000000; stroke-width:2; stroke-opacity:0.1; fill:none\" points=\"\n",
       "  149.361,783.235 2321.26,783.235 \n",
       "  \"/>\n",
       "<polyline clip-path=\"url(#clip8502)\" style=\"stroke:#000000; stroke-width:2; stroke-opacity:0.1; fill:none\" points=\"\n",
       "  149.361,473.213 2321.26,473.213 \n",
       "  \"/>\n",
       "<polyline clip-path=\"url(#clip8502)\" style=\"stroke:#000000; stroke-width:2; stroke-opacity:0.1; fill:none\" points=\"\n",
       "  149.361,163.191 2321.26,163.191 \n",
       "  \"/>\n",
       "<polyline clip-path=\"url(#clip8500)\" style=\"stroke:#000000; stroke-width:4; stroke-opacity:1; fill:none\" points=\"\n",
       "  149.361,1440.48 2321.26,1440.48 \n",
       "  \"/>\n",
       "<polyline clip-path=\"url(#clip8500)\" style=\"stroke:#000000; stroke-width:4; stroke-opacity:1; fill:none\" points=\"\n",
       "  149.361,1440.48 149.361,125.984 \n",
       "  \"/>\n",
       "<polyline clip-path=\"url(#clip8500)\" style=\"stroke:#000000; stroke-width:4; stroke-opacity:1; fill:none\" points=\"\n",
       "  210.829,1440.48 210.829,1420.77 \n",
       "  \"/>\n",
       "<polyline clip-path=\"url(#clip8500)\" style=\"stroke:#000000; stroke-width:4; stroke-opacity:1; fill:none\" points=\"\n",
       "  907.755,1440.48 907.755,1420.77 \n",
       "  \"/>\n",
       "<polyline clip-path=\"url(#clip8500)\" style=\"stroke:#000000; stroke-width:4; stroke-opacity:1; fill:none\" points=\"\n",
       "  1604.68,1440.48 1604.68,1420.77 \n",
       "  \"/>\n",
       "<polyline clip-path=\"url(#clip8500)\" style=\"stroke:#000000; stroke-width:4; stroke-opacity:1; fill:none\" points=\"\n",
       "  2301.61,1440.48 2301.61,1420.77 \n",
       "  \"/>\n",
       "<polyline clip-path=\"url(#clip8500)\" style=\"stroke:#000000; stroke-width:4; stroke-opacity:1; fill:none\" points=\"\n",
       "  149.361,1403.28 181.939,1403.28 \n",
       "  \"/>\n",
       "<polyline clip-path=\"url(#clip8500)\" style=\"stroke:#000000; stroke-width:4; stroke-opacity:1; fill:none\" points=\"\n",
       "  149.361,1093.26 181.939,1093.26 \n",
       "  \"/>\n",
       "<polyline clip-path=\"url(#clip8500)\" style=\"stroke:#000000; stroke-width:4; stroke-opacity:1; fill:none\" points=\"\n",
       "  149.361,783.235 181.939,783.235 \n",
       "  \"/>\n",
       "<polyline clip-path=\"url(#clip8500)\" style=\"stroke:#000000; stroke-width:4; stroke-opacity:1; fill:none\" points=\"\n",
       "  149.361,473.213 181.939,473.213 \n",
       "  \"/>\n",
       "<polyline clip-path=\"url(#clip8500)\" style=\"stroke:#000000; stroke-width:4; stroke-opacity:1; fill:none\" points=\"\n",
       "  149.361,163.191 181.939,163.191 \n",
       "  \"/>\n",
       "<g clip-path=\"url(#clip8500)\">\n",
       "<text style=\"fill:#000000; fill-opacity:1; font-family:Arial,Helvetica Neue,Helvetica,sans-serif; font-size:48px; text-anchor:middle;\" transform=\"rotate(0, 210.829, 1494.48)\" x=\"210.829\" y=\"1494.48\">0</text>\n",
       "</g>\n",
       "<g clip-path=\"url(#clip8500)\">\n",
       "<text style=\"fill:#000000; fill-opacity:1; font-family:Arial,Helvetica Neue,Helvetica,sans-serif; font-size:48px; text-anchor:middle;\" transform=\"rotate(0, 907.755, 1494.48)\" x=\"907.755\" y=\"1494.48\">1</text>\n",
       "</g>\n",
       "<g clip-path=\"url(#clip8500)\">\n",
       "<text style=\"fill:#000000; fill-opacity:1; font-family:Arial,Helvetica Neue,Helvetica,sans-serif; font-size:48px; text-anchor:middle;\" transform=\"rotate(0, 1604.68, 1494.48)\" x=\"1604.68\" y=\"1494.48\">2</text>\n",
       "</g>\n",
       "<g clip-path=\"url(#clip8500)\">\n",
       "<text style=\"fill:#000000; fill-opacity:1; font-family:Arial,Helvetica Neue,Helvetica,sans-serif; font-size:48px; text-anchor:middle;\" transform=\"rotate(0, 2301.61, 1494.48)\" x=\"2301.61\" y=\"1494.48\">3</text>\n",
       "</g>\n",
       "<g clip-path=\"url(#clip8500)\">\n",
       "<text style=\"fill:#000000; fill-opacity:1; font-family:Arial,Helvetica Neue,Helvetica,sans-serif; font-size:48px; text-anchor:end;\" transform=\"rotate(0, 125.361, 1420.78)\" x=\"125.361\" y=\"1420.78\">-2</text>\n",
       "</g>\n",
       "<g clip-path=\"url(#clip8500)\">\n",
       "<text style=\"fill:#000000; fill-opacity:1; font-family:Arial,Helvetica Neue,Helvetica,sans-serif; font-size:48px; text-anchor:end;\" transform=\"rotate(0, 125.361, 1110.76)\" x=\"125.361\" y=\"1110.76\">-1</text>\n",
       "</g>\n",
       "<g clip-path=\"url(#clip8500)\">\n",
       "<text style=\"fill:#000000; fill-opacity:1; font-family:Arial,Helvetica Neue,Helvetica,sans-serif; font-size:48px; text-anchor:end;\" transform=\"rotate(0, 125.361, 800.735)\" x=\"125.361\" y=\"800.735\">0</text>\n",
       "</g>\n",
       "<g clip-path=\"url(#clip8500)\">\n",
       "<text style=\"fill:#000000; fill-opacity:1; font-family:Arial,Helvetica Neue,Helvetica,sans-serif; font-size:48px; text-anchor:end;\" transform=\"rotate(0, 125.361, 490.713)\" x=\"125.361\" y=\"490.713\">1</text>\n",
       "</g>\n",
       "<g clip-path=\"url(#clip8500)\">\n",
       "<text style=\"fill:#000000; fill-opacity:1; font-family:Arial,Helvetica Neue,Helvetica,sans-serif; font-size:48px; text-anchor:end;\" transform=\"rotate(0, 125.361, 180.691)\" x=\"125.361\" y=\"180.691\">2</text>\n",
       "</g>\n",
       "<g clip-path=\"url(#clip8500)\">\n",
       "<text style=\"fill:#000000; fill-opacity:1; font-family:Arial,Helvetica Neue,Helvetica,sans-serif; font-size:84px; text-anchor:middle;\" transform=\"rotate(0, 1235.31, 73.2)\" x=\"1235.31\" y=\"73.2\">Control Trajectory</text>\n",
       "</g>\n",
       "<g clip-path=\"url(#clip8500)\">\n",
       "<text style=\"fill:#000000; fill-opacity:1; font-family:Arial,Helvetica Neue,Helvetica,sans-serif; font-size:66px; text-anchor:middle;\" transform=\"rotate(0, 1235.31, 1590.4)\" x=\"1235.31\" y=\"1590.4\">time (s)</text>\n",
       "</g>\n",
       "<polyline clip-path=\"url(#clip8502)\" style=\"stroke:#009af9; stroke-width:4; stroke-opacity:1; fill:none\" points=\"\n",
       "  210.829,939.196 252.645,1014.35 294.461,1065.87 336.276,1097.16 378.092,1114.48 419.907,1121.33 461.723,1118.63 503.538,1107.25 545.354,1088.04 587.169,1061.82 \n",
       "  628.985,1029.42 670.8,991.736 712.616,949.689 754.431,904.292 796.247,856.616 838.063,807.764 879.878,758.836 921.694,710.879 963.509,664.839 1005.32,621.523 \n",
       "  1047.14,581.573 1088.96,545.449 1130.77,513.444 1172.59,485.695 1214.4,462.216 1256.22,442.931 1298.03,427.709 1339.85,416.402 1381.66,408.868 1423.48,405 \n",
       "  1465.3,404.747 1507.11,408.123 1548.93,415.214 1590.74,426.185 1632.56,441.264 1674.37,460.733 1716.19,484.905 1758,514.087 1799.82,548.545 1841.64,588.451 \n",
       "  1883.45,633.829 1925.27,684.477 1967.08,739.851 2008.9,798.846 2050.71,859.34 2092.53,917.01 2134.34,969.944 2176.16,1029.11 2217.98,1079.35 2259.79,1125.32 \n",
       "  \n",
       "  \"/>\n",
       "<polyline clip-path=\"url(#clip8502)\" style=\"stroke:#e26f46; stroke-width:4; stroke-opacity:1; fill:none\" points=\"\n",
       "  210.829,1127.85 252.645,1081.34 294.461,1022.25 336.276,957.207 378.092,890.424 419.907,824.253 461.723,760.177 503.538,699.301 545.354,642.502 587.169,590.514 \n",
       "  628.985,543.984 670.8,503.485 712.616,469.51 754.431,442.444 796.247,422.541 838.063,409.89 879.878,404.403 921.694,405.803 963.509,413.646 1005.32,427.348 \n",
       "  1047.14,446.221 1088.96,469.525 1130.77,496.514 1172.59,526.475 1214.4,558.76 1256.22,592.807 1298.03,628.148 1339.85,664.407 1381.66,701.291 1423.48,738.569 \n",
       "  1465.3,776.053 1507.11,813.573 1548.93,850.942 1590.74,887.936 1632.56,924.253 1674.37,959.494 1716.19,993.137 1758,1024.52 1799.82,1052.84 1841.64,1077.14 \n",
       "  1883.45,1096.37 1925.27,1109.36 1967.08,1114.87 2008.9,1111.62 2050.71,1097.51 2092.53,1070.99 2134.34,1032.98 2176.16,988.464 2217.98,1398.89 2259.79,919.282 \n",
       "  \n",
       "  \"/>\n",
       "<polyline clip-path=\"url(#clip8502)\" style=\"stroke:#3da44d; stroke-width:8; stroke-opacity:1; fill:none\" points=\"\n",
       "  210.829,163.191 229.29,163.191 247.75,163.191 266.21,163.191 284.67,163.191 303.131,163.191 321.591,163.191 340.051,163.191 358.512,344.124 376.972,1403.28 \n",
       "  395.432,1403.28 413.892,1403.28 432.353,1403.28 450.813,1403.28 469.273,1403.28 487.733,1403.28 506.194,1403.28 524.654,1403.28 543.114,1403.28 561.574,1403.28 \n",
       "  580.035,1403.28 598.495,1403.28 616.955,1403.28 635.415,1403.28 653.876,1403.28 672.336,1403.28 690.796,1403.28 709.256,1403.28 727.717,1403.28 746.177,1403.28 \n",
       "  764.637,1403.28 783.097,1403.28 801.558,1403.28 820.018,1403.28 838.478,1403.28 856.939,1403.28 875.399,1403.28 893.859,1403.26 912.319,1329.06 930.78,475.125 \n",
       "  949.24,765.363 967.7,163.191 986.16,163.191 1004.62,163.191 1023.08,163.191 1041.54,163.191 1060,163.191 1078.46,163.191 1096.92,163.191 1115.38,163.191 \n",
       "  \n",
       "  \"/>\n",
       "<polyline clip-path=\"url(#clip8502)\" style=\"stroke:#c271d2; stroke-width:8; stroke-opacity:1; fill:none\" points=\"\n",
       "  210.829,1403.28 229.29,1403.28 247.75,1403.28 266.21,1403.28 284.67,1403.28 303.131,1403.28 321.591,1403.28 340.051,1403.28 358.512,1403.28 376.972,1403.28 \n",
       "  395.432,1403.28 413.892,1403.28 432.353,1403.28 450.813,1403.28 469.273,1403.28 487.733,1403.28 506.194,1403.28 524.654,1403.28 543.114,1403.28 561.574,1403.28 \n",
       "  580.035,1403.28 598.495,1403.28 616.955,1403.28 635.415,1303.97 653.876,987.459 672.336,672.876 690.796,163.41 709.256,163.388 727.717,163.366 746.177,163.343 \n",
       "  764.637,163.322 783.097,163.3 801.558,163.28 820.018,163.261 838.478,163.243 856.939,163.227 875.399,163.211 893.859,163.198 912.319,163.187 930.78,163.191 \n",
       "  949.24,163.191 967.7,164.053 986.16,163.191 1004.62,163.191 1023.08,163.191 1041.54,163.191 1060,163.191 1078.46,163.191 1096.92,163.191 1115.38,167.236 \n",
       "  \n",
       "  \"/>\n",
       "<polygon clip-path=\"url(#clip8500)\" points=\"\n",
       "1699.04,511.904 2249.26,511.904 2249.26,209.504 1699.04,209.504 \n",
       "  \" fill=\"#ffffff\" fill-rule=\"evenodd\" fill-opacity=\"1\"/>\n",
       "<polyline clip-path=\"url(#clip8500)\" style=\"stroke:#000000; stroke-width:4; stroke-opacity:1; fill:none\" points=\"\n",
       "  1699.04,511.904 2249.26,511.904 2249.26,209.504 1699.04,209.504 1699.04,511.904 \n",
       "  \"/>\n",
       "<polyline clip-path=\"url(#clip8500)\" style=\"stroke:#009af9; stroke-width:4; stroke-opacity:1; fill:none\" points=\"\n",
       "  1723.04,269.984 1867.04,269.984 \n",
       "  \"/>\n",
       "<g clip-path=\"url(#clip8500)\">\n",
       "<text style=\"fill:#000000; fill-opacity:1; font-family:Arial,Helvetica Neue,Helvetica,sans-serif; font-size:48px; text-anchor:start;\" transform=\"rotate(0, 1891.04, 287.484)\" x=\"1891.04\" y=\"287.484\">u1</text>\n",
       "</g>\n",
       "<polyline clip-path=\"url(#clip8500)\" style=\"stroke:#e26f46; stroke-width:4; stroke-opacity:1; fill:none\" points=\"\n",
       "  1723.04,330.464 1867.04,330.464 \n",
       "  \"/>\n",
       "<g clip-path=\"url(#clip8500)\">\n",
       "<text style=\"fill:#000000; fill-opacity:1; font-family:Arial,Helvetica Neue,Helvetica,sans-serif; font-size:48px; text-anchor:start;\" transform=\"rotate(0, 1891.04, 347.964)\" x=\"1891.04\" y=\"347.964\">u2</text>\n",
       "</g>\n",
       "<polyline clip-path=\"url(#clip8500)\" style=\"stroke:#3da44d; stroke-width:8; stroke-opacity:1; fill:none\" points=\"\n",
       "  1723.04,390.944 1867.04,390.944 \n",
       "  \"/>\n",
       "<g clip-path=\"url(#clip8500)\">\n",
       "<text style=\"fill:#000000; fill-opacity:1; font-family:Arial,Helvetica Neue,Helvetica,sans-serif; font-size:48px; text-anchor:start;\" transform=\"rotate(0, 1891.04, 408.444)\" x=\"1891.04\" y=\"408.444\">u1 (Min. Time)</text>\n",
       "</g>\n",
       "<polyline clip-path=\"url(#clip8500)\" style=\"stroke:#c271d2; stroke-width:8; stroke-opacity:1; fill:none\" points=\"\n",
       "  1723.04,451.424 1867.04,451.424 \n",
       "  \"/>\n",
       "<g clip-path=\"url(#clip8500)\">\n",
       "<text style=\"fill:#000000; fill-opacity:1; font-family:Arial,Helvetica Neue,Helvetica,sans-serif; font-size:48px; text-anchor:start;\" transform=\"rotate(0, 1891.04, 468.924)\" x=\"1891.04\" y=\"468.924\">u2 (Min. Time)</text>\n",
       "</g>\n",
       "</svg>\n"
      ]
     },
     "execution_count": 37,
     "metadata": {},
     "output_type": "execute_result"
    }
   ],
   "source": [
    "plot(title=\"Control Trajectory\",xlabel=\"time (s)\")\n",
    "plot!(t_range,u1,label=\"u1\")\n",
    "plot!(t_range,u2,label=\"u2\")\n",
    "plot!(t_range_mt,u1_mt,width=2,label=\"u1 (Min. Time)\")\n",
    "plot!(t_range_mt,u2_mt,width=2,label=\"u2 (Min. Time)\")"
   ]
  },
  {
   "cell_type": "code",
   "execution_count": null,
   "metadata": {},
   "outputs": [],
   "source": []
  }
 ],
 "metadata": {
  "@webio": {
   "lastCommId": null,
   "lastKernelId": null
  },
  "kernelspec": {
   "display_name": "Julia 1.1.0",
   "language": "julia",
   "name": "julia-1.1"
  },
  "language_info": {
   "file_extension": ".jl",
   "mimetype": "application/julia",
   "name": "julia",
   "version": "1.1.0"
  }
 },
 "nbformat": 4,
 "nbformat_minor": 2
}
