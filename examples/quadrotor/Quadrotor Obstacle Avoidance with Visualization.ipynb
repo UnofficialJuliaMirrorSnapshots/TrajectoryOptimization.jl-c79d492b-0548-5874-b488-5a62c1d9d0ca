{
 "cells": [
  {
   "cell_type": "markdown",
   "metadata": {},
   "source": [
    "## Quadrotor Obstacle Avoidance with Visualization"
   ]
  },
  {
   "cell_type": "code",
   "execution_count": 1,
   "metadata": {},
   "outputs": [
    {
     "name": "stderr",
     "output_type": "stream",
     "text": [
      "┌ Info: Precompiling TrajectoryOptimization [c79d492b-0548-5874-b488-5a62c1d9d0ca]\n",
      "└ @ Base loading.jl:1186\n",
      "┌ Warning: Package TrajectoryOptimization does not have Test in its dependencies:\n",
      "│ - If you have TrajectoryOptimization checked out for development and have\n",
      "│   added Test as a dependency but haven't updated your primary\n",
      "│   environment's manifest file, try `Pkg.resolve()`.\n",
      "│ - Otherwise you may need to report an issue with TrajectoryOptimization\n",
      "└ Loading Test into TrajectoryOptimization from project dependency, future warnings for TrajectoryOptimization are suppressed.\n"
     ]
    },
    {
     "data": {
      "text/html": [
       "    <script class='js-collapse-script'>\n",
       "        var curMatch =\n",
       "            window.location.href\n",
       "            .match(/(.*?)\\/notebooks\\/.*\\.ipynb/);\n",
       "\n",
       "        curMatch = curMatch ||\n",
       "            window.location.href\n",
       "            .match(/(.*?)\\/apps\\/.*\\.ipynb/);\n",
       "\n",
       "        if ( curMatch ) {\n",
       "            $('head').append('<base href=\"' + curMatch[1] + '/\">');\n",
       "        }\n",
       "    </script>\n"
      ],
      "text/plain": [
       "HTML{String}(\"    <script class='js-collapse-script'>\\n        var curMatch =\\n            window.location.href\\n            .match(/(.*?)\\\\/notebooks\\\\/.*\\\\.ipynb/);\\n\\n        curMatch = curMatch ||\\n            window.location.href\\n            .match(/(.*?)\\\\/apps\\\\/.*\\\\.ipynb/);\\n\\n        if ( curMatch ) {\\n            \\$('head').append('<base href=\\\"' + curMatch[1] + '/\\\">');\\n        }\\n    </script>\\n\")"
      ]
     },
     "metadata": {},
     "output_type": "display_data"
    },
    {
     "data": {
      "text/html": [
       "<script class='js-collapse-script' src='/assetserver/c443b012d0ad3ce8e6cc9de306cd3766b1d18a79-assets/webio/dist/bundle.js'></script>"
      ],
      "text/plain": [
       "HTML{String}(\"<script class='js-collapse-script' src='/assetserver/c443b012d0ad3ce8e6cc9de306cd3766b1d18a79-assets/webio/dist/bundle.js'></script>\")"
      ]
     },
     "metadata": {},
     "output_type": "display_data"
    },
    {
     "data": {
      "text/html": [
       "<script class='js-collapse-script' src='/assetserver/c443b012d0ad3ce8e6cc9de306cd3766b1d18a79-assets/providers/ijulia_setup.js'></script>"
      ],
      "text/plain": [
       "HTML{String}(\"<script class='js-collapse-script' src='/assetserver/c443b012d0ad3ce8e6cc9de306cd3766b1d18a79-assets/providers/ijulia_setup.js'></script>\")"
      ]
     },
     "metadata": {},
     "output_type": "display_data"
    },
    {
     "data": {
      "text/html": [
       "  <script class='js-collapse-script'>\n",
       "    $('.js-collapse-script').parent('.output_subarea').css('padding', '0');\n",
       "  </script>\n"
      ],
      "text/plain": [
       "HTML{String}(\"  <script class='js-collapse-script'>\\n    \\$('.js-collapse-script').parent('.output_subarea').css('padding', '0');\\n  </script>\\n\")"
      ]
     },
     "metadata": {},
     "output_type": "display_data"
    }
   ],
   "source": [
    "using TrajectoryOptimization\n",
    "using Plots, LinearAlgebra, MeshCat, GeometryTypes, CoordinateTransformations, FileIO, MeshIO"
   ]
  },
  {
   "cell_type": "markdown",
   "metadata": {},
   "source": [
    "Import the quadrotor model"
   ]
  },
  {
   "cell_type": "code",
   "execution_count": 2,
   "metadata": {},
   "outputs": [],
   "source": [
    "model = Dynamics.quadrotor_model\n",
    "n = model.n # number of states\n",
    "m = model.m; # number of controls"
   ]
  },
  {
   "cell_type": "markdown",
   "metadata": {},
   "source": [
    "Define numerical type"
   ]
  },
  {
   "cell_type": "code",
   "execution_count": 3,
   "metadata": {},
   "outputs": [],
   "source": [
    "T = Float64;"
   ]
  },
  {
   "cell_type": "markdown",
   "metadata": {},
   "source": [
    "Define initial and goals states"
   ]
  },
  {
   "cell_type": "code",
   "execution_count": 4,
   "metadata": {},
   "outputs": [],
   "source": [
    "q0 = [1.;0.;0.;0.] # unit quaternion\n",
    "\n",
    "x0 = zeros(T,n)\n",
    "x0[1:3] = [0.; 0.; 1.]\n",
    "x0[4:7] = q0\n",
    "\n",
    "xf = zero(x0)\n",
    "xf[1:3] = [0.;40.; 1.]\n",
    "xf[4:7] = q0;"
   ]
  },
  {
   "cell_type": "markdown",
   "metadata": {},
   "source": [
    "Define a cost function, e.g., quadratic"
   ]
  },
  {
   "cell_type": "code",
   "execution_count": 5,
   "metadata": {},
   "outputs": [],
   "source": [
    "Q = (1.0e-2)*Diagonal(I,n)\n",
    "R = (1.0e-1)*Diagonal(I,m)\n",
    "Qf = 1000.0*Diagonal(I,n)\n",
    "cost = LQRCost(Q, R, Qf, xf);"
   ]
  },
  {
   "cell_type": "markdown",
   "metadata": {},
   "source": [
    "Define constraints"
   ]
  },
  {
   "cell_type": "code",
   "execution_count": 6,
   "metadata": {},
   "outputs": [],
   "source": [
    "bnd = BoundConstraint(n,m,u_min=0.0,u_max=5.0,trim=true); # stagewise constraint\n",
    "goal = goal_constraint(xf)\n",
    "\n",
    "# create obstacle constraints\n",
    "r_quad = 1.0\n",
    "r_sphere = 2.0\n",
    "spheres = ((0.,10.,0.,r_sphere),(0.,20.,0.,r_sphere),(0.,30.,0.,r_sphere))\n",
    "n_spheres = 3\n",
    "\n",
    "function sphere_obs3(c,x,u)\n",
    "    for i = 1:n_spheres\n",
    "        c[i] = sphere_constraint(x,spheres[i][1],spheres[i][2],spheres[i][3],spheres[i][4]+r_quad)\n",
    "    end\n",
    "    return nothing\n",
    "end\n",
    "\n",
    "obs = Constraint{Inequality}(sphere_obs3,n,m,n_spheres,:obs)\n",
    "\n",
    "con = [bnd,obs,goal]; # constraint set"
   ]
  },
  {
   "cell_type": "markdown",
   "metadata": {},
   "source": [
    "Define a problem"
   ]
  },
  {
   "cell_type": "code",
   "execution_count": 7,
   "metadata": {},
   "outputs": [],
   "source": [
    "N = 101 # number of knot points\n",
    "dt = 0.1 # total time\n",
    "\n",
    "U = [0.5*9.81/4.0*ones(m) for k = 1:N-1] # initial hovering control trajectory\n",
    "obj = Objective(cost,N) # objective with same stagewise costs\n",
    "\n",
    "con = ProblemConstraints(con,N) # constraint trajectory\n",
    "\n",
    "prob = Problem(model,obj, constraints=con, x0=x0, integration=:rk4, N=N, dt=dt)\n",
    "initial_controls!(prob,U); # initialize problem with controls"
   ]
  },
  {
   "cell_type": "markdown",
   "metadata": {},
   "source": [
    "Solve problem"
   ]
  },
  {
   "cell_type": "code",
   "execution_count": 8,
   "metadata": {},
   "outputs": [],
   "source": [
    "solve!(prob, ALTROSolverOptions{T}(verbose=true)) # solve with iLQR"
   ]
  },
  {
   "cell_type": "markdown",
   "metadata": {},
   "source": [
    "Visualization"
   ]
  },
  {
   "cell_type": "code",
   "execution_count": 9,
   "metadata": {
    "scrolled": false
   },
   "outputs": [
    {
     "data": {
      "text/html": [
       "<div class='display:none'></div><unsafe-script style='display:none'>\n",
       "WebIO.mount(this.previousSibling,{&quot;props&quot;:{},&quot;nodeType&quot;:&quot;Scope&quot;,&quot;type&quot;:&quot;node&quot;,&quot;instanceArgs&quot;:{&quot;imports&quot;:{&quot;data&quot;:[],&quot;type&quot;:&quot;async_block&quot;},&quot;id&quot;:&quot;scope-29bfe614-176b-4b5a-b9c0-cf3a9cc1e44c&quot;,&quot;handlers&quot;:{&quot;_promises&quot;:{&quot;importsLoaded&quot;:[function () {\n",
       "    var frame = this.dom.querySelector(&quot;#ifr&quot;);\n",
       "    var doc = frame.contentDocument\n",
       "    var win = frame.contentWindow\n",
       "\n",
       "    // Ensure that the iframe&#39;s baseURI matches the baseURI of the\n",
       "    // outer document. This is necessary to resolve\n",
       "    // https://github.com/JuliaGizmos/WebIO.jl/issues/167\n",
       "    var base = doc.createElement(&quot;base&quot;);\n",
       "    base.setAttribute(&quot;href&quot;, document.baseURI);\n",
       "    doc.head.appendChild(base);\n",
       "\n",
       "    var webio = doc.createElement(&quot;script&quot;)\n",
       "    webio.src = &quot;/assetserver/c443b012d0ad3ce8e6cc9de306cd3766b1d18a79-assets/webio/dist/bundle.js&quot;\n",
       "    var parent = window\n",
       "\n",
       "    function resizeIframe() {\n",
       "        doc.body.style.padding = &#39;0&#39;\n",
       "        doc.body.style.margin = &#39;0&#39;\n",
       "        doc.documentElement.height = &#39;100%&#39;\n",
       "        doc.body.height = &#39;100%&#39;\n",
       "    }\n",
       "\n",
       "    webio.onload = function () {\n",
       "        win.WebIO.sendCallback = parent.WebIO.sendCallback; // Share stuff\n",
       "        win.WebIO.scopes = parent.WebIO.scopes\n",
       "        win.WebIO.obsscopes = parent.WebIO.obsscopes\n",
       "        win.WebIO._connected = true\n",
       "        doc.body.innerHTML = &quot;&lt;html&gt;&lt;body&gt;&quot; + &quot;&lt;div class=&#39;display:none&#39;&gt;&lt;/div&gt;&lt;unsafe-script style=&#39;display:none&#39;&gt;\\nWebIO.mount(this.previousSibling,{&amp;quot;props&amp;quot;:{},&amp;quot;nodeType&amp;quot;:&amp;quot;Scope&amp;quot;,&amp;quot;type&amp;quot;:&amp;quot;node&amp;quot;,&amp;quot;instanceArgs&amp;quot;:{&amp;quot;imports&amp;quot;:{&amp;quot;data&amp;quot;:[{&amp;quot;name&amp;quot;:null,&amp;quot;type&amp;quot;:&amp;quot;js&amp;quot;,&amp;quot;url&amp;quot;:&amp;quot;/assetserver/39091d6b9eb892b592bedf9cea6c288f61f7d3f3-main.min.js&amp;quot;}],&amp;quot;type&amp;quot;:&amp;quot;async_block&amp;quot;},&amp;quot;id&amp;quot;:&amp;quot;scope-811fcc65-140e-41b1-ba7b-07809c0b1f5c&amp;quot;,&amp;quot;handlers&amp;quot;:{&amp;quot;meshcat-command&amp;quot;:[(function (val){return this.viewer.handle_command_message({&amp;quot;data&amp;quot;:val})})],&amp;quot;_promises&amp;quot;:{&amp;quot;importsLoaded&amp;quot;:[(function (mc){var element=this.dom.children[0]; this.viewer=new mc.Viewer(element); WebIO.setval({&amp;quot;name&amp;quot;:&amp;quot;meshcat-request&amp;quot;,&amp;quot;scope&amp;quot;:&amp;quot;scope-811fcc65-140e-41b1-ba7b-07809c0b1f5c&amp;quot;,&amp;quot;id&amp;quot;:&amp;quot;ob_02&amp;quot;,&amp;quot;type&amp;quot;:&amp;quot;observable&amp;quot;},String(Date.now())); window.document.body.style.margin=&amp;quot;0&amp;quot;; return window.meshcat_viewer=this.viewer})]}},&amp;quot;systemjs_options&amp;quot;:null,&amp;quot;observables&amp;quot;:{&amp;quot;meshcat-command&amp;quot;:{&amp;quot;sync&amp;quot;:false,&amp;quot;id&amp;quot;:&amp;quot;ob_01&amp;quot;,&amp;quot;value&amp;quot;:[]},&amp;quot;meshcat-controls&amp;quot;:{&amp;quot;sync&amp;quot;:true,&amp;quot;id&amp;quot;:&amp;quot;ob_03&amp;quot;,&amp;quot;value&amp;quot;:[]},&amp;quot;meshcat-request&amp;quot;:{&amp;quot;sync&amp;quot;:true,&amp;quot;id&amp;quot;:&amp;quot;ob_02&amp;quot;,&amp;quot;value&amp;quot;:&amp;quot;&amp;quot;}}},&amp;quot;children&amp;quot;:[{&amp;quot;props&amp;quot;:{&amp;quot;className&amp;quot;:&amp;quot;meshcat-viewer&amp;quot;,&amp;quot;style&amp;quot;:{&amp;quot;left&amp;quot;:0,&amp;quot;right&amp;quot;:0,&amp;quot;overflow&amp;quot;:&amp;quot;hidden&amp;quot;,&amp;quot;position&amp;quot;:&amp;quot;absolute&amp;quot;,&amp;quot;height&amp;quot;:&amp;quot;100vh&amp;quot;,&amp;quot;margin&amp;quot;:0,&amp;quot;width&amp;quot;:&amp;quot;100vw&amp;quot;}},&amp;quot;nodeType&amp;quot;:&amp;quot;DOM&amp;quot;,&amp;quot;type&amp;quot;:&amp;quot;node&amp;quot;,&amp;quot;instanceArgs&amp;quot;:{&amp;quot;namespace&amp;quot;:&amp;quot;html&amp;quot;,&amp;quot;tag&amp;quot;:&amp;quot;div&amp;quot;},&amp;quot;children&amp;quot;:[]}]})&lt;/unsafe-script&gt;&quot; + &quot;&lt;/body&gt;&lt;/html&gt;&quot;;\n",
       "        setTimeout(function () { resizeIframe() }, 0)\n",
       "    }\n",
       "\n",
       "    doc.body.appendChild(webio)\n",
       "},(function (){return this.dom.style.height=&quot;100%&quot;})]}},&quot;systemjs_options&quot;:null,&quot;observables&quot;:{}},&quot;children&quot;:[{&quot;props&quot;:{&quot;style&quot;:{&quot;flexDirection&quot;:&quot;column&quot;,&quot;height&quot;:&quot;100%&quot;,&quot;minHeight&quot;:&quot;400px&quot;,&quot;display&quot;:&quot;flex&quot;,&quot;width&quot;:&quot;100%&quot;,&quot;overflow&quot;:&quot;hidden&quot;}},&quot;nodeType&quot;:&quot;DOM&quot;,&quot;type&quot;:&quot;node&quot;,&quot;instanceArgs&quot;:{&quot;namespace&quot;:&quot;html&quot;,&quot;tag&quot;:&quot;div&quot;},&quot;children&quot;:[{&quot;props&quot;:{&quot;attributes&quot;:{&quot;height&quot;:&quot;100%&quot;,&quot;scrolling&quot;:&quot;no&quot;,&quot;src&quot;:&quot;javascript:void(0)&quot;,&quot;frameborder&quot;:0},&quot;id&quot;:&quot;ifr&quot;,&quot;style&quot;:{&quot;width&quot;:&quot;100%&quot;,&quot;flexGrow&quot;:&quot;1&quot;}},&quot;nodeType&quot;:&quot;DOM&quot;,&quot;type&quot;:&quot;node&quot;,&quot;instanceArgs&quot;:{&quot;namespace&quot;:&quot;html&quot;,&quot;tag&quot;:&quot;iframe&quot;},&quot;children&quot;:[]}]}]})</unsafe-script>"
      ],
      "text/plain": [
       "WebIO.Scope(\"scope-29bfe614-176b-4b5a-b9c0-cf3a9cc1e44c\", WebIO.Node{WebIO.DOM}(WebIO.DOM(:html, :div), Any[Node{DOM}(DOM(:html, :iframe), Any[], Dict{Symbol,Any}(:attributes=>Dict{String,Any}(\"height\"=>\"100%\",\"scrolling\"=>\"no\",\"src\"=>\"javascript:void(0)\",\"frameborder\"=>0),:id=>\"ifr\",:style=>Dict(\"width\"=>\"100%\",\"flexGrow\"=>\"1\")), 0)], Dict{Symbol,Any}(:style=>Dict(\"flexDirection\"=>\"column\",\"height\"=>\"100%\",\"minHeight\"=>\"400px\",\"display\"=>\"flex\",\"width\"=>\"100%\",\"overflow\"=>\"hidden\")), 1), Dict{String,Tuple{Observables.AbstractObservable,Union{Nothing, Bool}}}(), Set(String[]), nothing, Any[], Dict{Any,Any}(\"_promises\"=>Dict{Any,Any}(\"importsLoaded\"=>Any[JSString(\"function () {\\n    var frame = this.dom.querySelector(\\\"#ifr\\\");\\n    var doc = frame.contentDocument\\n    var win = frame.contentWindow\\n\\n    // Ensure that the iframe's baseURI matches the baseURI of the\\n    // outer document. This is necessary to resolve\\n    // https://github.com/JuliaGizmos/WebIO.jl/issues/167\\n    var base = doc.createElement(\\\"base\\\");\\n    base.setAttribute(\\\"href\\\", document.baseURI);\\n    doc.head.appendChild(base);\\n\\n    var webio = doc.createElement(\\\"script\\\")\\n    webio.src = \\\"/assetserver/c443b012d0ad3ce8e6cc9de306cd3766b1d18a79-assets/webio/dist/bundle.js\\\"\\n    var parent = window\\n\\n    function resizeIframe() {\\n        doc.body.style.padding = '0'\\n        doc.body.style.margin = '0'\\n        doc.documentElement.height = '100%'\\n        doc.body.height = '100%'\\n    }\\n\\n    webio.onload = function () {\\n        win.WebIO.sendCallback = parent.WebIO.sendCallback; // Share stuff\\n        win.WebIO.scopes = parent.WebIO.scopes\\n        win.WebIO.obsscopes = parent.WebIO.obsscopes\\n        win.WebIO._connected = true\\n        doc.body.innerHTML = \\\"<html><body>\\\" + \\\"<div class='display:none'></div><unsafe-script style='display:none'>\\\\nWebIO.mount(this.previousSibling,{&quot;props&quot;:{},&quot;nodeType&quot;:&quot;Scope&quot;,&quot;type&quot;:&quot;node&quot;,&quot;instanceArgs&quot;:{&quot;imports&quot;:{&quot;data&quot;:[{&quot;name&quot;:null,&quot;type&quot;:&quot;js&quot;,&quot;url&quot;:&quot;/assetserver/39091d6b9eb892b592bedf9cea6c288f61f7d3f3-main.min.js&quot;}],&quot;type&quot;:&quot;async_block&quot;},&quot;id&quot;:&quot;scope-811fcc65-140e-41b1-ba7b-07809c0b1f5c&quot;,&quot;handlers&quot;:{&quot;meshcat-command&quot;:[(function (val){return this.viewer.handle_command_message({&quot;data&quot;:val})})],&quot;_promises&quot;:{&quot;importsLoaded&quot;:[(function (mc){var element=this.dom.children[0]; this.viewer=new mc.Viewer(element); WebIO.setval({&quot;name&quot;:&quot;meshcat-request&quot;,&quot;scope&quot;:&quot;scope-811fcc65-140e-41b1-ba7b-07809c0b1f5c&quot;,&quot;id&quot;:&quot;ob_02&quot;,&quot;type&quot;:&quot;observable&quot;},String(Date.now())); window.document.body.style.margin=&quot;0&quot;; return window.meshcat_viewer=this.viewer})]}},&quot;systemjs_options&quot;:null,&quot;observables&quot;:{&quot;meshcat-command&quot;:{&quot;sync&quot;:false,&quot;id&quot;:&quot;ob_01&quot;,&quot;value&quot;:[]},&quot;meshcat-controls&quot;:{&quot;sync&quot;:true,&quot;id&quot;:&quot;ob_03&quot;,&quot;value&quot;:[]},&quot;meshcat-request&quot;:{&quot;sync&quot;:true,&quot;id&quot;:&quot;ob_02&quot;,&quot;value&quot;:&quot;&quot;}}},&quot;children&quot;:[{&quot;props&quot;:{&quot;className&quot;:&quot;meshcat-viewer&quot;,&quot;style&quot;:{&quot;left&quot;:0,&quot;right&quot;:0,&quot;overflow&quot;:&quot;hidden&quot;,&quot;position&quot;:&quot;absolute&quot;,&quot;height&quot;:&quot;100vh&quot;,&quot;margin&quot;:0,&quot;width&quot;:&quot;100vw&quot;}},&quot;nodeType&quot;:&quot;DOM&quot;,&quot;type&quot;:&quot;node&quot;,&quot;instanceArgs&quot;:{&quot;namespace&quot;:&quot;html&quot;,&quot;tag&quot;:&quot;div&quot;},&quot;children&quot;:[]}]})</unsafe-script>\\\" + \\\"</body></html>\\\";\\n        setTimeout(function () { resizeIframe() }, 0)\\n    }\\n\\n    doc.body.appendChild(webio)\\n}\"), JSString(\"(function (){return this.dom.style.height=\\\"100%\\\"})\")])), WebIO.ConnectionPool(Channel{Any}(sz_max:9223372036854775807,sz_curr:0), Set(WebIO.AbstractConnection[]), Channel{WebIO.AbstractConnection}(sz_max:32,sz_curr:0)))"
      ]
     },
     "execution_count": 9,
     "metadata": {},
     "output_type": "execute_result"
    }
   ],
   "source": [
    "vis = Visualizer()\n",
    "# open(vis)\n",
    "IJuliaCell(vis)"
   ]
  },
  {
   "cell_type": "code",
   "execution_count": 10,
   "metadata": {},
   "outputs": [],
   "source": [
    "# color options\n",
    "red_ = MeshPhongMaterial(color=RGBA(1, 0, 0, 1.0))\n",
    "black_ = MeshPhongMaterial(color=RGBA(0, 0, 0, 1.0))\n",
    "blue_ = MeshPhongMaterial(color=RGBA(0, 0, 1, 1.0));"
   ]
  },
  {
   "cell_type": "code",
   "execution_count": 11,
   "metadata": {},
   "outputs": [],
   "source": [
    "# Import quadrotor obj file\n",
    "traj_folder = joinpath(dirname(pathof(TrajectoryOptimization)),\"..\")\n",
    "urdf_folder = joinpath(traj_folder, \"dynamics\",\"urdf\")\n",
    "obj = joinpath(urdf_folder, \"quadrotor_base.obj\")\n",
    "robot_obj = FileIO.load(obj)\n",
    "\n",
    "robot = vis[\"robot\"]\n",
    "robot_obj.vertices .= robot_obj.vertices .* 0.33\n",
    "setobject!(vis[\"robot\"][\"quad\"],robot_obj,black_);"
   ]
  },
  {
   "cell_type": "code",
   "execution_count": 12,
   "metadata": {},
   "outputs": [],
   "source": [
    "# geometries\n",
    "sphere_small = HyperSphere(Point3f0(0), convert(Float32,0.1*r_quad)) # trajectory points\n",
    "sphere_medium = HyperSphere(Point3f0(0), convert(Float32,r_quad));"
   ]
  },
  {
   "cell_type": "code",
   "execution_count": 13,
   "metadata": {},
   "outputs": [],
   "source": [
    "# Create and place obstacles\n",
    "obstacles = vis[\"obs\"]\n",
    "\n",
    "for i = 1:n_spheres\n",
    "    setobject!(vis[\"obs\"][\"s$i\"],HyperSphere(Point3f0(0), convert(Float32,spheres[i][4])),red_)\n",
    "    settransform!(vis[\"obs\"][\"s$i\"], Translation(spheres[i][1], spheres[i][2], spheres[i][3]))\n",
    "end"
   ]
  },
  {
   "cell_type": "code",
   "execution_count": 14,
   "metadata": {},
   "outputs": [],
   "source": [
    "# Create and place trajectory\n",
    "traj = vis[\"traj\"]\n",
    "\n",
    "for i = 1:N\n",
    "    setobject!(vis[\"traj\"][\"t$i\"],sphere_small,blue_)\n",
    "    settransform!(vis[\"traj\"][\"t$i\"], Translation(prob.X[i][1], prob.X[i][2], prob.X[i][3]))\n",
    "end"
   ]
  },
  {
   "cell_type": "code",
   "execution_count": 15,
   "metadata": {},
   "outputs": [],
   "source": [
    "# Set camera location\n",
    "settransform!(vis[\"/Cameras/default\"], compose(Translation(25., 15., 20.),LinearMap(RotY(-pi/12))));"
   ]
  },
  {
   "cell_type": "code",
   "execution_count": 16,
   "metadata": {},
   "outputs": [],
   "source": [
    "# Animation\n",
    "anim = MeshCat.Animation(20)\n",
    "for i = 1:N\n",
    "    MeshCat.atframe(anim,vis,i) do frame\n",
    "        settransform!(frame[\"robot\"], compose(Translation(prob.X[i][1:3]...),LinearMap(Quat(prob.X[i][4:7]...))))\n",
    "    end\n",
    "end\n",
    "MeshCat.setanimation!(vis,anim)"
   ]
  }
 ],
 "metadata": {
  "@webio": {
   "lastCommId": null,
   "lastKernelId": null
  },
  "kernelspec": {
   "display_name": "Julia 1.1.0",
   "language": "julia",
   "name": "julia-1.1"
  },
  "language_info": {
   "file_extension": ".jl",
   "mimetype": "application/julia",
   "name": "julia",
   "version": "1.1.0"
  }
 },
 "nbformat": 4,
 "nbformat_minor": 2
}
