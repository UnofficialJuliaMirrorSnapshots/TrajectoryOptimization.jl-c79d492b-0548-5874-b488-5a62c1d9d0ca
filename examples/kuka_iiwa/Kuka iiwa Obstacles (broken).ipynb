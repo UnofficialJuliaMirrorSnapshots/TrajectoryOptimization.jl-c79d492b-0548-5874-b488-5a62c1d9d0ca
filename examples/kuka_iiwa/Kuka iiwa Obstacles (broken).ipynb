{
 "cells": [
  {
   "cell_type": "code",
   "execution_count": 10,
   "metadata": {},
   "outputs": [],
   "source": [
    "using MeshCatMechanisms\n",
    "using MeshCat\n",
    "using LinearAlgebra\n",
    "using RigidBodyDynamics\n",
    "using Plots\n",
    "using GeometryTypes\n",
    "using CoordinateTransformations\n",
    "using TrajectoryOptimization"
   ]
  },
  {
   "cell_type": "code",
   "execution_count": 11,
   "metadata": {},
   "outputs": [
    {
     "data": {
      "text/plain": [
       "(14, 7)"
      ]
     },
     "execution_count": 11,
     "metadata": {},
     "output_type": "execute_result"
    }
   ],
   "source": [
    "model = Dynamics.kuka_model\n",
    "n,m = model.n, model.m"
   ]
  },
  {
   "cell_type": "code",
   "execution_count": 29,
   "metadata": {},
   "outputs": [
    {
     "data": {
      "text/plain": [
       "Float64"
      ]
     },
     "execution_count": 29,
     "metadata": {},
     "output_type": "execute_result"
    }
   ],
   "source": [
    "T = Float64"
   ]
  },
  {
   "cell_type": "code",
   "execution_count": 30,
   "metadata": {
    "scrolled": false
   },
   "outputs": [
    {
     "data": {
      "text/html": [
       "<div class='display:none'></div><unsafe-script style='display:none'>\n",
       "WebIO.mount(this.previousSibling,{&quot;props&quot;:{},&quot;nodeType&quot;:&quot;Scope&quot;,&quot;type&quot;:&quot;node&quot;,&quot;instanceArgs&quot;:{&quot;imports&quot;:{&quot;data&quot;:[],&quot;type&quot;:&quot;async_block&quot;},&quot;id&quot;:&quot;scope-4b7fa983-6798-4c7b-bb4a-ffb476b17937&quot;,&quot;handlers&quot;:{&quot;_promises&quot;:{&quot;importsLoaded&quot;:[function () {\n",
       "    var frame = this.dom.querySelector(&quot;#ifr&quot;);\n",
       "    var doc = frame.contentDocument\n",
       "    var win = frame.contentWindow\n",
       "\n",
       "    // Ensure that the iframe&#39;s baseURI matches the baseURI of the\n",
       "    // outer document. This is necessary to resolve\n",
       "    // https://github.com/JuliaGizmos/WebIO.jl/issues/167\n",
       "    var base = doc.createElement(&quot;base&quot;);\n",
       "    base.setAttribute(&quot;href&quot;, document.baseURI);\n",
       "    doc.head.appendChild(base);\n",
       "\n",
       "    var webio = doc.createElement(&quot;script&quot;)\n",
       "    webio.src = &quot;/assetserver/c443b012d0ad3ce8e6cc9de306cd3766b1d18a79-assets/webio/dist/bundle.js&quot;\n",
       "    var parent = window\n",
       "\n",
       "    function resizeIframe() {\n",
       "        doc.body.style.padding = &#39;0&#39;\n",
       "        doc.body.style.margin = &#39;0&#39;\n",
       "        doc.documentElement.height = &#39;100%&#39;\n",
       "        doc.body.height = &#39;100%&#39;\n",
       "    }\n",
       "\n",
       "    webio.onload = function () {\n",
       "        win.WebIO.sendCallback = parent.WebIO.sendCallback; // Share stuff\n",
       "        win.WebIO.scopes = parent.WebIO.scopes\n",
       "        win.WebIO.obsscopes = parent.WebIO.obsscopes\n",
       "        win.WebIO._connected = true\n",
       "        doc.body.innerHTML = &quot;&lt;html&gt;&lt;body&gt;&quot; + &quot;&lt;div class=&#39;display:none&#39;&gt;&lt;/div&gt;&lt;unsafe-script style=&#39;display:none&#39;&gt;\\nWebIO.mount(this.previousSibling,{&amp;quot;props&amp;quot;:{},&amp;quot;nodeType&amp;quot;:&amp;quot;Scope&amp;quot;,&amp;quot;type&amp;quot;:&amp;quot;node&amp;quot;,&amp;quot;instanceArgs&amp;quot;:{&amp;quot;imports&amp;quot;:{&amp;quot;data&amp;quot;:[{&amp;quot;name&amp;quot;:null,&amp;quot;type&amp;quot;:&amp;quot;js&amp;quot;,&amp;quot;url&amp;quot;:&amp;quot;/assetserver/39091d6b9eb892b592bedf9cea6c288f61f7d3f3-main.min.js&amp;quot;}],&amp;quot;type&amp;quot;:&amp;quot;async_block&amp;quot;},&amp;quot;id&amp;quot;:&amp;quot;scope-25397a03-7735-4eed-ab8f-667c9119e8e6&amp;quot;,&amp;quot;handlers&amp;quot;:{&amp;quot;meshcat-command&amp;quot;:[(function (val){return this.viewer.handle_command_message({&amp;quot;data&amp;quot;:val})})],&amp;quot;_promises&amp;quot;:{&amp;quot;importsLoaded&amp;quot;:[(function (mc){var element=this.dom.children[0]; this.viewer=new mc.Viewer(element); WebIO.setval({&amp;quot;name&amp;quot;:&amp;quot;meshcat-request&amp;quot;,&amp;quot;scope&amp;quot;:&amp;quot;scope-25397a03-7735-4eed-ab8f-667c9119e8e6&amp;quot;,&amp;quot;id&amp;quot;:&amp;quot;ob_08&amp;quot;,&amp;quot;type&amp;quot;:&amp;quot;observable&amp;quot;},String(Date.now())); window.document.body.style.margin=&amp;quot;0&amp;quot;; return window.meshcat_viewer=this.viewer})]}},&amp;quot;systemjs_options&amp;quot;:null,&amp;quot;observables&amp;quot;:{&amp;quot;meshcat-command&amp;quot;:{&amp;quot;sync&amp;quot;:false,&amp;quot;id&amp;quot;:&amp;quot;ob_07&amp;quot;,&amp;quot;value&amp;quot;:[131,166,109,97,116,114,105,120,199,64,23,141,72,172,44,126,73,238,146,0,0,128,63,0,0,0,0,11,5,191,128,0,0,128,63,126,73,238,146,0,0,0,0,0,0,128,191,172,75,19,3,141,72,172,44,0,0,0,0,0,0,0,16,0,0,0,146,236,81,56,61,0,0,128,63,164,116,121,112,101,173,115,101,116,95,116,114,97,110,115,102,111,114,109,164,112,97,116,104,218,0,133,47,109,101,115,104,99,97,116,47,98,97,115,101,47,119,111,114,108,100,47,98,97,115,101,47,105,105,119,97,95,108,105,110,107,95,48,47,105,105,119,97,95,108,105,110,107,95,49,47,105,105,119,97,95,108,105,110,107,95,50,47,105,105,119,97,95,108,105,110,107,95,51,47,105,105,119,97,95,108,105,110,107,95,52,47,105,105,119,97,95,108,105,110,107,95,53,47,105,105,119,97,95,108,105,110,107,95,54,47,105,105,119,97,95,108,105,110,107,95,55,47,105,105,119,97,95,108,105,110,107,95,101,101]},&amp;quot;meshcat-controls&amp;quot;:{&amp;quot;sync&amp;quot;:true,&amp;quot;id&amp;quot;:&amp;quot;ob_09&amp;quot;,&amp;quot;value&amp;quot;:[]},&amp;quot;meshcat-request&amp;quot;:{&amp;quot;sync&amp;quot;:true,&amp;quot;id&amp;quot;:&amp;quot;ob_08&amp;quot;,&amp;quot;value&amp;quot;:&amp;quot;&amp;quot;}}},&amp;quot;children&amp;quot;:[{&amp;quot;props&amp;quot;:{&amp;quot;className&amp;quot;:&amp;quot;meshcat-viewer&amp;quot;,&amp;quot;style&amp;quot;:{&amp;quot;left&amp;quot;:0,&amp;quot;right&amp;quot;:0,&amp;quot;overflow&amp;quot;:&amp;quot;hidden&amp;quot;,&amp;quot;position&amp;quot;:&amp;quot;absolute&amp;quot;,&amp;quot;height&amp;quot;:&amp;quot;100vh&amp;quot;,&amp;quot;margin&amp;quot;:0,&amp;quot;width&amp;quot;:&amp;quot;100vw&amp;quot;}},&amp;quot;nodeType&amp;quot;:&amp;quot;DOM&amp;quot;,&amp;quot;type&amp;quot;:&amp;quot;node&amp;quot;,&amp;quot;instanceArgs&amp;quot;:{&amp;quot;namespace&amp;quot;:&amp;quot;html&amp;quot;,&amp;quot;tag&amp;quot;:&amp;quot;div&amp;quot;},&amp;quot;children&amp;quot;:[]}]})&lt;/unsafe-script&gt;&quot; + &quot;&lt;/body&gt;&lt;/html&gt;&quot;;\n",
       "        setTimeout(function () { resizeIframe() }, 0)\n",
       "    }\n",
       "\n",
       "    doc.body.appendChild(webio)\n",
       "},(function (){return this.dom.style.height=&quot;100%&quot;})]}},&quot;systemjs_options&quot;:null,&quot;observables&quot;:{}},&quot;children&quot;:[{&quot;props&quot;:{&quot;style&quot;:{&quot;flexDirection&quot;:&quot;column&quot;,&quot;height&quot;:&quot;100%&quot;,&quot;minHeight&quot;:&quot;400px&quot;,&quot;display&quot;:&quot;flex&quot;,&quot;width&quot;:&quot;100%&quot;,&quot;overflow&quot;:&quot;hidden&quot;}},&quot;nodeType&quot;:&quot;DOM&quot;,&quot;type&quot;:&quot;node&quot;,&quot;instanceArgs&quot;:{&quot;namespace&quot;:&quot;html&quot;,&quot;tag&quot;:&quot;div&quot;},&quot;children&quot;:[{&quot;props&quot;:{&quot;attributes&quot;:{&quot;height&quot;:&quot;100%&quot;,&quot;scrolling&quot;:&quot;no&quot;,&quot;src&quot;:&quot;javascript:void(0)&quot;,&quot;frameborder&quot;:0},&quot;id&quot;:&quot;ifr&quot;,&quot;style&quot;:{&quot;width&quot;:&quot;100%&quot;,&quot;flexGrow&quot;:&quot;1&quot;}},&quot;nodeType&quot;:&quot;DOM&quot;,&quot;type&quot;:&quot;node&quot;,&quot;instanceArgs&quot;:{&quot;namespace&quot;:&quot;html&quot;,&quot;tag&quot;:&quot;iframe&quot;},&quot;children&quot;:[]}]}]})</unsafe-script>"
      ],
      "text/plain": [
       "WebIO.Scope(\"scope-4b7fa983-6798-4c7b-bb4a-ffb476b17937\", WebIO.Node{WebIO.DOM}(WebIO.DOM(:html, :div), Any[Node{DOM}(DOM(:html, :iframe), Any[], Dict{Symbol,Any}(:attributes=>Dict{String,Any}(\"height\"=>\"100%\",\"scrolling\"=>\"no\",\"src\"=>\"javascript:void(0)\",\"frameborder\"=>0),:id=>\"ifr\",:style=>Dict(\"width\"=>\"100%\",\"flexGrow\"=>\"1\")), 0)], Dict{Symbol,Any}(:style=>Dict(\"flexDirection\"=>\"column\",\"height\"=>\"100%\",\"minHeight\"=>\"400px\",\"display\"=>\"flex\",\"width\"=>\"100%\",\"overflow\"=>\"hidden\")), 1), Dict{String,Tuple{Observables.AbstractObservable,Union{Nothing, Bool}}}(), Set(String[]), nothing, Any[], Dict{Any,Any}(\"_promises\"=>Dict{Any,Any}(\"importsLoaded\"=>Any[JSString(\"function () {\\n    var frame = this.dom.querySelector(\\\"#ifr\\\");\\n    var doc = frame.contentDocument\\n    var win = frame.contentWindow\\n\\n    // Ensure that the iframe's baseURI matches the baseURI of the\\n    // outer document. This is necessary to resolve\\n    // https://github.com/JuliaGizmos/WebIO.jl/issues/167\\n    var base = doc.createElement(\\\"base\\\");\\n    base.setAttribute(\\\"href\\\", document.baseURI);\\n    doc.head.appendChild(base);\\n\\n    var webio = doc.createElement(\\\"script\\\")\\n    webio.src = \\\"/assetserver/c443b012d0ad3ce8e6cc9de306cd3766b1d18a79-assets/webio/dist/bundle.js\\\"\\n    var parent = window\\n\\n    function resizeIframe() {\\n        doc.body.style.padding = '0'\\n        doc.body.style.margin = '0'\\n        doc.documentElement.height = '100%'\\n        doc.body.height = '100%'\\n    }\\n\\n    webio.onload = function () {\\n        win.WebIO.sendCallback = parent.WebIO.sendCallback; // Share stuff\\n        win.WebIO.scopes = parent.WebIO.scopes\\n        win.WebIO.obsscopes = parent.WebIO.obsscopes\\n        win.WebIO._connected = true\\n        doc.body.innerHTML = \\\"<html><body>\\\" + \\\"<div class='display:none'></div><unsafe-script style='display:none'>\\\\nWebIO.mount(this.previousSibling,{&quot;props&quot;:{},&quot;nodeType&quot;:&quot;Scope&quot;,&quot;type&quot;:&quot;node&quot;,&quot;instanceArgs&quot;:{&quot;imports&quot;:{&quot;data&quot;:[{&quot;name&quot;:null,&quot;type&quot;:&quot;js&quot;,&quot;url&quot;:&quot;/assetserver/39091d6b9eb892b592bedf9cea6c288f61f7d3f3-main.min.js&quot;}],&quot;type&quot;:&quot;async_block&quot;},&quot;id&quot;:&quot;scope-25397a03-7735-4eed-ab8f-667c9119e8e6&quot;,&quot;handlers&quot;:{&quot;meshcat-command&quot;:[(function (val){return this.viewer.handle_command_message({&quot;data&quot;:val})})],&quot;_promises&quot;:{&quot;importsLoaded&quot;:[(function (mc){var element=this.dom.children[0]; this.viewer=new mc.Viewer(element); WebIO.setval({&quot;name&quot;:&quot;meshcat-request&quot;,&quot;scope&quot;:&quot;scope-25397a03-7735-4eed-ab8f-667c9119e8e6&quot;,&quot;id&quot;:&quot;ob_08&quot;,&quot;type&quot;:&quot;observable&quot;},String(Date.now())); window.document.body.style.margin=&quot;0&quot;; return window.meshcat_viewer=this.viewer})]}},&quot;systemjs_options&quot;:null,&quot;observables&quot;:{&quot;meshcat-command&quot;:{&quot;sync&quot;:false,&quot;id&quot;:&quot;ob_07&quot;,&quot;value&quot;:[131,166,109,97,116,114,105,120,199,64,23,141,72,172,44,126,73,238,146,0,0,128,63,0,0,0,0,11,5,191,128,0,0,128,63,126,73,238,146,0,0,0,0,0,0,128,191,172,75,19,3,141,72,172,44,0,0,0,0,0,0,0,16,0,0,0,146,236,81,56,61,0,0,128,63,164,116,121,112,101,173,115,101,116,95,116,114,97,110,115,102,111,114,109,164,112,97,116,104,218,0,133,47,109,101,115,104,99,97,116,47,98,97,115,101,47,119,111,114,108,100,47,98,97,115,101,47,105,105,119,97,95,108,105,110,107,95,48,47,105,105,119,97,95,108,105,110,107,95,49,47,105,105,119,97,95,108,105,110,107,95,50,47,105,105,119,97,95,108,105,110,107,95,51,47,105,105,119,97,95,108,105,110,107,95,52,47,105,105,119,97,95,108,105,110,107,95,53,47,105,105,119,97,95,108,105,110,107,95,54,47,105,105,119,97,95,108,105,110,107,95,55,47,105,105,119,97,95,108,105,110,107,95,101,101]},&quot;meshcat-controls&quot;:{&quot;sync&quot;:true,&quot;id&quot;:&quot;ob_09&quot;,&quot;value&quot;:[]},&quot;meshcat-request&quot;:{&quot;sync&quot;:true,&quot;id&quot;:&quot;ob_08&quot;,&quot;value&quot;:&quot;&quot;}}},&quot;children&quot;:[{&quot;props&quot;:{&quot;className&quot;:&quot;meshcat-viewer&quot;,&quot;style&quot;:{&quot;left&quot;:0,&quot;right&quot;:0,&quot;overflow&quot;:&quot;hidden&quot;,&quot;position&quot;:&quot;absolute&quot;,&quot;height&quot;:&quot;100vh&quot;,&quot;margin&quot;:0,&quot;width&quot;:&quot;100vw&quot;}},&quot;nodeType&quot;:&quot;DOM&quot;,&quot;type&quot;:&quot;node&quot;,&quot;instanceArgs&quot;:{&quot;namespace&quot;:&quot;html&quot;,&quot;tag&quot;:&quot;div&quot;},&quot;children&quot;:[]}]})</unsafe-script>\\\" + \\\"</body></html>\\\";\\n        setTimeout(function () { resizeIframe() }, 0)\\n    }\\n\\n    doc.body.appendChild(webio)\\n}\"), JSString(\"(function (){return this.dom.style.height=\\\"100%\\\"})\")])), WebIO.ConnectionPool(Channel{Any}(sz_max:9223372036854775807,sz_curr:0), Set(WebIO.AbstractConnection[]), Channel{WebIO.AbstractConnection}(sz_max:32,sz_curr:0)))"
      ]
     },
     "execution_count": 30,
     "metadata": {},
     "output_type": "execute_result"
    }
   ],
   "source": [
    "kuka = parse_urdf(Dynamics.urdf_kuka,remove_fixed_tree_joints=false)\n",
    "kuka_visuals = URDFVisuals(Dynamics.urdf_kuka)\n",
    "state = MechanismState(kuka)\n",
    "world = root_frame(kuka)\n",
    "\n",
    "# Create Visualizer\n",
    "vis = Visualizer()\n",
    "mvis = MechanismVisualizer(kuka, kuka_visuals, vis[:base])\n",
    "# open(vis)\n",
    "IJuliaCell(vis)"
   ]
  },
  {
   "cell_type": "code",
   "execution_count": 40,
   "metadata": {},
   "outputs": [
    {
     "data": {
      "text/plain": [
       "hold_trajectory (generic function with 1 method)"
      ]
     },
     "execution_count": 40,
     "metadata": {},
     "output_type": "execute_result"
    }
   ],
   "source": [
    "green_ = MeshPhongMaterial(color=RGBA(0, 1, 0, 1.0))\n",
    "green_transparent = MeshPhongMaterial(color=RGBA(0, 1, 0, 0.1))\n",
    "red_ = MeshPhongMaterial(color=RGBA(1, 0, 0, 1.0))\n",
    "red_transparent = MeshPhongMaterial(color=RGBA(1, 0, 0, 0.1))\n",
    "blue_ = MeshPhongMaterial(color=RGBA(0, 0, 1, 1.0))\n",
    "blue_transparent = MeshPhongMaterial(color=RGBA(0, 0, 1, 0.1))\n",
    "blue_semi = MeshPhongMaterial(color=RGBA(0, 0, 1, 0.5))\n",
    "yellow_ = MeshPhongMaterial(color=RGBA(1, 1, 0, 1.0))\n",
    "yellow_transparent = MeshPhongMaterial(color=RGBA(1, 1, 0, 0.75))\n",
    "\n",
    "orange_ = MeshPhongMaterial(color=RGBA(233/255, 164/255, 16/255, 1.0))\n",
    "orange_transparent = MeshPhongMaterial(color=RGBA(233/255, 164/255, 16/255, 0.1))\n",
    "black_ = MeshPhongMaterial(color=RGBA(0, 0, 0, 1.0))\n",
    "black_transparent = MeshPhongMaterial(color=RGBA(0, 0, 0, 0.1))\n",
    "black_semi = MeshPhongMaterial(color=RGBA(0, 0, 0, 0.5));\n",
    "\n",
    "function plot_sphere(vis::MechanismVisualizer,frame::CartesianFrame3D,center,radius,mat,name=\"\")\n",
    "    geom = HyperSphere(Point3f0(center), convert(Float32,radius))\n",
    "    setelement!(vis,frame,geom,mat,name)\n",
    "end\n",
    "\n",
    "function plot_cylinder(vis::MechanismVisualizer,frame::CartesianFrame3D,c1,c2,radius,mat,name=\"\")\n",
    "    geom = Cylinder(Point3f0(c1),Point3f0(c2),convert(Float32,radius))\n",
    "    setelement!(vis,frame,geom,mat,name)\n",
    "end\n",
    "# Collision Bubbles\n",
    "function kuka_points(kuka,plot=false)\n",
    "    bodies = [3,4,5,6]\n",
    "    radii = [0.1,0.12,0.09,0.09]\n",
    "    ee_body,ee_point = Dynamics.get_kuka_ee(kuka)\n",
    "    ee_radii = 0.05\n",
    "\n",
    "    points = Point3D[]\n",
    "    frames = CartesianFrame3D[]\n",
    "    for (idx,radius) in zip(bodies,radii)\n",
    "        body = findbody(kuka,\"iiwa_link_$idx\")\n",
    "        frame = default_frame(body)\n",
    "        point = Point3D(frame,0.,0.,0.)\n",
    "        plot ? plot_sphere(mvis,frame,0,radius,body_collision,\"body_$idx\") : nothing\n",
    "        # plot ? setelement!(vis,point,radius,\"body_$idx\") : nothing\n",
    "        push!(points,point)\n",
    "        push!(frames,frame)\n",
    "    end\n",
    "    frame = default_frame(ee_body)\n",
    "    plot ? plot_sphere(mvis,frame,0,ee_radii,body_collision,\"end_effector\") : nothing\n",
    "    # plot ? setelement!(vis,ee_point,ee_radii,\"end_effector\") : nothing\n",
    "    push!(points,ee_point)\n",
    "    push!(radii,ee_radii)\n",
    "    return points, radii, frames\n",
    "end\n",
    "\n",
    "function calc_kuka_points(x::Vector{T},points) where T\n",
    "    state = state_cache[T]\n",
    "    set_configuration!(state,x[1:nn])\n",
    "    [transform(state,point,world).v for point in points]\n",
    "end\n",
    "\n",
    "function generate_collision_constraint(kuka::Mechanism, circles, cylinders=[])\n",
    "    # Specify points along the arm\n",
    "    points, radii = kuka_points(kuka)\n",
    "    num_points = length(points)\n",
    "    nCircle = length(circles)\n",
    "    nCylinder = length(cylinders)\n",
    "    num_obstacles = nCircle + nCylinder\n",
    "\n",
    "    function cI_obstacles(c,x,u)\n",
    "        nn = length(u)\n",
    "\n",
    "        # Get current world location of points along arm\n",
    "        arm_points = calc_kuka_points(x[1:nn],points)\n",
    "\n",
    "        C = reshape(view(c,1:num_points*num_obstacles),num_points,num_obstacles)\n",
    "        for i = 1:nCircle\n",
    "            c_obstacle = view(C,1:num_points,i)\n",
    "            for (p,kuka_point) in enumerate(arm_points)\n",
    "                c_obstacle[p] = sphere_constraint(circles[i],kuka_point,radii[p]+circles[i][4])\n",
    "            end\n",
    "        end\n",
    "        for j = 1:nCylinder\n",
    "            i = j + nCircle\n",
    "            c_obstacle = view(C,1:num_points,i)\n",
    "            for (p,kuka_point) in enumerate(arm_points)\n",
    "                c_obstacle[p] = circle_constraint(cylinders[j],kuka_point,radii[p]+cylinders[j][3])\n",
    "            end\n",
    "        end\n",
    "    end\n",
    "end\n",
    "\n",
    "function addcircles!(vis,circles)\n",
    "    world = root_frame(kuka)\n",
    "    for (i,circle) in enumerate(circles)\n",
    "        p = Point3D(world,collect(circle[1:3]))\n",
    "        setelement!(vis,p,circle[4],\"obs$i\")\n",
    "    end\n",
    "end\n",
    "\n",
    "function addcylinders!(vis,cylinders,height=1.5)\n",
    "    for (i,cyl) in enumerate(cylinders)\n",
    "        plot_cylinder(vis,world,[cyl[1],cyl[2],0],[cyl[1],cyl[2],height],cyl[3],blue_,\"cyl_$i\")\n",
    "    end\n",
    "end\n",
    "\n",
    "function hold_trajectory(n,m,N, mech::Mechanism, q)\n",
    "    state = MechanismState(mech)\n",
    "    nn = num_positions(state)\n",
    "    set_configuration!(state, q[1:nn])\n",
    "    vd = zero(state.q)\n",
    "    u0 = dynamics_bias(state)\n",
    "\n",
    "    \n",
    "    if length(q) > m\n",
    "        throw(ArgumentError(\"system must be fully actuated to hold an arbitrary position ($(length(q)) should be > $m)\"))\n",
    "    end\n",
    "    U0 = zeros(m,N)\n",
    "    for k = 1:N\n",
    "        U0[:,k] = u0\n",
    "    end\n",
    "    return U0\n",
    "end\n"
   ]
  },
  {
   "cell_type": "code",
   "execution_count": 32,
   "metadata": {},
   "outputs": [
    {
     "data": {
      "text/plain": [
       "(::getfield(TrajectoryOptimization.Dynamics, Symbol(\"#ee_position#5\")){StateCache{Float64,TypeSortedCollections.TypeSortedCollection{Tuple{Array{Joint{Float64,Fixed{Float64}},1},Array{Joint{Float64,Revolute{Float64}},1}},2}},Point3D{StaticArrays.SArray{Tuple{3},Float64,1,3}},CartesianFrame3D,Int64}) (generic function with 1 method)"
      ]
     },
     "execution_count": 32,
     "metadata": {},
     "output_type": "execute_result"
    }
   ],
   "source": [
    "ee_fun = Dynamics.get_kuka_ee_postition_fun(kuka)"
   ]
  },
  {
   "cell_type": "code",
   "execution_count": 33,
   "metadata": {},
   "outputs": [
    {
     "data": {
      "text/plain": [
       "(Point3D[Point3D in \"after_iiwa_joint_3\": [0.0, 0.0, 0.0], Point3D in \"after_iiwa_joint_4\": [0.0, 0.0, 0.0], Point3D in \"after_iiwa_joint_5\": [0.0, 0.0, 0.0], Point3D in \"after_iiwa_joint_6\": [0.0, 0.0, 0.0], Point3D in \"after_tool0_joint\": [0.0, 0.0, 0.0]], [0.1, 0.12, 0.09, 0.09, 0.05], CartesianFrame3D[CartesianFrame3D: \"after_iiwa_joint_3\" (id = 142), CartesianFrame3D: \"after_iiwa_joint_4\" (id = 145), CartesianFrame3D: \"after_iiwa_joint_5\" (id = 148), CartesianFrame3D: \"after_iiwa_joint_6\" (id = 151)])"
      ]
     },
     "execution_count": 33,
     "metadata": {},
     "output_type": "execute_result"
    }
   ],
   "source": [
    "# Add obstacles\n",
    "d = 0.25\n",
    "circles2 = Vector{Float64}[]\n",
    "push!(circles2,[d,0.0,1.2,0.2])\n",
    "push!(circles2,[0,-d,0.4,0.15])\n",
    "push!(circles2,[0,-d,1.2,0.15])\n",
    "addcircles!(mvis,circles2)\n",
    "\n",
    "cylinders = [[d,-d,0.08],[d,d,0.08],[-d,-d,0.08]]\n",
    "addcylinders!(mvis,cylinders)\n",
    "\n",
    "points,radii,frames = kuka_points(kuka,false)"
   ]
  },
  {
   "cell_type": "code",
   "execution_count": 57,
   "metadata": {},
   "outputs": [
    {
     "data": {
      "text/plain": [
       "1.5707963267948966"
      ]
     },
     "execution_count": 57,
     "metadata": {},
     "output_type": "execute_result"
    }
   ],
   "source": [
    "# Build the Objective\n",
    "x0 = zeros(n)\n",
    "x0[2] = pi/2\n",
    "x0[3] = pi/2\n",
    "x0[4] = pi/2\n",
    "xf = zeros(n)\n",
    "xf[1] = pi/2\n",
    "xf[4] = pi/2"
   ]
  },
  {
   "cell_type": "code",
   "execution_count": 58,
   "metadata": {},
   "outputs": [],
   "source": [
    "state_cache = StateCache(kuka)\n",
    "num_obstacles = length(circles2)+length(cylinders)\n",
    "c = zeros(length(points)*num_obstacles)\n",
    "cI_arm_obstacles = generate_collision_constraint(kuka,circles2,cylinders)\n",
    "\n",
    "obs = Constraint{Inequality}(cI_arm_obstacles,n,m,num_obstacles,:obs)\n",
    "bnd = BoundConstraint(n,m,u_min=-80.,u_max=80.,trim=true)\n",
    "con = [obs,bnd];"
   ]
  },
  {
   "cell_type": "code",
   "execution_count": 59,
   "metadata": {},
   "outputs": [
    {
     "data": {
      "text/plain": [
       "3-element StaticArrays.SArray{Tuple{3},Float64,1,3}:\n",
       "  0.4200000000026844 \n",
       " -0.5259999999988579 \n",
       "  0.35999999999821475"
      ]
     },
     "execution_count": 59,
     "metadata": {},
     "output_type": "execute_result"
    }
   ],
   "source": [
    "Q = Diagonal([ones(7); ones(7)*100])\n",
    "Qf = 10.0*Diagonal(I,n)\n",
    "R = 1e-2*Diagonal(I,m)\n",
    "tf = 5.0\n",
    "_cost = LQRCost(Q, R, Qf, xf)\n",
    "xf_ee = ee_fun(xf)\n",
    "x0_ee = ee_fun(x0)"
   ]
  },
  {
   "cell_type": "code",
   "execution_count": 60,
   "metadata": {},
   "outputs": [],
   "source": [
    "verbose=false\n",
    "opts_ilqr = iLQRSolverOptions{T}(verbose=true,iterations=300,live_plotting=:off)\n",
    "\n",
    "opts_al = AugmentedLagrangianSolverOptions{T}(verbose=true,opts_uncon=opts_ilqr,\n",
    "    iterations=20,cost_tolerance=1.0e-6,cost_tolerance_intermediate=1.0e-5,constraint_tolerance=1.0e-3,penalty_scaling=50.,penalty_initial=0.01)\n",
    "\n",
    "opts_altro = ALTROSolverOptions{T}(verbose=true,resolve_feasible_problem=false,opts_al=opts_al,R_inf=0.01);"
   ]
  },
  {
   "cell_type": "code",
   "execution_count": 61,
   "metadata": {},
   "outputs": [],
   "source": [
    "N = 41 # number of knot points\n",
    "dt = 0.01 # total time\n",
    "\n",
    "U_hold = hold_trajectory(n,m,N, kuka, x0[1:7])\n",
    "obj = Objective(_cost,N) # objective with same stagewise costs\n",
    "\n",
    "con_set = Constraints(con,N) # constraint trajectory\n",
    "\n",
    "prob = Problem(model,obj, x0=x0, integration=:rk4, N=N, dt=dt)\n",
    "initial_controls!(prob, U_hold); # initialize problem with controls"
   ]
  },
  {
   "cell_type": "code",
   "execution_count": 62,
   "metadata": {},
   "outputs": [
    {
     "name": "stderr",
     "output_type": "stream",
     "text": [
      "\u001b[32m\u001b[1m    iter cost          expected    z         α         ρ         dJ        grad      zero_count info                                              \u001b[22m\u001b[39m\n",
      "\u001b[32m\u001b[1m____----------------------------------------------------------------------------------------------------------------------------------------------\u001b[22m\u001b[39m\n",
      "    1     58.49895901   1.02817599  0.998809  1         0e+00     1.026951  3.46641  0          \n",
      "    2     58.498389261  0.00057161  0.996747  1         0e+00     0.00057   0.082104 0          \n",
      "    3     58.498388907  3.5444e-07  0.998752  1         0e+00     3.54e-07  0.001234 0          \n"
     ]
    }
   ],
   "source": [
    "solve!(prob, opts_altro)"
   ]
  },
  {
   "cell_type": "code",
   "execution_count": 63,
   "metadata": {},
   "outputs": [
    {
     "name": "stderr",
     "output_type": "stream",
     "text": [
      "Error handling websocket connection:\n",
      "\u001b[91mWebSockets.WebSocketClosedError(\"ws|server respond to OPCODE_CLOSE 1001:Going Away\")\u001b[39m\n",
      "Stacktrace:\n",
      " [1] \u001b[1mtry_yieldto\u001b[22m\u001b[1m(\u001b[22m::typeof(Base.ensure_rescheduled), ::Base.RefValue{Task}\u001b[1m)\u001b[22m at \u001b[1m./event.jl:196\u001b[22m\n",
      " [2] \u001b[1mwait\u001b[22m\u001b[1m(\u001b[22m\u001b[1m)\u001b[22m at \u001b[1m./event.jl:255\u001b[22m\n",
      " [3] \u001b[1mwait\u001b[22m\u001b[1m(\u001b[22m::Condition\u001b[1m)\u001b[22m at \u001b[1m./event.jl:46\u001b[22m\n",
      " [4] \u001b[1mwait\u001b[22m\u001b[1m(\u001b[22m::Task\u001b[1m)\u001b[22m at \u001b[1m./task.jl:188\u001b[22m\n",
      " [5] \u001b[1mcreate_socket\u001b[22m\u001b[1m(\u001b[22m::Dict{Any,Any}\u001b[1m)\u001b[22m at \u001b[1m/home/taylor/.julia/packages/WebIO/Rk8wc/src/providers/mux.jl:44\u001b[22m\n",
      " [6] \u001b[1m(::getfield(Mux, Symbol(\"##5#6\")){getfield(Mux, Symbol(\"##28#29\")){Array{SubString{String},1}},typeof(WebIO.create_socket)})\u001b[22m\u001b[1m(\u001b[22m::Function, ::Dict{Any,Any}\u001b[1m)\u001b[22m at \u001b[1m/home/taylor/.julia/packages/Mux/FeATY/src/Mux.jl:17\u001b[22m\n",
      " [7] \u001b[1m#1\u001b[22m at \u001b[1m/home/taylor/.julia/packages/Mux/FeATY/src/Mux.jl:10\u001b[22m [inlined]\n",
      " [8] \u001b[1msplitquery\u001b[22m\u001b[1m(\u001b[22m::getfield(Mux, Symbol(\"##1#2\")){getfield(Mux, Symbol(\"##5#6\")){getfield(Mux, Symbol(\"##28#29\")){Array{SubString{String},1}},typeof(WebIO.create_socket)},getfield(Mux, Symbol(\"##1#2\")){typeof(Mux.wclose),getfield(Mux, Symbol(\"##1#2\")){getfield(Mux, Symbol(\"##18#19\")){getfield(Mux, Symbol(\"##22#23\")){Symbol,Int64}},getfield(Mux, Symbol(\"##20#21\")){String}}}}, ::Dict{Any,Any}\u001b[1m)\u001b[22m at \u001b[1m/home/taylor/.julia/packages/Mux/FeATY/src/basics.jl:34\u001b[22m\n",
      " [9] \u001b[1m#1\u001b[22m at \u001b[1m/home/taylor/.julia/packages/Mux/FeATY/src/Mux.jl:10\u001b[22m [inlined]\n",
      " [10] \u001b[1mwcatch\u001b[22m\u001b[1m(\u001b[22m::getfield(Mux, Symbol(\"##1#2\")){typeof(Mux.splitquery),getfield(Mux, Symbol(\"##1#2\")){getfield(Mux, Symbol(\"##5#6\")){getfield(Mux, Symbol(\"##28#29\")){Array{SubString{String},1}},typeof(WebIO.create_socket)},getfield(Mux, Symbol(\"##1#2\")){typeof(Mux.wclose),getfield(Mux, Symbol(\"##1#2\")){getfield(Mux, Symbol(\"##18#19\")){getfield(Mux, Symbol(\"##22#23\")){Symbol,Int64}},getfield(Mux, Symbol(\"##20#21\")){String}}}}}, ::Dict{Any,Any}\u001b[1m)\u001b[22m at \u001b[1m/home/taylor/.julia/packages/Mux/FeATY/src/websockets_integration.jl:12\u001b[22m\n",
      " [11] \u001b[1mtodict\u001b[22m at \u001b[1m/home/taylor/.julia/packages/Mux/FeATY/src/Mux.jl:10\u001b[22m [inlined]\n",
      " [12] \u001b[1m#3\u001b[22m at \u001b[1m/home/taylor/.julia/packages/Mux/FeATY/src/Mux.jl:14\u001b[22m [inlined] (repeats 2 times)\n",
      " [13] \u001b[1m(::getfield(Mux, Symbol(\"##1#2\")){getfield(Mux, Symbol(\"##3#4\")){getfield(Mux, Symbol(\"##3#4\")){typeof(Mux.todict),typeof(Mux.wcatch)},typeof(Mux.splitquery)},getfield(Mux, Symbol(\"##1#2\")){getfield(Mux, Symbol(\"##5#6\")){getfield(Mux, Symbol(\"##28#29\")){Array{SubString{String},1}},typeof(WebIO.create_socket)},getfield(Mux, Symbol(\"##1#2\")){typeof(Mux.wclose),getfield(Mux, Symbol(\"##1#2\")){getfield(Mux, Symbol(\"##18#19\")){getfield(Mux, Symbol(\"##22#23\")){Symbol,Int64}},getfield(Mux, Symbol(\"##20#21\")){String}}}}})\u001b[22m\u001b[1m(\u001b[22m::Tuple{HTTP.Messages.Request,WebSockets.WebSocket{Sockets.TCPSocket}}\u001b[1m)\u001b[22m at \u001b[1m/home/taylor/.julia/packages/Mux/FeATY/src/Mux.jl:10\u001b[22m\n",
      " [14] \u001b[1m(::getfield(Mux, Symbol(\"##9#10\")){Mux.App})\u001b[22m\u001b[1m(\u001b[22m::HTTP.Messages.Request, ::WebSockets.WebSocket{Sockets.TCPSocket}\u001b[1m)\u001b[22m at \u001b[1m/home/taylor/.julia/packages/Mux/FeATY/src/server.jl:49\u001b[22m\n",
      " [15] \u001b[1mupgrade\u001b[22m\u001b[1m(\u001b[22m::getfield(Mux, Symbol(\"##9#10\")){Mux.App}, ::HTTP.Streams.Stream{HTTP.Messages.Request,HTTP.ConnectionPool.Transaction{Sockets.TCPSocket}}\u001b[1m)\u001b[22m at \u001b[1m/home/taylor/.julia/packages/WebSockets/pc4iW/src/HTTP.jl:201\u001b[22m\n",
      " [16] \u001b[1m(::getfield(WebSockets, Symbol(\"#_servercoroutine#11\")){WebSockets.ServerWS})\u001b[22m\u001b[1m(\u001b[22m::HTTP.Streams.Stream{HTTP.Messages.Request,HTTP.ConnectionPool.Transaction{Sockets.TCPSocket}}\u001b[1m)\u001b[22m at \u001b[1m/home/taylor/.julia/packages/WebSockets/pc4iW/src/HTTP.jl:370\u001b[22m\n",
      " [17] \u001b[1mmacro expansion\u001b[22m at \u001b[1m/home/taylor/.julia/packages/HTTP/GN0Te/src/Servers.jl:352\u001b[22m [inlined]\n",
      " [18] \u001b[1m(::getfield(HTTP.Servers, Symbol(\"##13#14\")){getfield(WebSockets, Symbol(\"#_servercoroutine#11\")){WebSockets.ServerWS},HTTP.ConnectionPool.Transaction{Sockets.TCPSocket},HTTP.Streams.Stream{HTTP.Messages.Request,HTTP.ConnectionPool.Transaction{Sockets.TCPSocket}}})\u001b[22m\u001b[1m(\u001b[22m\u001b[1m)\u001b[22m at \u001b[1m./task.jl:259\u001b[22m"
     ]
    }
   ],
   "source": [
    "q = [prob.X[k][1:7] for k = 1:N]\n",
    "t = range(0,stop=N*dt,length=N)\n",
    "\n",
    "setanimation!(mvis,t,q)"
   ]
  },
  {
   "cell_type": "code",
   "execution_count": null,
   "metadata": {},
   "outputs": [],
   "source": []
  }
 ],
 "metadata": {
  "kernelspec": {
   "display_name": "Julia 1.1.0",
   "language": "julia",
   "name": "julia-1.1"
  },
  "language_info": {
   "file_extension": ".jl",
   "mimetype": "application/julia",
   "name": "julia",
   "version": "1.1.0"
  }
 },
 "nbformat": 4,
 "nbformat_minor": 2
}
