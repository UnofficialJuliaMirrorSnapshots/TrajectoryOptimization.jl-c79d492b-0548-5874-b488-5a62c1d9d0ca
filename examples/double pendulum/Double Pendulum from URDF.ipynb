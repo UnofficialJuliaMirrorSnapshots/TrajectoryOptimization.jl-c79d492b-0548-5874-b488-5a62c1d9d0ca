{
 "cells": [
  {
   "cell_type": "markdown",
   "metadata": {},
   "source": [
    "## Double Pendulum"
   ]
  },
  {
   "cell_type": "code",
   "execution_count": 1,
   "metadata": {},
   "outputs": [
    {
     "data": {
      "text/html": [
       "    <script class='js-collapse-script'>\n",
       "        var curMatch =\n",
       "            window.location.href\n",
       "            .match(/(.*?)\\/notebooks\\/.*\\.ipynb/);\n",
       "\n",
       "        curMatch = curMatch ||\n",
       "            window.location.href\n",
       "            .match(/(.*?)\\/apps\\/.*\\.ipynb/);\n",
       "\n",
       "        if ( curMatch ) {\n",
       "            $('head').append('<base href=\"' + curMatch[1] + '/\">');\n",
       "        }\n",
       "    </script>\n"
      ],
      "text/plain": [
       "HTML{String}(\"    <script class='js-collapse-script'>\\n        var curMatch =\\n            window.location.href\\n            .match(/(.*?)\\\\/notebooks\\\\/.*\\\\.ipynb/);\\n\\n        curMatch = curMatch ||\\n            window.location.href\\n            .match(/(.*?)\\\\/apps\\\\/.*\\\\.ipynb/);\\n\\n        if ( curMatch ) {\\n            \\$('head').append('<base href=\\\"' + curMatch[1] + '/\\\">');\\n        }\\n    </script>\\n\")"
      ]
     },
     "metadata": {},
     "output_type": "display_data"
    },
    {
     "data": {
      "text/html": [
       "<script class='js-collapse-script' src='/assetserver/c443b012d0ad3ce8e6cc9de306cd3766b1d18a79-assets/webio/dist/bundle.js'></script>"
      ],
      "text/plain": [
       "HTML{String}(\"<script class='js-collapse-script' src='/assetserver/c443b012d0ad3ce8e6cc9de306cd3766b1d18a79-assets/webio/dist/bundle.js'></script>\")"
      ]
     },
     "metadata": {},
     "output_type": "display_data"
    },
    {
     "data": {
      "text/html": [
       "<script class='js-collapse-script' src='/assetserver/c443b012d0ad3ce8e6cc9de306cd3766b1d18a79-assets/providers/ijulia_setup.js'></script>"
      ],
      "text/plain": [
       "HTML{String}(\"<script class='js-collapse-script' src='/assetserver/c443b012d0ad3ce8e6cc9de306cd3766b1d18a79-assets/providers/ijulia_setup.js'></script>\")"
      ]
     },
     "metadata": {},
     "output_type": "display_data"
    },
    {
     "data": {
      "text/html": [
       "  <script class='js-collapse-script'>\n",
       "    $('.js-collapse-script').parent('.output_subarea').css('padding', '0');\n",
       "  </script>\n"
      ],
      "text/plain": [
       "HTML{String}(\"  <script class='js-collapse-script'>\\n    \\$('.js-collapse-script').parent('.output_subarea').css('padding', '0');\\n  </script>\\n\")"
      ]
     },
     "metadata": {},
     "output_type": "display_data"
    }
   ],
   "source": [
    "using TrajectoryOptimization\n",
    "using Plots, LinearAlgebra, MeshCat, MeshCatMechanisms, RigidBodyDynamics, GeometryTypes, CoordinateTransformations"
   ]
  },
  {
   "cell_type": "markdown",
   "metadata": {},
   "source": [
    "Get path to urdf file"
   ]
  },
  {
   "cell_type": "code",
   "execution_count": 2,
   "metadata": {},
   "outputs": [],
   "source": [
    "traj_folder = joinpath(dirname(pathof(TrajectoryOptimization)),\"..\")\n",
    "urdf_folder = joinpath(traj_folder, \"dynamics/urdf\")\n",
    "urdf = joinpath(urdf_folder, \"doublependulum.urdf\");"
   ]
  },
  {
   "cell_type": "markdown",
   "metadata": {},
   "source": [
    "Create model from urdf"
   ]
  },
  {
   "cell_type": "code",
   "execution_count": 3,
   "metadata": {},
   "outputs": [],
   "source": [
    "model = Model(urdf);\n",
    "n = model.n\n",
    "m = model.m;"
   ]
  },
  {
   "cell_type": "markdown",
   "metadata": {},
   "source": [
    "Define numerical type"
   ]
  },
  {
   "cell_type": "code",
   "execution_count": 4,
   "metadata": {},
   "outputs": [],
   "source": [
    "T = Float64;"
   ]
  },
  {
   "cell_type": "markdown",
   "metadata": {},
   "source": [
    "Define initial and goal states"
   ]
  },
  {
   "cell_type": "code",
   "execution_count": 5,
   "metadata": {},
   "outputs": [],
   "source": [
    "x0 = [0.0;0.0;0.0;0.0]\n",
    "xf = [π;0.0;0.0;0.0];"
   ]
  },
  {
   "cell_type": "markdown",
   "metadata": {},
   "source": [
    "Define a cost function"
   ]
  },
  {
   "cell_type": "code",
   "execution_count": 6,
   "metadata": {},
   "outputs": [],
   "source": [
    "Qf = 100.0*Diagonal(I,n)\n",
    "Q = (1e-2)*Diagonal(I,n)\n",
    "R = (1e-2)*Diagonal(I,m)\n",
    "cost = LQRCost(Q,R,Qf,xf);"
   ]
  },
  {
   "cell_type": "markdown",
   "metadata": {},
   "source": [
    "Create problem"
   ]
  },
  {
   "cell_type": "code",
   "execution_count": 7,
   "metadata": {},
   "outputs": [],
   "source": [
    "N = 101\n",
    "U = [ones(m) for k = 1:N-1]\n",
    "dt = 0.01\n",
    "obj = Objective(cost,N)\n",
    "\n",
    "prob = Problem(model,Objective(cost,N),x0=x0,N=N,dt=dt)\n",
    "initial_controls!(prob, U);"
   ]
  },
  {
   "cell_type": "markdown",
   "metadata": {},
   "source": [
    "Solve problem"
   ]
  },
  {
   "cell_type": "code",
   "execution_count": 8,
   "metadata": {},
   "outputs": [
    {
     "name": "stderr",
     "output_type": "stream",
     "text": [
      "\u001b[32m\u001b[1m    iter cost          expected    z         α         ρ         dJ        grad      zero_count info                                              \u001b[22m\u001b[39m\n",
      "\u001b[32m\u001b[1m____----------------------------------------------------------------------------------------------------------------------------------------------\u001b[22m\u001b[39m\n",
      "    1     51.080141322  463.076541  0.914831  1         0e+00     423.637   11.18941 0          \n",
      "    2     14.351072876  29.8702711  1.22962   0.5       0e+00     36.72907  6.01584  0          \n",
      "    3     5.3732070349  9.78729977  0.917298  0.5       0e+00     8.977866  5.97122  0          \n",
      "    4     2.0935725125  3.34975812  0.979066  1         0e+00     3.279635  3.888528 0          \n",
      "    5     2.0309475077  0.0670676   0.933759  1         0e+00     0.062625  0.363024 0          \n",
      "    6     2.0285236064  0.00332989  0.727922  1         0e+00     0.002424  0.110085 0          \n",
      "    7     2.0282930648  0.00039239  0.587529  1         0e+00     0.000231  0.048644 0          \n",
      "    8     2.0282494191  0.0000764   0.57125   1         0e+00     4.36e-05  0.019482 0          \n"
     ]
    },
    {
     "data": {
      "text/plain": [
       "2.0282494190509"
      ]
     },
     "execution_count": 8,
     "metadata": {},
     "output_type": "execute_result"
    }
   ],
   "source": [
    "solve!(prob, iLQRSolverOptions(verbose=true)) # solve with iLQR"
   ]
  },
  {
   "cell_type": "markdown",
   "metadata": {},
   "source": [
    "Plot state trajectory"
   ]
  },
  {
   "cell_type": "code",
   "execution_count": 9,
   "metadata": {},
   "outputs": [
    {
     "data": {
      "image/svg+xml": [
       "<?xml version=\"1.0\" encoding=\"utf-8\"?>\n",
       "<svg xmlns=\"http://www.w3.org/2000/svg\" xmlns:xlink=\"http://www.w3.org/1999/xlink\" width=\"600\" height=\"400\" viewBox=\"0 0 2400 1600\">\n",
       "<defs>\n",
       "  <clipPath id=\"clip6900\">\n",
       "    <rect x=\"0\" y=\"0\" width=\"2400\" height=\"1600\"/>\n",
       "  </clipPath>\n",
       "</defs>\n",
       "<polygon clip-path=\"url(#clip6900)\" points=\"\n",
       "0,1600 2400,1600 2400,0 0,0 \n",
       "  \" fill=\"#ffffff\" fill-rule=\"evenodd\" fill-opacity=\"1\"/>\n",
       "<defs>\n",
       "  <clipPath id=\"clip6901\">\n",
       "    <rect x=\"480\" y=\"0\" width=\"1681\" height=\"1600\"/>\n",
       "  </clipPath>\n",
       "</defs>\n",
       "<polygon clip-path=\"url(#clip6900)\" points=\"\n",
       "149.361,1440.48 2321.26,1440.48 2321.26,125.984 149.361,125.984 \n",
       "  \" fill=\"#ffffff\" fill-rule=\"evenodd\" fill-opacity=\"1\"/>\n",
       "<defs>\n",
       "  <clipPath id=\"clip6902\">\n",
       "    <rect x=\"149\" y=\"125\" width=\"2173\" height=\"1315\"/>\n",
       "  </clipPath>\n",
       "</defs>\n",
       "<polyline clip-path=\"url(#clip6902)\" style=\"stroke:#000000; stroke-width:2; stroke-opacity:0.1; fill:none\" points=\"\n",
       "  190.34,1440.48 190.34,125.984 \n",
       "  \"/>\n",
       "<polyline clip-path=\"url(#clip6902)\" style=\"stroke:#000000; stroke-width:2; stroke-opacity:0.1; fill:none\" points=\"\n",
       "  702.58,1440.48 702.58,125.984 \n",
       "  \"/>\n",
       "<polyline clip-path=\"url(#clip6902)\" style=\"stroke:#000000; stroke-width:2; stroke-opacity:0.1; fill:none\" points=\"\n",
       "  1214.82,1440.48 1214.82,125.984 \n",
       "  \"/>\n",
       "<polyline clip-path=\"url(#clip6902)\" style=\"stroke:#000000; stroke-width:2; stroke-opacity:0.1; fill:none\" points=\"\n",
       "  1727.06,1440.48 1727.06,125.984 \n",
       "  \"/>\n",
       "<polyline clip-path=\"url(#clip6902)\" style=\"stroke:#000000; stroke-width:2; stroke-opacity:0.1; fill:none\" points=\"\n",
       "  2239.3,1440.48 2239.3,125.984 \n",
       "  \"/>\n",
       "<polyline clip-path=\"url(#clip6902)\" style=\"stroke:#000000; stroke-width:2; stroke-opacity:0.1; fill:none\" points=\"\n",
       "  149.361,1179.66 2321.26,1179.66 \n",
       "  \"/>\n",
       "<polyline clip-path=\"url(#clip6902)\" style=\"stroke:#000000; stroke-width:2; stroke-opacity:0.1; fill:none\" points=\"\n",
       "  149.361,872.082 2321.26,872.082 \n",
       "  \"/>\n",
       "<polyline clip-path=\"url(#clip6902)\" style=\"stroke:#000000; stroke-width:2; stroke-opacity:0.1; fill:none\" points=\"\n",
       "  149.361,564.499 2321.26,564.499 \n",
       "  \"/>\n",
       "<polyline clip-path=\"url(#clip6902)\" style=\"stroke:#000000; stroke-width:2; stroke-opacity:0.1; fill:none\" points=\"\n",
       "  149.361,256.915 2321.26,256.915 \n",
       "  \"/>\n",
       "<polyline clip-path=\"url(#clip6900)\" style=\"stroke:#000000; stroke-width:4; stroke-opacity:1; fill:none\" points=\"\n",
       "  149.361,1440.48 2321.26,1440.48 \n",
       "  \"/>\n",
       "<polyline clip-path=\"url(#clip6900)\" style=\"stroke:#000000; stroke-width:4; stroke-opacity:1; fill:none\" points=\"\n",
       "  149.361,1440.48 149.361,125.984 \n",
       "  \"/>\n",
       "<polyline clip-path=\"url(#clip6900)\" style=\"stroke:#000000; stroke-width:4; stroke-opacity:1; fill:none\" points=\"\n",
       "  190.34,1440.48 190.34,1420.77 \n",
       "  \"/>\n",
       "<polyline clip-path=\"url(#clip6900)\" style=\"stroke:#000000; stroke-width:4; stroke-opacity:1; fill:none\" points=\"\n",
       "  702.58,1440.48 702.58,1420.77 \n",
       "  \"/>\n",
       "<polyline clip-path=\"url(#clip6900)\" style=\"stroke:#000000; stroke-width:4; stroke-opacity:1; fill:none\" points=\"\n",
       "  1214.82,1440.48 1214.82,1420.77 \n",
       "  \"/>\n",
       "<polyline clip-path=\"url(#clip6900)\" style=\"stroke:#000000; stroke-width:4; stroke-opacity:1; fill:none\" points=\"\n",
       "  1727.06,1440.48 1727.06,1420.77 \n",
       "  \"/>\n",
       "<polyline clip-path=\"url(#clip6900)\" style=\"stroke:#000000; stroke-width:4; stroke-opacity:1; fill:none\" points=\"\n",
       "  2239.3,1440.48 2239.3,1420.77 \n",
       "  \"/>\n",
       "<polyline clip-path=\"url(#clip6900)\" style=\"stroke:#000000; stroke-width:4; stroke-opacity:1; fill:none\" points=\"\n",
       "  149.361,1179.66 181.939,1179.66 \n",
       "  \"/>\n",
       "<polyline clip-path=\"url(#clip6900)\" style=\"stroke:#000000; stroke-width:4; stroke-opacity:1; fill:none\" points=\"\n",
       "  149.361,872.082 181.939,872.082 \n",
       "  \"/>\n",
       "<polyline clip-path=\"url(#clip6900)\" style=\"stroke:#000000; stroke-width:4; stroke-opacity:1; fill:none\" points=\"\n",
       "  149.361,564.499 181.939,564.499 \n",
       "  \"/>\n",
       "<polyline clip-path=\"url(#clip6900)\" style=\"stroke:#000000; stroke-width:4; stroke-opacity:1; fill:none\" points=\"\n",
       "  149.361,256.915 181.939,256.915 \n",
       "  \"/>\n",
       "<g clip-path=\"url(#clip6900)\">\n",
       "<text style=\"fill:#000000; fill-opacity:1; font-family:Arial,Helvetica Neue,Helvetica,sans-serif; font-size:48px; text-anchor:middle;\" transform=\"rotate(0, 190.34, 1494.48)\" x=\"190.34\" y=\"1494.48\">0</text>\n",
       "</g>\n",
       "<g clip-path=\"url(#clip6900)\">\n",
       "<text style=\"fill:#000000; fill-opacity:1; font-family:Arial,Helvetica Neue,Helvetica,sans-serif; font-size:48px; text-anchor:middle;\" transform=\"rotate(0, 702.58, 1494.48)\" x=\"702.58\" y=\"1494.48\">25</text>\n",
       "</g>\n",
       "<g clip-path=\"url(#clip6900)\">\n",
       "<text style=\"fill:#000000; fill-opacity:1; font-family:Arial,Helvetica Neue,Helvetica,sans-serif; font-size:48px; text-anchor:middle;\" transform=\"rotate(0, 1214.82, 1494.48)\" x=\"1214.82\" y=\"1494.48\">50</text>\n",
       "</g>\n",
       "<g clip-path=\"url(#clip6900)\">\n",
       "<text style=\"fill:#000000; fill-opacity:1; font-family:Arial,Helvetica Neue,Helvetica,sans-serif; font-size:48px; text-anchor:middle;\" transform=\"rotate(0, 1727.06, 1494.48)\" x=\"1727.06\" y=\"1494.48\">75</text>\n",
       "</g>\n",
       "<g clip-path=\"url(#clip6900)\">\n",
       "<text style=\"fill:#000000; fill-opacity:1; font-family:Arial,Helvetica Neue,Helvetica,sans-serif; font-size:48px; text-anchor:middle;\" transform=\"rotate(0, 2239.3, 1494.48)\" x=\"2239.3\" y=\"1494.48\">100</text>\n",
       "</g>\n",
       "<g clip-path=\"url(#clip6900)\">\n",
       "<text style=\"fill:#000000; fill-opacity:1; font-family:Arial,Helvetica Neue,Helvetica,sans-serif; font-size:48px; text-anchor:end;\" transform=\"rotate(0, 125.361, 1197.16)\" x=\"125.361\" y=\"1197.16\">-5</text>\n",
       "</g>\n",
       "<g clip-path=\"url(#clip6900)\">\n",
       "<text style=\"fill:#000000; fill-opacity:1; font-family:Arial,Helvetica Neue,Helvetica,sans-serif; font-size:48px; text-anchor:end;\" transform=\"rotate(0, 125.361, 889.582)\" x=\"125.361\" y=\"889.582\">0</text>\n",
       "</g>\n",
       "<g clip-path=\"url(#clip6900)\">\n",
       "<text style=\"fill:#000000; fill-opacity:1; font-family:Arial,Helvetica Neue,Helvetica,sans-serif; font-size:48px; text-anchor:end;\" transform=\"rotate(0, 125.361, 581.999)\" x=\"125.361\" y=\"581.999\">5</text>\n",
       "</g>\n",
       "<g clip-path=\"url(#clip6900)\">\n",
       "<text style=\"fill:#000000; fill-opacity:1; font-family:Arial,Helvetica Neue,Helvetica,sans-serif; font-size:48px; text-anchor:end;\" transform=\"rotate(0, 125.361, 274.415)\" x=\"125.361\" y=\"274.415\">10</text>\n",
       "</g>\n",
       "<g clip-path=\"url(#clip6900)\">\n",
       "<text style=\"fill:#000000; fill-opacity:1; font-family:Arial,Helvetica Neue,Helvetica,sans-serif; font-size:84px; text-anchor:middle;\" transform=\"rotate(0, 1235.31, 73.2)\" x=\"1235.31\" y=\"73.2\">State Trajectory</text>\n",
       "</g>\n",
       "<g clip-path=\"url(#clip6900)\">\n",
       "<text style=\"fill:#000000; fill-opacity:1; font-family:Arial,Helvetica Neue,Helvetica,sans-serif; font-size:66px; text-anchor:middle;\" transform=\"rotate(0, 1235.31, 1590.4)\" x=\"1235.31\" y=\"1590.4\">time step</text>\n",
       "</g>\n",
       "<polyline clip-path=\"url(#clip6902)\" style=\"stroke:#009af9; stroke-width:4; stroke-opacity:1; fill:none\" points=\"\n",
       "  210.829,872.082 231.319,872.375 251.809,873.255 272.298,874.722 292.788,876.755 313.278,879.305 333.767,882.283 354.257,885.567 374.746,889.024 395.236,892.54 \n",
       "  415.726,896.029 436.215,899.434 456.705,902.722 477.194,905.875 497.684,908.883 518.174,911.743 538.663,914.453 559.153,917.011 579.643,919.416 600.132,921.666 \n",
       "  620.622,923.758 641.111,925.687 661.601,927.447 682.091,929.029 702.58,930.426 723.07,931.625 743.559,932.615 764.049,933.382 784.539,933.912 805.028,934.19 \n",
       "  825.518,934.2 846.008,933.927 866.497,933.357 886.987,932.477 907.476,931.274 927.966,929.742 948.456,927.874 968.945,925.668 989.435,923.123 1009.92,920.245 \n",
       "  1030.41,917.039 1050.9,913.517 1071.39,909.688 1091.88,905.569 1112.37,901.174 1132.86,896.521 1153.35,891.63 1173.84,886.519 1194.33,881.212 1214.82,875.73 \n",
       "  1235.31,870.097 1255.8,864.339 1276.29,858.482 1296.78,852.555 1317.27,846.586 1337.76,840.604 1358.25,834.64 1378.74,828.721 1399.23,822.876 1419.72,817.129 \n",
       "  1440.21,811.505 1460.7,806.021 1481.19,800.693 1501.68,795.531 1522.16,790.543 1542.65,785.731 1563.14,781.093 1583.63,776.626 1604.12,772.324 1624.61,768.176 \n",
       "  1645.1,764.175 1665.59,760.308 1686.08,756.566 1706.57,752.935 1727.06,749.406 1747.55,745.967 1768.04,742.608 1788.53,739.317 1809.02,736.086 1829.51,732.905 \n",
       "  1850,729.764 1870.49,726.657 1890.98,723.574 1911.47,720.509 1931.96,717.455 1952.45,714.408 1972.94,711.364 1993.43,708.321 2013.92,705.282 2034.41,702.255 \n",
       "  2054.89,699.252 2075.38,696.298 2095.87,693.425 2116.36,690.679 2136.85,688.114 2157.34,685.791 2177.83,683.771 2198.32,682.111 2218.81,680.864 2239.3,680.078 \n",
       "  2259.79,679.804 \n",
       "  \"/>\n",
       "<polyline clip-path=\"url(#clip6902)\" style=\"stroke:#e26f46; stroke-width:4; stroke-opacity:1; fill:none\" points=\"\n",
       "  210.829,872.082 231.319,871.495 251.809,869.731 272.298,866.793 292.788,862.72 313.278,857.609 333.767,851.639 354.257,845.051 374.746,838.104 395.236,831.026 \n",
       "  415.726,823.982 436.215,817.079 456.705,810.377 477.194,803.906 497.684,797.675 518.174,791.683 538.663,785.924 559.153,780.387 579.643,775.063 600.132,769.942 \n",
       "  620.622,765.013 641.111,760.269 661.601,755.702 682.091,751.305 702.58,747.074 723.07,743.005 743.559,739.094 764.049,735.341 784.539,731.746 805.028,728.307 \n",
       "  825.518,725.027 846.008,721.909 866.497,718.956 886.987,716.171 907.476,713.558 927.966,711.123 948.456,708.869 968.945,706.801 989.435,704.922 1009.92,703.237 \n",
       "  1030.41,701.747 1050.9,700.454 1071.39,699.361 1091.88,698.467 1112.37,697.772 1132.86,697.277 1153.35,696.98 1173.84,696.882 1194.33,696.981 1214.82,697.276 \n",
       "  1235.31,697.767 1255.8,698.454 1276.29,699.336 1296.78,700.413 1317.27,701.684 1337.76,703.148 1358.25,704.804 1378.74,706.649 1399.23,708.68 1419.72,710.893 \n",
       "  1440.21,713.283 1460.7,715.842 1481.19,718.564 1501.68,721.439 1522.16,724.46 1542.65,727.616 1563.14,730.899 1583.63,734.3 1604.12,737.812 1624.61,741.426 \n",
       "  1645.1,745.137 1665.59,748.938 1686.08,752.826 1706.57,756.797 1727.06,760.848 1747.55,764.977 1768.04,769.185 1788.53,773.47 1809.02,777.835 1829.51,782.28 \n",
       "  1850,786.808 1870.49,791.42 1890.98,796.121 1911.47,800.913 1931.96,805.798 1952.45,810.776 1972.94,815.847 1993.43,821.004 2013.92,826.238 2034.41,831.528 \n",
       "  2054.89,836.841 2075.38,842.127 2095.87,847.315 2116.36,852.313 2136.85,857.01 2157.34,861.284 2177.83,865.013 2198.32,868.083 2218.81,870.391 2239.3,871.843 \n",
       "  2259.79,872.342 \n",
       "  \"/>\n",
       "<polyline clip-path=\"url(#clip6902)\" style=\"stroke:#3da44d; stroke-width:4; stroke-opacity:1; fill:none\" points=\"\n",
       "  210.829,872.082 231.319,930.666 251.809,989.508 272.298,1047.58 292.788,1102.48 313.278,1150.48 333.767,1187.6 354.257,1211.54 374.746,1222.74 395.236,1223.76 \n",
       "  415.726,1217.73 436.215,1207.35 456.705,1194.5 477.194,1180.38 497.684,1165.65 518.174,1150.67 538.663,1135.56 559.153,1120.34 579.643,1104.96 600.132,1089.31 \n",
       "  620.622,1073.26 641.111,1056.66 661.601,1039.37 682.091,1021.24 702.58,1002.09 723.07,981.796 743.559,960.214 764.049,937.232 784.539,912.763 805.028,886.759 \n",
       "  825.518,859.216 846.008,830.183 866.497,799.767 886.987,768.134 907.476,735.505 927.966,702.151 948.456,668.373 968.945,634.497 989.435,600.849 1009.92,567.743 \n",
       "  1030.41,535.469 1050.9,504.287 1071.39,474.42 1091.88,446.063 1112.37,419.379 1132.86,394.516 1153.35,371.606 1173.84,350.777 1194.33,332.156 1214.82,315.872 \n",
       "  1235.31,302.06 1255.8,290.851 1276.29,282.369 1296.78,276.725 1317.27,273.997 1337.76,274.221 1358.25,277.377 1378.74,283.372 1399.23,292.036 1419.72,303.12 \n",
       "  1440.21,316.302 1460.7,331.202 1481.19,347.402 1501.68,364.473 1522.16,381.997 1542.65,399.588 1563.14,416.912 1583.63,433.688 1604.12,449.698 1624.61,464.781 \n",
       "  1645.1,478.828 1665.59,491.774 1686.08,503.587 1706.57,514.266 1727.06,523.826 1747.55,532.297 1768.04,539.717 1788.53,546.13 1809.02,551.581 1829.51,556.118 \n",
       "  1850,559.79 1870.49,562.652 1890.98,564.765 1911.47,566.202 1931.96,567.062 1952.45,567.479 1972.94,567.649 1993.43,567.853 2013.92,568.498 2034.41,570.163 \n",
       "  2054.89,573.63 2075.38,579.893 2095.87,590.083 2116.36,605.303 2136.85,626.37 2157.34,653.61 2177.83,686.828 2198.32,725.526 2218.81,769.235 2239.3,817.802 \n",
       "  2259.79,871.504 \n",
       "  \"/>\n",
       "<polyline clip-path=\"url(#clip6902)\" style=\"stroke:#c271d2; stroke-width:4; stroke-opacity:1; fill:none\" points=\"\n",
       "  210.829,872.082 231.319,754.736 251.809,636.871 272.298,520.534 292.788,410.466 313.278,314.104 333.767,239.313 354.257,190.594 374.746,166.942 395.236,163.187 \n",
       "  415.726,172.961 436.215,190.812 456.705,212.872 477.194,236.69 497.684,260.827 518.174,284.498 538.663,307.313 559.153,329.113 579.643,349.872 600.132,369.637 \n",
       "  620.622,388.494 641.111,406.549 661.601,423.918 682.091,440.72 702.58,457.072 723.07,473.092 743.559,488.897 764.049,504.597 784.539,520.302 805.028,536.112 \n",
       "  825.518,552.121 846.008,568.414 866.497,585.058 886.987,602.105 907.476,619.59 927.966,637.522 948.456,655.892 968.945,674.67 989.435,693.808 1009.92,713.246 \n",
       "  1030.41,732.916 1050.9,752.749 1071.39,772.677 1091.88,792.643 1112.37,812.597 1132.86,832.505 1153.35,852.346 1173.84,872.111 1194.33,891.801 1214.82,911.427 \n",
       "  1235.31,931.001 1255.8,950.533 1276.29,970.028 1296.78,989.476 1317.27,1008.85 1337.76,1028.11 1358.25,1047.19 1378.74,1065.99 1399.23,1084.41 1419.72,1102.34 \n",
       "  1440.21,1119.66 1460.7,1136.28 1481.19,1152.09 1501.68,1167.04 1522.16,1181.08 1542.65,1194.21 1563.14,1206.46 1583.63,1217.87 1604.12,1228.51 1624.61,1238.45 \n",
       "  1645.1,1247.8 1665.59,1256.65 1686.08,1265.09 1706.57,1273.23 1727.06,1281.16 1747.55,1288.98 1768.04,1296.77 1788.53,1304.61 1809.02,1312.57 1829.51,1320.72 \n",
       "  1850,1329.12 1870.49,1337.78 1890.98,1346.73 1911.47,1355.93 1931.96,1365.31 1952.45,1374.68 1972.94,1383.76 1993.43,1392.07 2013.92,1398.88 2034.41,1403.11 \n",
       "  2054.89,1403.28 2075.38,1397.47 2095.87,1383.51 2116.36,1359.27 2136.85,1323.22 2157.34,1274.8 2177.83,1214.49 2198.32,1143.37 2218.81,1062.45 2239.3,972.094 \n",
       "  2259.79,871.808 \n",
       "  \"/>\n",
       "<polygon clip-path=\"url(#clip6900)\" points=\"\n",
       "1848.69,511.904 2249.26,511.904 2249.26,209.504 1848.69,209.504 \n",
       "  \" fill=\"#ffffff\" fill-rule=\"evenodd\" fill-opacity=\"1\"/>\n",
       "<polyline clip-path=\"url(#clip6900)\" style=\"stroke:#000000; stroke-width:4; stroke-opacity:1; fill:none\" points=\"\n",
       "  1848.69,511.904 2249.26,511.904 2249.26,209.504 1848.69,209.504 1848.69,511.904 \n",
       "  \"/>\n",
       "<polyline clip-path=\"url(#clip6900)\" style=\"stroke:#009af9; stroke-width:4; stroke-opacity:1; fill:none\" points=\"\n",
       "  1872.69,269.984 2016.69,269.984 \n",
       "  \"/>\n",
       "<g clip-path=\"url(#clip6900)\">\n",
       "<text style=\"fill:#000000; fill-opacity:1; font-family:Arial,Helvetica Neue,Helvetica,sans-serif; font-size:48px; text-anchor:start;\" transform=\"rotate(0, 2040.69, 287.484)\" x=\"2040.69\" y=\"287.484\">theta1</text>\n",
       "</g>\n",
       "<polyline clip-path=\"url(#clip6900)\" style=\"stroke:#e26f46; stroke-width:4; stroke-opacity:1; fill:none\" points=\"\n",
       "  1872.69,330.464 2016.69,330.464 \n",
       "  \"/>\n",
       "<g clip-path=\"url(#clip6900)\">\n",
       "<text style=\"fill:#000000; fill-opacity:1; font-family:Arial,Helvetica Neue,Helvetica,sans-serif; font-size:48px; text-anchor:start;\" transform=\"rotate(0, 2040.69, 347.964)\" x=\"2040.69\" y=\"347.964\">theta2</text>\n",
       "</g>\n",
       "<polyline clip-path=\"url(#clip6900)\" style=\"stroke:#3da44d; stroke-width:4; stroke-opacity:1; fill:none\" points=\"\n",
       "  1872.69,390.944 2016.69,390.944 \n",
       "  \"/>\n",
       "<g clip-path=\"url(#clip6900)\">\n",
       "<text style=\"fill:#000000; fill-opacity:1; font-family:Arial,Helvetica Neue,Helvetica,sans-serif; font-size:48px; text-anchor:start;\" transform=\"rotate(0, 2040.69, 408.444)\" x=\"2040.69\" y=\"408.444\">dtheta1</text>\n",
       "</g>\n",
       "<polyline clip-path=\"url(#clip6900)\" style=\"stroke:#c271d2; stroke-width:4; stroke-opacity:1; fill:none\" points=\"\n",
       "  1872.69,451.424 2016.69,451.424 \n",
       "  \"/>\n",
       "<g clip-path=\"url(#clip6900)\">\n",
       "<text style=\"fill:#000000; fill-opacity:1; font-family:Arial,Helvetica Neue,Helvetica,sans-serif; font-size:48px; text-anchor:start;\" transform=\"rotate(0, 2040.69, 468.924)\" x=\"2040.69\" y=\"468.924\">dtheta2</text>\n",
       "</g>\n",
       "</svg>\n"
      ]
     },
     "execution_count": 9,
     "metadata": {},
     "output_type": "execute_result"
    }
   ],
   "source": [
    "plot(prob.X,xlabel=\"time step\",title=\"State Trajectory\",label=[\"theta1\" \"theta2\" \"dtheta1\" \"dtheta2\"])"
   ]
  },
  {
   "cell_type": "code",
   "execution_count": 10,
   "metadata": {},
   "outputs": [
    {
     "data": {
      "image/svg+xml": [
       "<?xml version=\"1.0\" encoding=\"utf-8\"?>\n",
       "<svg xmlns=\"http://www.w3.org/2000/svg\" xmlns:xlink=\"http://www.w3.org/1999/xlink\" width=\"600\" height=\"400\" viewBox=\"0 0 2400 1600\">\n",
       "<defs>\n",
       "  <clipPath id=\"clip7300\">\n",
       "    <rect x=\"0\" y=\"0\" width=\"2400\" height=\"1600\"/>\n",
       "  </clipPath>\n",
       "</defs>\n",
       "<polygon clip-path=\"url(#clip7300)\" points=\"\n",
       "0,1600 2400,1600 2400,0 0,0 \n",
       "  \" fill=\"#ffffff\" fill-rule=\"evenodd\" fill-opacity=\"1\"/>\n",
       "<defs>\n",
       "  <clipPath id=\"clip7301\">\n",
       "    <rect x=\"480\" y=\"0\" width=\"1681\" height=\"1600\"/>\n",
       "  </clipPath>\n",
       "</defs>\n",
       "<polygon clip-path=\"url(#clip7300)\" points=\"\n",
       "176.123,1440.48 2321.26,1440.48 2321.26,125.984 176.123,125.984 \n",
       "  \" fill=\"#ffffff\" fill-rule=\"evenodd\" fill-opacity=\"1\"/>\n",
       "<defs>\n",
       "  <clipPath id=\"clip7302\">\n",
       "    <rect x=\"176\" y=\"125\" width=\"2146\" height=\"1315\"/>\n",
       "  </clipPath>\n",
       "</defs>\n",
       "<polyline clip-path=\"url(#clip7302)\" style=\"stroke:#000000; stroke-width:2; stroke-opacity:0.1; fill:none\" points=\"\n",
       "  216.393,1440.48 216.393,125.984 \n",
       "  \"/>\n",
       "<polyline clip-path=\"url(#clip7302)\" style=\"stroke:#000000; stroke-width:2; stroke-opacity:0.1; fill:none\" points=\"\n",
       "  727.432,1440.48 727.432,125.984 \n",
       "  \"/>\n",
       "<polyline clip-path=\"url(#clip7302)\" style=\"stroke:#000000; stroke-width:2; stroke-opacity:0.1; fill:none\" points=\"\n",
       "  1238.47,1440.48 1238.47,125.984 \n",
       "  \"/>\n",
       "<polyline clip-path=\"url(#clip7302)\" style=\"stroke:#000000; stroke-width:2; stroke-opacity:0.1; fill:none\" points=\"\n",
       "  1749.51,1440.48 1749.51,125.984 \n",
       "  \"/>\n",
       "<polyline clip-path=\"url(#clip7302)\" style=\"stroke:#000000; stroke-width:2; stroke-opacity:0.1; fill:none\" points=\"\n",
       "  2260.55,1440.48 2260.55,125.984 \n",
       "  \"/>\n",
       "<polyline clip-path=\"url(#clip7302)\" style=\"stroke:#000000; stroke-width:2; stroke-opacity:0.1; fill:none\" points=\"\n",
       "  176.123,1261.61 2321.26,1261.61 \n",
       "  \"/>\n",
       "<polyline clip-path=\"url(#clip7302)\" style=\"stroke:#000000; stroke-width:2; stroke-opacity:0.1; fill:none\" points=\"\n",
       "  176.123,1052.51 2321.26,1052.51 \n",
       "  \"/>\n",
       "<polyline clip-path=\"url(#clip7302)\" style=\"stroke:#000000; stroke-width:2; stroke-opacity:0.1; fill:none\" points=\"\n",
       "  176.123,843.41 2321.26,843.41 \n",
       "  \"/>\n",
       "<polyline clip-path=\"url(#clip7302)\" style=\"stroke:#000000; stroke-width:2; stroke-opacity:0.1; fill:none\" points=\"\n",
       "  176.123,634.308 2321.26,634.308 \n",
       "  \"/>\n",
       "<polyline clip-path=\"url(#clip7302)\" style=\"stroke:#000000; stroke-width:2; stroke-opacity:0.1; fill:none\" points=\"\n",
       "  176.123,425.206 2321.26,425.206 \n",
       "  \"/>\n",
       "<polyline clip-path=\"url(#clip7302)\" style=\"stroke:#000000; stroke-width:2; stroke-opacity:0.1; fill:none\" points=\"\n",
       "  176.123,216.104 2321.26,216.104 \n",
       "  \"/>\n",
       "<polyline clip-path=\"url(#clip7300)\" style=\"stroke:#000000; stroke-width:4; stroke-opacity:1; fill:none\" points=\"\n",
       "  176.123,1440.48 2321.26,1440.48 \n",
       "  \"/>\n",
       "<polyline clip-path=\"url(#clip7300)\" style=\"stroke:#000000; stroke-width:4; stroke-opacity:1; fill:none\" points=\"\n",
       "  176.123,1440.48 176.123,125.984 \n",
       "  \"/>\n",
       "<polyline clip-path=\"url(#clip7300)\" style=\"stroke:#000000; stroke-width:4; stroke-opacity:1; fill:none\" points=\"\n",
       "  216.393,1440.48 216.393,1420.77 \n",
       "  \"/>\n",
       "<polyline clip-path=\"url(#clip7300)\" style=\"stroke:#000000; stroke-width:4; stroke-opacity:1; fill:none\" points=\"\n",
       "  727.432,1440.48 727.432,1420.77 \n",
       "  \"/>\n",
       "<polyline clip-path=\"url(#clip7300)\" style=\"stroke:#000000; stroke-width:4; stroke-opacity:1; fill:none\" points=\"\n",
       "  1238.47,1440.48 1238.47,1420.77 \n",
       "  \"/>\n",
       "<polyline clip-path=\"url(#clip7300)\" style=\"stroke:#000000; stroke-width:4; stroke-opacity:1; fill:none\" points=\"\n",
       "  1749.51,1440.48 1749.51,1420.77 \n",
       "  \"/>\n",
       "<polyline clip-path=\"url(#clip7300)\" style=\"stroke:#000000; stroke-width:4; stroke-opacity:1; fill:none\" points=\"\n",
       "  2260.55,1440.48 2260.55,1420.77 \n",
       "  \"/>\n",
       "<polyline clip-path=\"url(#clip7300)\" style=\"stroke:#000000; stroke-width:4; stroke-opacity:1; fill:none\" points=\"\n",
       "  176.123,1261.61 208.3,1261.61 \n",
       "  \"/>\n",
       "<polyline clip-path=\"url(#clip7300)\" style=\"stroke:#000000; stroke-width:4; stroke-opacity:1; fill:none\" points=\"\n",
       "  176.123,1052.51 208.3,1052.51 \n",
       "  \"/>\n",
       "<polyline clip-path=\"url(#clip7300)\" style=\"stroke:#000000; stroke-width:4; stroke-opacity:1; fill:none\" points=\"\n",
       "  176.123,843.41 208.3,843.41 \n",
       "  \"/>\n",
       "<polyline clip-path=\"url(#clip7300)\" style=\"stroke:#000000; stroke-width:4; stroke-opacity:1; fill:none\" points=\"\n",
       "  176.123,634.308 208.3,634.308 \n",
       "  \"/>\n",
       "<polyline clip-path=\"url(#clip7300)\" style=\"stroke:#000000; stroke-width:4; stroke-opacity:1; fill:none\" points=\"\n",
       "  176.123,425.206 208.3,425.206 \n",
       "  \"/>\n",
       "<polyline clip-path=\"url(#clip7300)\" style=\"stroke:#000000; stroke-width:4; stroke-opacity:1; fill:none\" points=\"\n",
       "  176.123,216.104 208.3,216.104 \n",
       "  \"/>\n",
       "<g clip-path=\"url(#clip7300)\">\n",
       "<text style=\"fill:#000000; fill-opacity:1; font-family:Arial,Helvetica Neue,Helvetica,sans-serif; font-size:48px; text-anchor:middle;\" transform=\"rotate(0, 216.393, 1494.48)\" x=\"216.393\" y=\"1494.48\">0</text>\n",
       "</g>\n",
       "<g clip-path=\"url(#clip7300)\">\n",
       "<text style=\"fill:#000000; fill-opacity:1; font-family:Arial,Helvetica Neue,Helvetica,sans-serif; font-size:48px; text-anchor:middle;\" transform=\"rotate(0, 727.432, 1494.48)\" x=\"727.432\" y=\"1494.48\">25</text>\n",
       "</g>\n",
       "<g clip-path=\"url(#clip7300)\">\n",
       "<text style=\"fill:#000000; fill-opacity:1; font-family:Arial,Helvetica Neue,Helvetica,sans-serif; font-size:48px; text-anchor:middle;\" transform=\"rotate(0, 1238.47, 1494.48)\" x=\"1238.47\" y=\"1494.48\">50</text>\n",
       "</g>\n",
       "<g clip-path=\"url(#clip7300)\">\n",
       "<text style=\"fill:#000000; fill-opacity:1; font-family:Arial,Helvetica Neue,Helvetica,sans-serif; font-size:48px; text-anchor:middle;\" transform=\"rotate(0, 1749.51, 1494.48)\" x=\"1749.51\" y=\"1494.48\">75</text>\n",
       "</g>\n",
       "<g clip-path=\"url(#clip7300)\">\n",
       "<text style=\"fill:#000000; fill-opacity:1; font-family:Arial,Helvetica Neue,Helvetica,sans-serif; font-size:48px; text-anchor:middle;\" transform=\"rotate(0, 2260.55, 1494.48)\" x=\"2260.55\" y=\"1494.48\">100</text>\n",
       "</g>\n",
       "<g clip-path=\"url(#clip7300)\">\n",
       "<text style=\"fill:#000000; fill-opacity:1; font-family:Arial,Helvetica Neue,Helvetica,sans-serif; font-size:48px; text-anchor:end;\" transform=\"rotate(0, 152.123, 1279.11)\" x=\"152.123\" y=\"1279.11\">-20</text>\n",
       "</g>\n",
       "<g clip-path=\"url(#clip7300)\">\n",
       "<text style=\"fill:#000000; fill-opacity:1; font-family:Arial,Helvetica Neue,Helvetica,sans-serif; font-size:48px; text-anchor:end;\" transform=\"rotate(0, 152.123, 1070.01)\" x=\"152.123\" y=\"1070.01\">-10</text>\n",
       "</g>\n",
       "<g clip-path=\"url(#clip7300)\">\n",
       "<text style=\"fill:#000000; fill-opacity:1; font-family:Arial,Helvetica Neue,Helvetica,sans-serif; font-size:48px; text-anchor:end;\" transform=\"rotate(0, 152.123, 860.91)\" x=\"152.123\" y=\"860.91\">0</text>\n",
       "</g>\n",
       "<g clip-path=\"url(#clip7300)\">\n",
       "<text style=\"fill:#000000; fill-opacity:1; font-family:Arial,Helvetica Neue,Helvetica,sans-serif; font-size:48px; text-anchor:end;\" transform=\"rotate(0, 152.123, 651.808)\" x=\"152.123\" y=\"651.808\">10</text>\n",
       "</g>\n",
       "<g clip-path=\"url(#clip7300)\">\n",
       "<text style=\"fill:#000000; fill-opacity:1; font-family:Arial,Helvetica Neue,Helvetica,sans-serif; font-size:48px; text-anchor:end;\" transform=\"rotate(0, 152.123, 442.706)\" x=\"152.123\" y=\"442.706\">20</text>\n",
       "</g>\n",
       "<g clip-path=\"url(#clip7300)\">\n",
       "<text style=\"fill:#000000; fill-opacity:1; font-family:Arial,Helvetica Neue,Helvetica,sans-serif; font-size:48px; text-anchor:end;\" transform=\"rotate(0, 152.123, 233.604)\" x=\"152.123\" y=\"233.604\">30</text>\n",
       "</g>\n",
       "<g clip-path=\"url(#clip7300)\">\n",
       "<text style=\"fill:#000000; fill-opacity:1; font-family:Arial,Helvetica Neue,Helvetica,sans-serif; font-size:84px; text-anchor:middle;\" transform=\"rotate(0, 1248.69, 73.2)\" x=\"1248.69\" y=\"73.2\">Control Trajectory</text>\n",
       "</g>\n",
       "<g clip-path=\"url(#clip7300)\">\n",
       "<text style=\"fill:#000000; fill-opacity:1; font-family:Arial,Helvetica Neue,Helvetica,sans-serif; font-size:66px; text-anchor:middle;\" transform=\"rotate(0, 1248.69, 1590.4)\" x=\"1248.69\" y=\"1590.4\">time step</text>\n",
       "</g>\n",
       "<polyline clip-path=\"url(#clip7302)\" style=\"stroke:#009af9; stroke-width:4; stroke-opacity:1; fill:none\" points=\"\n",
       "  236.834,835.601 257.276,836.16 277.717,836.483 298.159,835.092 318.601,830.039 339.042,819.638 359.484,803.404 379.925,782.43 400.367,758.785 420.808,734.519 \n",
       "  441.25,711.067 461.691,689.186 482.133,669.143 502.575,650.927 523.016,634.393 543.458,619.351 563.899,605.607 584.341,592.982 604.782,581.323 625.224,570.5 \n",
       "  645.665,560.407 666.107,550.961 686.549,542.099 706.99,533.777 727.432,525.97 747.873,518.671 768.315,511.89 788.756,505.651 809.198,499.997 829.639,494.982 \n",
       "  850.081,490.672 870.523,487.137 890.964,484.455 911.406,482.696 931.847,481.925 952.289,482.193 972.73,483.533 993.172,485.962 1013.61,489.477 1034.06,494.06 \n",
       "  1054.5,499.679 1074.94,506.297 1095.38,513.875 1115.82,522.377 1136.26,531.772 1156.7,542.042 1177.15,553.175 1197.59,565.175 1218.03,578.05 1238.47,591.817 \n",
       "  1258.91,606.496 1279.35,622.102 1299.8,638.64 1320.24,656.103 1340.68,674.456 1361.12,693.64 1381.56,713.557 1402,734.078 1422.44,755.039 1442.89,776.25 \n",
       "  1463.33,797.505 1483.77,818.592 1504.21,839.309 1524.65,859.478 1545.09,878.948 1565.54,897.608 1585.98,915.385 1606.42,932.244 1626.86,948.18 1647.3,963.22 \n",
       "  1667.74,977.408 1688.18,990.805 1708.63,1003.48 1729.07,1015.52 1749.51,1026.99 1769.95,1037.98 1790.39,1048.58 1810.83,1058.85 1831.28,1068.89 1851.72,1078.76 \n",
       "  1872.16,1088.55 1892.6,1098.34 1913.04,1108.22 1933.48,1118.29 1953.93,1128.64 1974.37,1139.4 1994.81,1150.69 2015.25,1162.67 2035.69,1175.5 2056.13,1189.35 \n",
       "  2076.57,1204.4 2097.02,1220.78 2117.46,1238.59 2137.9,1257.83 2158.34,1278.46 2178.78,1300.41 2199.22,1323.69 2219.67,1348.42 2240.11,1374.83 2260.55,1403.28 \n",
       "  \n",
       "  \"/>\n",
       "<polyline clip-path=\"url(#clip7302)\" style=\"stroke:#e26f46; stroke-width:4; stroke-opacity:1; fill:none\" points=\"\n",
       "  236.834,177.913 257.276,171.177 277.717,165.282 298.159,163.187 318.601,168.773 339.042,185.391 359.484,213.982 379.925,252.314 400.367,296.206 420.808,341.521 \n",
       "  441.25,385.357 461.691,426.176 482.133,463.424 502.575,497.112 523.016,527.521 543.458,555.027 563.899,580.019 584.341,602.857 604.782,623.858 625.224,643.297 \n",
       "  645.665,661.408 666.107,678.387 686.549,694.4 706.99,709.588 727.432,724.068 747.873,737.937 768.315,751.274 788.756,764.145 809.198,776.602 829.639,788.682 \n",
       "  850.081,800.412 870.523,811.811 890.964,822.887 911.406,833.64 931.847,844.066 952.289,854.159 972.73,863.91 993.172,873.313 1013.61,882.366 1034.06,891.071 \n",
       "  1054.5,899.438 1074.94,907.48 1095.38,915.221 1115.82,922.687 1136.26,929.909 1156.7,936.92 1177.15,943.754 1197.59,950.44 1218.03,957.007 1238.47,963.473 \n",
       "  1258.91,969.849 1279.35,976.135 1299.8,982.316 1320.24,988.365 1340.68,994.239 1361.12,999.884 1381.56,1005.23 1402,1010.21 1422.44,1014.75 1442.89,1018.77 \n",
       "  1463.33,1022.21 1483.77,1025.02 1504.21,1027.17 1524.65,1028.65 1545.09,1029.44 1565.54,1029.56 1585.98,1029.05 1606.42,1027.94 1626.86,1026.27 1647.3,1024.07 \n",
       "  1667.74,1021.38 1688.18,1018.24 1708.63,1014.68 1729.07,1010.72 1749.51,1006.38 1769.95,1001.65 1790.39,996.541 1810.83,991.035 1831.28,985.109 1851.72,978.729 \n",
       "  1872.16,971.846 1892.6,964.396 1913.04,956.295 1933.48,947.439 1953.93,937.695 1974.37,926.901 1994.81,914.859 2015.25,901.333 2035.69,886.054 2056.13,868.735 \n",
       "  2076.57,849.098 2097.02,826.923 2117.46,802.105 2137.9,774.685 2158.34,744.825 2178.78,712.703 2199.22,678.368 2219.67,641.628 2240.11,602.019 2260.55,558.873 \n",
       "  \n",
       "  \"/>\n",
       "<polygon clip-path=\"url(#clip7300)\" points=\"\n",
       "1955.74,390.944 2249.26,390.944 2249.26,209.504 1955.74,209.504 \n",
       "  \" fill=\"#ffffff\" fill-rule=\"evenodd\" fill-opacity=\"1\"/>\n",
       "<polyline clip-path=\"url(#clip7300)\" style=\"stroke:#000000; stroke-width:4; stroke-opacity:1; fill:none\" points=\"\n",
       "  1955.74,390.944 2249.26,390.944 2249.26,209.504 1955.74,209.504 1955.74,390.944 \n",
       "  \"/>\n",
       "<polyline clip-path=\"url(#clip7300)\" style=\"stroke:#009af9; stroke-width:4; stroke-opacity:1; fill:none\" points=\"\n",
       "  1979.74,269.984 2123.74,269.984 \n",
       "  \"/>\n",
       "<g clip-path=\"url(#clip7300)\">\n",
       "<text style=\"fill:#000000; fill-opacity:1; font-family:Arial,Helvetica Neue,Helvetica,sans-serif; font-size:48px; text-anchor:start;\" transform=\"rotate(0, 2147.74, 287.484)\" x=\"2147.74\" y=\"287.484\">u1</text>\n",
       "</g>\n",
       "<polyline clip-path=\"url(#clip7300)\" style=\"stroke:#e26f46; stroke-width:4; stroke-opacity:1; fill:none\" points=\"\n",
       "  1979.74,330.464 2123.74,330.464 \n",
       "  \"/>\n",
       "<g clip-path=\"url(#clip7300)\">\n",
       "<text style=\"fill:#000000; fill-opacity:1; font-family:Arial,Helvetica Neue,Helvetica,sans-serif; font-size:48px; text-anchor:start;\" transform=\"rotate(0, 2147.74, 347.964)\" x=\"2147.74\" y=\"347.964\">u2</text>\n",
       "</g>\n",
       "</svg>\n"
      ]
     },
     "execution_count": 10,
     "metadata": {},
     "output_type": "execute_result"
    }
   ],
   "source": [
    "plot(prob.U,xlabel=\"time step\",title=\"Control Trajectory\",label=[\"u1\" \"u2\"])"
   ]
  },
  {
   "cell_type": "markdown",
   "metadata": {},
   "source": [
    "Visualizer"
   ]
  },
  {
   "cell_type": "code",
   "execution_count": 11,
   "metadata": {},
   "outputs": [
    {
     "data": {
      "text/html": [
       "<div class='display:none'></div><unsafe-script style='display:none'>\n",
       "WebIO.mount(this.previousSibling,{&quot;props&quot;:{},&quot;nodeType&quot;:&quot;Scope&quot;,&quot;type&quot;:&quot;node&quot;,&quot;instanceArgs&quot;:{&quot;imports&quot;:{&quot;data&quot;:[],&quot;type&quot;:&quot;async_block&quot;},&quot;id&quot;:&quot;scope-29bfe614-176b-4b5a-b9c0-cf3a9cc1e44c&quot;,&quot;handlers&quot;:{&quot;_promises&quot;:{&quot;importsLoaded&quot;:[function () {\n",
       "    var frame = this.dom.querySelector(&quot;#ifr&quot;);\n",
       "    var doc = frame.contentDocument\n",
       "    var win = frame.contentWindow\n",
       "\n",
       "    // Ensure that the iframe&#39;s baseURI matches the baseURI of the\n",
       "    // outer document. This is necessary to resolve\n",
       "    // https://github.com/JuliaGizmos/WebIO.jl/issues/167\n",
       "    var base = doc.createElement(&quot;base&quot;);\n",
       "    base.setAttribute(&quot;href&quot;, document.baseURI);\n",
       "    doc.head.appendChild(base);\n",
       "\n",
       "    var webio = doc.createElement(&quot;script&quot;)\n",
       "    webio.src = &quot;/assetserver/c443b012d0ad3ce8e6cc9de306cd3766b1d18a79-assets/webio/dist/bundle.js&quot;\n",
       "    var parent = window\n",
       "\n",
       "    function resizeIframe() {\n",
       "        doc.body.style.padding = &#39;0&#39;\n",
       "        doc.body.style.margin = &#39;0&#39;\n",
       "        doc.documentElement.height = &#39;100%&#39;\n",
       "        doc.body.height = &#39;100%&#39;\n",
       "    }\n",
       "\n",
       "    webio.onload = function () {\n",
       "        win.WebIO.sendCallback = parent.WebIO.sendCallback; // Share stuff\n",
       "        win.WebIO.scopes = parent.WebIO.scopes\n",
       "        win.WebIO.obsscopes = parent.WebIO.obsscopes\n",
       "        win.WebIO._connected = true\n",
       "        doc.body.innerHTML = &quot;&lt;html&gt;&lt;body&gt;&quot; + &quot;&lt;div class=&#39;display:none&#39;&gt;&lt;/div&gt;&lt;unsafe-script style=&#39;display:none&#39;&gt;\\nWebIO.mount(this.previousSibling,{&amp;quot;props&amp;quot;:{},&amp;quot;nodeType&amp;quot;:&amp;quot;Scope&amp;quot;,&amp;quot;type&amp;quot;:&amp;quot;node&amp;quot;,&amp;quot;instanceArgs&amp;quot;:{&amp;quot;imports&amp;quot;:{&amp;quot;data&amp;quot;:[{&amp;quot;name&amp;quot;:null,&amp;quot;type&amp;quot;:&amp;quot;js&amp;quot;,&amp;quot;url&amp;quot;:&amp;quot;/assetserver/39091d6b9eb892b592bedf9cea6c288f61f7d3f3-main.min.js&amp;quot;}],&amp;quot;type&amp;quot;:&amp;quot;async_block&amp;quot;},&amp;quot;id&amp;quot;:&amp;quot;scope-811fcc65-140e-41b1-ba7b-07809c0b1f5c&amp;quot;,&amp;quot;handlers&amp;quot;:{&amp;quot;meshcat-command&amp;quot;:[(function (val){return this.viewer.handle_command_message({&amp;quot;data&amp;quot;:val})})],&amp;quot;_promises&amp;quot;:{&amp;quot;importsLoaded&amp;quot;:[(function (mc){var element=this.dom.children[0]; this.viewer=new mc.Viewer(element); WebIO.setval({&amp;quot;name&amp;quot;:&amp;quot;meshcat-request&amp;quot;,&amp;quot;scope&amp;quot;:&amp;quot;scope-811fcc65-140e-41b1-ba7b-07809c0b1f5c&amp;quot;,&amp;quot;id&amp;quot;:&amp;quot;ob_02&amp;quot;,&amp;quot;type&amp;quot;:&amp;quot;observable&amp;quot;},String(Date.now())); window.document.body.style.margin=&amp;quot;0&amp;quot;; return window.meshcat_viewer=this.viewer})]}},&amp;quot;systemjs_options&amp;quot;:null,&amp;quot;observables&amp;quot;:{&amp;quot;meshcat-command&amp;quot;:{&amp;quot;sync&amp;quot;:false,&amp;quot;id&amp;quot;:&amp;quot;ob_01&amp;quot;,&amp;quot;value&amp;quot;:[]},&amp;quot;meshcat-controls&amp;quot;:{&amp;quot;sync&amp;quot;:true,&amp;quot;id&amp;quot;:&amp;quot;ob_03&amp;quot;,&amp;quot;value&amp;quot;:[]},&amp;quot;meshcat-request&amp;quot;:{&amp;quot;sync&amp;quot;:true,&amp;quot;id&amp;quot;:&amp;quot;ob_02&amp;quot;,&amp;quot;value&amp;quot;:&amp;quot;&amp;quot;}}},&amp;quot;children&amp;quot;:[{&amp;quot;props&amp;quot;:{&amp;quot;className&amp;quot;:&amp;quot;meshcat-viewer&amp;quot;,&amp;quot;style&amp;quot;:{&amp;quot;left&amp;quot;:0,&amp;quot;right&amp;quot;:0,&amp;quot;overflow&amp;quot;:&amp;quot;hidden&amp;quot;,&amp;quot;position&amp;quot;:&amp;quot;absolute&amp;quot;,&amp;quot;height&amp;quot;:&amp;quot;100vh&amp;quot;,&amp;quot;margin&amp;quot;:0,&amp;quot;width&amp;quot;:&amp;quot;100vw&amp;quot;}},&amp;quot;nodeType&amp;quot;:&amp;quot;DOM&amp;quot;,&amp;quot;type&amp;quot;:&amp;quot;node&amp;quot;,&amp;quot;instanceArgs&amp;quot;:{&amp;quot;namespace&amp;quot;:&amp;quot;html&amp;quot;,&amp;quot;tag&amp;quot;:&amp;quot;div&amp;quot;},&amp;quot;children&amp;quot;:[]}]})&lt;/unsafe-script&gt;&quot; + &quot;&lt;/body&gt;&lt;/html&gt;&quot;;\n",
       "        setTimeout(function () { resizeIframe() }, 0)\n",
       "    }\n",
       "\n",
       "    doc.body.appendChild(webio)\n",
       "},(function (){return this.dom.style.height=&quot;100%&quot;})]}},&quot;systemjs_options&quot;:null,&quot;observables&quot;:{}},&quot;children&quot;:[{&quot;props&quot;:{&quot;style&quot;:{&quot;flexDirection&quot;:&quot;column&quot;,&quot;height&quot;:&quot;100%&quot;,&quot;minHeight&quot;:&quot;400px&quot;,&quot;display&quot;:&quot;flex&quot;,&quot;width&quot;:&quot;100%&quot;,&quot;overflow&quot;:&quot;hidden&quot;}},&quot;nodeType&quot;:&quot;DOM&quot;,&quot;type&quot;:&quot;node&quot;,&quot;instanceArgs&quot;:{&quot;namespace&quot;:&quot;html&quot;,&quot;tag&quot;:&quot;div&quot;},&quot;children&quot;:[{&quot;props&quot;:{&quot;attributes&quot;:{&quot;height&quot;:&quot;100%&quot;,&quot;scrolling&quot;:&quot;no&quot;,&quot;src&quot;:&quot;javascript:void(0)&quot;,&quot;frameborder&quot;:0},&quot;id&quot;:&quot;ifr&quot;,&quot;style&quot;:{&quot;width&quot;:&quot;100%&quot;,&quot;flexGrow&quot;:&quot;1&quot;}},&quot;nodeType&quot;:&quot;DOM&quot;,&quot;type&quot;:&quot;node&quot;,&quot;instanceArgs&quot;:{&quot;namespace&quot;:&quot;html&quot;,&quot;tag&quot;:&quot;iframe&quot;},&quot;children&quot;:[]}]}]})</unsafe-script>"
      ],
      "text/plain": [
       "WebIO.Scope(\"scope-29bfe614-176b-4b5a-b9c0-cf3a9cc1e44c\", WebIO.Node{WebIO.DOM}(WebIO.DOM(:html, :div), Any[Node{DOM}(DOM(:html, :iframe), Any[], Dict{Symbol,Any}(:attributes=>Dict{String,Any}(\"height\"=>\"100%\",\"scrolling\"=>\"no\",\"src\"=>\"javascript:void(0)\",\"frameborder\"=>0),:id=>\"ifr\",:style=>Dict(\"width\"=>\"100%\",\"flexGrow\"=>\"1\")), 0)], Dict{Symbol,Any}(:style=>Dict(\"flexDirection\"=>\"column\",\"height\"=>\"100%\",\"minHeight\"=>\"400px\",\"display\"=>\"flex\",\"width\"=>\"100%\",\"overflow\"=>\"hidden\")), 1), Dict{String,Tuple{Observables.AbstractObservable,Union{Nothing, Bool}}}(), Set(String[]), nothing, Any[], Dict{Any,Any}(\"_promises\"=>Dict{Any,Any}(\"importsLoaded\"=>Any[JSString(\"function () {\\n    var frame = this.dom.querySelector(\\\"#ifr\\\");\\n    var doc = frame.contentDocument\\n    var win = frame.contentWindow\\n\\n    // Ensure that the iframe's baseURI matches the baseURI of the\\n    // outer document. This is necessary to resolve\\n    // https://github.com/JuliaGizmos/WebIO.jl/issues/167\\n    var base = doc.createElement(\\\"base\\\");\\n    base.setAttribute(\\\"href\\\", document.baseURI);\\n    doc.head.appendChild(base);\\n\\n    var webio = doc.createElement(\\\"script\\\")\\n    webio.src = \\\"/assetserver/c443b012d0ad3ce8e6cc9de306cd3766b1d18a79-assets/webio/dist/bundle.js\\\"\\n    var parent = window\\n\\n    function resizeIframe() {\\n        doc.body.style.padding = '0'\\n        doc.body.style.margin = '0'\\n        doc.documentElement.height = '100%'\\n        doc.body.height = '100%'\\n    }\\n\\n    webio.onload = function () {\\n        win.WebIO.sendCallback = parent.WebIO.sendCallback; // Share stuff\\n        win.WebIO.scopes = parent.WebIO.scopes\\n        win.WebIO.obsscopes = parent.WebIO.obsscopes\\n        win.WebIO._connected = true\\n        doc.body.innerHTML = \\\"<html><body>\\\" + \\\"<div class='display:none'></div><unsafe-script style='display:none'>\\\\nWebIO.mount(this.previousSibling,{&quot;props&quot;:{},&quot;nodeType&quot;:&quot;Scope&quot;,&quot;type&quot;:&quot;node&quot;,&quot;instanceArgs&quot;:{&quot;imports&quot;:{&quot;data&quot;:[{&quot;name&quot;:null,&quot;type&quot;:&quot;js&quot;,&quot;url&quot;:&quot;/assetserver/39091d6b9eb892b592bedf9cea6c288f61f7d3f3-main.min.js&quot;}],&quot;type&quot;:&quot;async_block&quot;},&quot;id&quot;:&quot;scope-811fcc65-140e-41b1-ba7b-07809c0b1f5c&quot;,&quot;handlers&quot;:{&quot;meshcat-command&quot;:[(function (val){return this.viewer.handle_command_message({&quot;data&quot;:val})})],&quot;_promises&quot;:{&quot;importsLoaded&quot;:[(function (mc){var element=this.dom.children[0]; this.viewer=new mc.Viewer(element); WebIO.setval({&quot;name&quot;:&quot;meshcat-request&quot;,&quot;scope&quot;:&quot;scope-811fcc65-140e-41b1-ba7b-07809c0b1f5c&quot;,&quot;id&quot;:&quot;ob_02&quot;,&quot;type&quot;:&quot;observable&quot;},String(Date.now())); window.document.body.style.margin=&quot;0&quot;; return window.meshcat_viewer=this.viewer})]}},&quot;systemjs_options&quot;:null,&quot;observables&quot;:{&quot;meshcat-command&quot;:{&quot;sync&quot;:false,&quot;id&quot;:&quot;ob_01&quot;,&quot;value&quot;:[]},&quot;meshcat-controls&quot;:{&quot;sync&quot;:true,&quot;id&quot;:&quot;ob_03&quot;,&quot;value&quot;:[]},&quot;meshcat-request&quot;:{&quot;sync&quot;:true,&quot;id&quot;:&quot;ob_02&quot;,&quot;value&quot;:&quot;&quot;}}},&quot;children&quot;:[{&quot;props&quot;:{&quot;className&quot;:&quot;meshcat-viewer&quot;,&quot;style&quot;:{&quot;left&quot;:0,&quot;right&quot;:0,&quot;overflow&quot;:&quot;hidden&quot;,&quot;position&quot;:&quot;absolute&quot;,&quot;height&quot;:&quot;100vh&quot;,&quot;margin&quot;:0,&quot;width&quot;:&quot;100vw&quot;}},&quot;nodeType&quot;:&quot;DOM&quot;,&quot;type&quot;:&quot;node&quot;,&quot;instanceArgs&quot;:{&quot;namespace&quot;:&quot;html&quot;,&quot;tag&quot;:&quot;div&quot;},&quot;children&quot;:[]}]})</unsafe-script>\\\" + \\\"</body></html>\\\";\\n        setTimeout(function () { resizeIframe() }, 0)\\n    }\\n\\n    doc.body.appendChild(webio)\\n}\"), JSString(\"(function (){return this.dom.style.height=\\\"100%\\\"})\")])), WebIO.ConnectionPool(Channel{Any}(sz_max:9223372036854775807,sz_curr:0), Set(WebIO.AbstractConnection[]), Channel{WebIO.AbstractConnection}(sz_max:32,sz_curr:0)))"
      ]
     },
     "execution_count": 11,
     "metadata": {},
     "output_type": "execute_result"
    }
   ],
   "source": [
    "vis = Visualizer()\n",
    "# open(vis)\n",
    "IJuliaCell(vis)"
   ]
  },
  {
   "cell_type": "markdown",
   "metadata": {},
   "source": [
    "Create mechanism"
   ]
  },
  {
   "cell_type": "code",
   "execution_count": 12,
   "metadata": {},
   "outputs": [],
   "source": [
    "robot = RigidBodyDynamics.parse_urdf(T, urdf)\n",
    "mvis = MechanismVisualizer(robot, URDFVisuals(urdf), vis);"
   ]
  },
  {
   "cell_type": "code",
   "execution_count": 13,
   "metadata": {},
   "outputs": [],
   "source": [
    "# Set camera location\n",
    "settransform!(vis[\"/Cameras/default\"], compose(Translation(0.,1.0,1.0),LinearMap(RotZ(pi/2))));"
   ]
  },
  {
   "cell_type": "markdown",
   "metadata": {},
   "source": [
    "Create generalized coordinate trajectory and animate"
   ]
  },
  {
   "cell_type": "code",
   "execution_count": 14,
   "metadata": {},
   "outputs": [],
   "source": [
    "q = [[prob.X[k][1];prob.X[k][2]] for k = 1:N]\n",
    "t = range(0,stop=N*dt,length=N)\n",
    "\n",
    "setanimation!(mvis,t,q)"
   ]
  }
 ],
 "metadata": {
  "@webio": {
   "lastCommId": null,
   "lastKernelId": null
  },
  "kernelspec": {
   "display_name": "Julia 1.1.0",
   "language": "julia",
   "name": "julia-1.1"
  },
  "language_info": {
   "file_extension": ".jl",
   "mimetype": "application/julia",
   "name": "julia",
   "version": "1.1.0"
  }
 },
 "nbformat": 4,
 "nbformat_minor": 2
}
