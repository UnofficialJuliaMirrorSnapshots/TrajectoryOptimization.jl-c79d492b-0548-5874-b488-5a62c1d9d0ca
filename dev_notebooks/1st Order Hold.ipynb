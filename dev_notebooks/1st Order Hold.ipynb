{
 "cells": [
  {
   "cell_type": "code",
   "execution_count": 101,
   "metadata": {},
   "outputs": [
    {
     "data": {
      "text/plain": [
       "4"
      ]
     },
     "execution_count": 101,
     "metadata": {},
     "output_type": "execute_result"
    }
   ],
   "source": [
    "from sympy import *"
   ]
  },
  {
   "cell_type": "code",
   "execution_count": 450,
   "metadata": {},
   "outputs": [
    {
     "data": {
      "text/plain": [
       "(2*m + 2*n, 1)"
      ]
     },
     "execution_count": 450,
     "metadata": {},
     "output_type": "execute_result"
    }
   ],
   "source": [
    "n,m = 3,2\n",
    "n,m = symbols(\"n m\")\n",
    "grads = {\"xx\":(n,n),\"uu\":(m,m),\"ux\":(m,n),\"xu\":(n,m),\"x\":(1,n),\"u\":(1,m)}\n",
    "x1,u1,xm,um,x2,u2,x1d,t = symbols('x1 u1 xm um x2 u2 xdot_1 t')\n",
    "L = {wrt+num:MatrixSymbol(\"L\"+wrt+\"_\"+num,*sze) for (wrt,sze) in grads.items() for num in [\"1\",\"m\",\"2\"]}\n",
    "A = MatrixSymbol(\"A\",n,n)\n",
    "B = MatrixSymbol(\"B\",n,m)\n",
    "C = MatrixSymbol(\"C\",n,m)\n",
    "In = Identity(n)\n",
    "Im = Identity(m)\n",
    "Zn = ZeroMatrix(n,n)\n",
    "Zm = ZeroMatrix(m,m)\n",
    "Za = ZeroMatrix(n,n)\n",
    "Zb = ZeroMatrix(n,m)\n",
    "\n",
    "x1 = MatrixSymbol(\"x_1\",n,1)\n",
    "u1 = MatrixSymbol(\"u_1\",m,1)\n",
    "xm = MatrixSymbol(\"x_m\",n,1)\n",
    "um = MatrixSymbol(\"u_m\",m,1)\n",
    "x2 = MatrixSymbol(\"x_2\",n,1)\n",
    "u2 = MatrixSymbol(\"u_2\",m,1)\n",
    "x1m2 = BlockMatrix([[x1.T,u1.T,xm.T,um.T,x2.T,u2.T]]).T\n",
    "x12 = BlockMatrix([[x1.T,u1.T,x2.T,u2.T]]).T\n",
    "x12.shape"
   ]
  },
  {
   "cell_type": "code",
   "execution_count": 451,
   "metadata": {
    "scrolled": true
   },
   "outputs": [
    {
     "data": {
      "text/plain": [
       "(1/2)*I"
      ]
     },
     "execution_count": 451,
     "metadata": {},
     "output_type": "execute_result"
    }
   ],
   "source": [
    "In/2"
   ]
  },
  {
   "cell_type": "code",
   "execution_count": 452,
   "metadata": {},
   "outputs": [
    {
     "name": "stdout",
     "output_type": "stream",
     "text": [
      "⎡         ⎛-1       1    ⎞⎤\n",
      "⎢-ẋ₁ + t⋅⎜───⋅x₁ + ──⋅x₂⎟⎥\n",
      "⎢         ⎜  2       2   ⎟⎥\n",
      "⎢         ⎝ t       t    ⎠⎥\n",
      "⎢─────────────────────────⎥\n",
      "⎢            t            ⎥\n",
      "⎢                         ⎥\n",
      "⎢         ẋ₁ + 0         ⎥\n",
      "⎢                         ⎥\n",
      "⎣           x₁            ⎦\n"
     ]
    }
   ],
   "source": [
    "# Find a,b,c for quadratic polynomial\n",
    "x_abc = Matrix([[x1,x1d,x2]]).T\n",
    "p = lambda t: Matrix([[t**2,t,1]])\n",
    "# T = BlockMatrix([[Za,Za,In],[Za,In,Za],[In*t**2,t*In,1*In]])\n",
    "T = Matrix([[0,0,1],[0,1,0],p(t)])\n",
    "abc = T.inv()*x_abc\n",
    "pprint(simplify(abc))"
   ]
  },
  {
   "cell_type": "code",
   "execution_count": 453,
   "metadata": {},
   "outputs": [
    {
     "name": "stdout",
     "output_type": "stream",
     "text": [
      "⎡     t     ⎤\n",
      "⎢3/4  ─  1/4⎥\n",
      "⎣     4     ⎦\n"
     ]
    }
   ],
   "source": [
    "# Find M matrix\n",
    "N = p(t/2)*T.inv()\n",
    "pprint(N)\n",
    "N = BlockMatrix([[In*N[0],In*N[1],In*N[2]]])"
   ]
  },
  {
   "cell_type": "code",
   "execution_count": 454,
   "metadata": {},
   "outputs": [
    {
     "name": "stdout",
     "output_type": "stream",
     "text": [
      "⎡I  0  0  0⎤\n",
      "⎢          ⎥\n",
      "⎢A  B  0  C⎥\n",
      "⎢          ⎥\n",
      "⎣0  0  I  0⎦\n",
      "⎡        t    t           t  ⎤\n",
      "⎢3/4⋅I + ─⋅A  ─⋅B  1/4⋅I  ─⋅C⎥\n",
      "⎣        4    4           4  ⎦\n"
     ]
    }
   ],
   "source": [
    "# Matrix to convert from x12 to x1d2\n",
    "x12 = Matrix([[x1,u1,x2,u2]]).T\n",
    "x1m2 = Matrix([[x1,u1,xm,um,x2,u2]]).T\n",
    "F = BlockMatrix([[I_n,Zb,Za,Zb],\n",
    "                 [A,B,Za,C],\n",
    "                 [Za,Zb,I_n,Zb]])\n",
    "pprint(F)\n",
    "M2 = block_collapse(N*F)\n",
    "pprint(M2)"
   ]
  },
  {
   "cell_type": "code",
   "execution_count": 455,
   "metadata": {},
   "outputs": [
    {
     "name": "stdout",
     "output_type": "stream",
     "text": [
      "⎡I     0      0      0  ⎤\n",
      "⎢                       ⎥\n",
      "⎢0     I      0      0  ⎥\n",
      "⎢                       ⎥\n",
      "⎢M₁   M₂    1/4⋅I   M₄  ⎥\n",
      "⎢                       ⎥\n",
      "⎢0   1/2⋅I    0    1/2⋅I⎥\n",
      "⎢                       ⎥\n",
      "⎢0     0      I      0  ⎥\n",
      "⎢                       ⎥\n",
      "⎣0     0      0      I  ⎦\n"
     ]
    },
    {
     "data": {
      "text/plain": [
       "(3*m + 3*n, 2*m + 2*n)"
      ]
     },
     "execution_count": 455,
     "metadata": {},
     "output_type": "execute_result"
    }
   ],
   "source": [
    "# Matrix to convert from x12 to x1m2\n",
    "# E = BlockMatrix([[In,Zb,Za,Zb],\n",
    "#                  [Zb.T,Im,Zb.T,Im],\n",
    "#                  M2,\n",
    "#                  [Zb.T,Im/2,Zb.T,Im/2],\n",
    "#                  [Zn,Zb,In,Zb],\n",
    "#                  [Zb.T,Zm,Zb.T,Im]])\n",
    "M1 = MatrixSymbol(\"M_1\",n,n)\n",
    "M2 = MatrixSymbol(\"M_2\",n,m)\n",
    "M3 = In/4\n",
    "M4 = MatrixSymbol(\"M_4\",n,m)\n",
    "\n",
    "E = BlockMatrix([[In,Zb,Za,Zb],\n",
    "                 [Zb.T,Im,Zb.T,Zm],\n",
    "                 [M1,M2,M3,M4],\n",
    "                 [Zb.T,Im/2,Zb.T,Im/2],\n",
    "                 [Za,Zb,In,Zb],\n",
    "                 [Zb.T,Zm,Zb.T,Im]])\n",
    "\n",
    "pprint(E)\n",
    "E.shape"
   ]
  },
  {
   "cell_type": "code",
   "execution_count": 456,
   "metadata": {},
   "outputs": [
    {
     "name": "stdout",
     "output_type": "stream",
     "text": [
      "⎡Lxx₁  Lxu₁    0       0      0     0  ⎤\n",
      "⎢                                      ⎥\n",
      "⎢Lux₁  Luu₁    0       0      0     0  ⎥\n",
      "⎢                                      ⎥\n",
      "⎢ 0     0    4⋅Lxxₘ  4⋅Lxuₘ   0     0  ⎥\n",
      "⎢                                      ⎥\n",
      "⎢ 0     0    4⋅Luxₘ  4⋅Luuₘ   0     0  ⎥\n",
      "⎢                                      ⎥\n",
      "⎢ 0     0      0       0     Lxx₂  Lxu₂⎥\n",
      "⎢                                      ⎥\n",
      "⎣ 0     0      0       0     Lux₂  Luu₂⎦\n"
     ]
    },
    {
     "data": {
      "text/plain": [
       "(3*m + 3*n, 3*m + 3*n)"
      ]
     },
     "execution_count": 456,
     "metadata": {},
     "output_type": "execute_result"
    }
   ],
   "source": [
    "# Stage Cost\n",
    "L_Hessian = BlockMatrix([\n",
    "    [L[\"xx1\"],L[\"xu1\"],Za,Zb,Za,Zb],\n",
    "    [L[\"ux1\"],L[\"uu1\"],Zb.T,Zm,Zb.T,Zm],\n",
    "    [Za,Zb,4*L[\"xxm\"],4*L[\"xum\"],Za,Zb],\n",
    "    [Zb.T,Zm,4*L[\"uxm\"],4*L[\"uum\"],Zb.T,Zm],\n",
    "    [Za,Zb,Za,Zb,L[\"xx2\"],L[\"xu2\"]],\n",
    "    [Zb.T,Zm,Zb.T,Zm,L[\"ux2\"],L[\"uu2\"]]])\n",
    "\n",
    "pprint(L_Hessian)\n",
    "L_Hessian.shape"
   ]
  },
  {
   "cell_type": "code",
   "execution_count": 457,
   "metadata": {},
   "outputs": [
    {
     "name": "stdout",
     "output_type": "stream",
     "text": [
      "[Lx₁  Lu₁  Lxₘ  Luₘ  Lx₂  Lu₂]\n"
     ]
    },
    {
     "data": {
      "text/plain": [
       "(1, 3*m + 3*n)"
      ]
     },
     "execution_count": 457,
     "metadata": {},
     "output_type": "execute_result"
    }
   ],
   "source": [
    "L_Grad = BlockMatrix([[L[\"x1\"],L[\"u1\"],L[\"xm\"],L[\"um\"],L[\"x2\"],L[\"u2\"]]])\n",
    "pprint(L_Grad)\n",
    "L_Grad.shape"
   ]
  },
  {
   "cell_type": "code",
   "execution_count": 458,
   "metadata": {},
   "outputs": [
    {
     "name": "stdout",
     "output_type": "stream",
     "text": [
      "⎡                    T            T                         ⎤\n",
      "⎢                2⋅M₁ ⋅Lxuₘ + 4⋅M₁ ⋅Lxxₘ⋅M₄                 ⎥\n",
      "⎢                                                           ⎥\n",
      "⎢       ⎛             T     ⎞   ⎛             T     ⎞       ⎥\n",
      "⎢   1/2⋅⎝2⋅Luuₘ + 4⋅M₂ ⋅Lxuₘ⎠ + ⎝2⋅Luxₘ + 4⋅M₂ ⋅Lxxₘ⎠⋅M₄    ⎥\n",
      "⎢                                                           ⎥\n",
      "⎢                 1/2⋅Lxuₘ + Lxxₘ⋅M₄ + Lxu₂                 ⎥\n",
      "⎢                                                           ⎥\n",
      "⎢    ⎛             T     ⎞   ⎛             T     ⎞          ⎥\n",
      "⎣1/2⋅⎝2⋅Luuₘ + 4⋅M₄ ⋅Lxuₘ⎠ + ⎝2⋅Luxₘ + 4⋅M₄ ⋅Lxxₘ⎠⋅M₄ + Luu₂⎦\n"
     ]
    }
   ],
   "source": [
    "# Find Stage cost in terms of x12\n",
    "L_H = block_collapse(E.T*L_Hessian*E)\n",
    "pprint(L_H.blocks[:,3])"
   ]
  },
  {
   "cell_type": "code",
   "execution_count": 459,
   "metadata": {},
   "outputs": [
    {
     "name": "stdout",
     "output_type": "stream",
     "text": [
      "[Lxₘ⋅M₁ + Lx₁  1/2⋅Luₘ + Lxₘ⋅M₂ + Lu₁  1/4⋅Lxₘ + Lx₂  1/2⋅Luₘ + Lxₘ⋅M₄ + Lu₂]\n"
     ]
    }
   ],
   "source": [
    "L_G = block_collapse(L_Grad*E)\n",
    "pprint(L_G)"
   ]
  },
  {
   "cell_type": "code",
   "execution_count": 460,
   "metadata": {
    "collapsed": true
   },
   "outputs": [],
   "source": [
    "Syy = MatrixSymbol(\"Syy\",n,n)\n",
    "Syv = MatrixSymbol(\"Syy\",n,m)\n",
    "Svy = MatrixSymbol(\"Syy\",m,n)\n",
    "Svv = MatrixSymbol(\"Syy\",m,m)\n",
    "Sy = MatrixSymbol(\"Sy\",1,n)\n",
    "Sv = MatrixSymbol(\"Sv\",1,m)\n",
    "x = MatrixSymbol(\"x\",n,1)\n",
    "u = MatrixSymbol(\"u\",m,1)\n",
    "v = MatrixSymbol(\"v\",m,1)"
   ]
  },
  {
   "cell_type": "code",
   "execution_count": 470,
   "metadata": {},
   "outputs": [
    {
     "name": "stdout",
     "output_type": "stream",
     "text": [
      "⎛⎛ T  T    T  T    T  T⎞        T    ⎞     ⎛⎛ T  T    T  T    T  T⎞        T  \n",
      "⎝⎝u ⋅B  + v ⋅C  + x ⋅A ⎠⋅Syy + v ⋅Syy⎠⋅v + ⎝⎝u ⋅B  + v ⋅C  + x ⋅A ⎠⋅Syy + v ⋅S\n",
      "\n",
      "  ⎞                                                \n",
      "yy⎠⋅(A⋅x + B⋅u + C⋅v) + Sv⋅v + Sy⋅(A⋅x + B⋅u + C⋅v)\n"
     ]
    }
   ],
   "source": [
    "y = A*x+B*u+C*v\n",
    "UV = BlockMatrix([[y.T,v.T]]).T\n",
    "S = BlockMatrix([[Syy,Syv],[Svy,Svv]])\n",
    "s = BlockMatrix([[Sy,Sv]])\n",
    "\n",
    "P = block_collapse(UV.T*S*UV + s*UV)\n",
    "pprint(P)"
   ]
  },
  {
   "cell_type": "code",
   "execution_count": 423,
   "metadata": {},
   "outputs": [
    {
     "name": "stdout",
     "output_type": "stream",
     "text": [
      " 2  ⎛ 2    ⎞                                                       ⎛ 2      2 \n",
      "x ⋅u⎝A ⋅Syy⎠ + x⋅u(2⋅A⋅B⋅Syy⋅u + v⋅(2⋅A⋅C⋅Syy + A⋅Svy + A⋅Syv)) + u⎝B ⋅Syy⋅u  \n",
      "\n",
      "                                     2 ⎛ 2                          ⎞⎞\n",
      "+ u⋅v⋅(2⋅B⋅C⋅Syy + B⋅Svy + B⋅Syv) + v ⋅⎝C ⋅Syy + C⋅Svy + C⋅Syv + Svv⎠⎠\n"
     ]
    }
   ],
   "source": [
    "Syy,Syv,Svy,Svv,Sy,Sv = symbols(\"Syy Syv Svy Svv Sy Sv\")\n",
    "x,u,v = symbols(\"x u v\")\n",
    "A,B,C = symbols(\"A B C\")\n",
    "\n",
    "y = A*x + B*u + C*v\n",
    "UV = Matrix([[y,v]]).T\n",
    "S = Matrix([[Syy,Syv],[Svy,Svv]])\n",
    "s = Matrix([[Sy,Sv]])\n",
    "P = UV.T*S*UV #+ s*UV\n",
    "P = P[0]\n",
    "\n",
    "pprint(P.expand().factor(x,u,v))"
   ]
  },
  {
   "cell_type": "code",
   "execution_count": 437,
   "metadata": {},
   "outputs": [
    {
     "name": "stdout",
     "output_type": "stream",
     "text": [
      "⎡A⋅Syy⋅x + B⋅Syy⋅u + C⋅Syy⋅v + Syv⋅v⎤\n",
      "⎢                                   ⎥\n",
      "⎣A⋅Svy⋅x + B⋅Svy⋅u + C⋅Svy⋅v + Svv⋅v⎦\n"
     ]
    }
   ],
   "source": [
    "P1 = S*UV\n",
    "pprint(P1.expand())"
   ]
  },
  {
   "cell_type": "code",
   "execution_count": 446,
   "metadata": {},
   "outputs": [
    {
     "name": "stdout",
     "output_type": "stream",
     "text": [
      " 2      2                    2      2                                      2 ⎛\n",
      "A ⋅Syy⋅x  + 2⋅A⋅B⋅Syy⋅u⋅x + B ⋅Syy⋅u  + u⋅v⋅(2⋅B⋅C⋅Syy + B⋅Svy + B⋅Syv) + v ⋅⎝\n",
      "\n",
      " 2                          ⎞                                  \n",
      "C ⋅Syy + C⋅Svy + C⋅Syv + Svv⎠ + v⋅x⋅(2⋅A⋅C⋅Syy + A⋅Svy + A⋅Syv)\n"
     ]
    }
   ],
   "source": [
    "P2 = UV.T*P1\n",
    "pprint(P2[0].expand().factor(x,u,v))"
   ]
  },
  {
   "cell_type": "code",
   "execution_count": null,
   "metadata": {
    "collapsed": true
   },
   "outputs": [],
   "source": []
  }
 ],
 "metadata": {
  "kernelspec": {
   "display_name": "Python 3",
   "language": "python",
   "name": "python3"
  },
  "language_info": {
   "codemirror_mode": {
    "name": "ipython",
    "version": 3
   },
   "file_extension": ".py",
   "mimetype": "text/x-python",
   "name": "python",
   "nbconvert_exporter": "python",
   "pygments_lexer": "ipython3",
   "version": "3.6.1"
  }
 },
 "nbformat": 4,
 "nbformat_minor": 2
}
