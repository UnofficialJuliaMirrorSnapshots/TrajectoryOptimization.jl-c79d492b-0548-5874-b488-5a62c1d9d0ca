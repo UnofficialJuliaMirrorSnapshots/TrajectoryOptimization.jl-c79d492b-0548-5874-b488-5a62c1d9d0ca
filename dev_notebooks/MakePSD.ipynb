{
 "cells": [
  {
   "cell_type": "markdown",
   "metadata": {},
   "source": [
    "# Make PSD"
   ]
  },
  {
   "cell_type": "code",
   "execution_count": 1,
   "metadata": {},
   "outputs": [
    {
     "data": {
      "text/plain": [
       "iLQR"
      ]
     },
     "execution_count": 1,
     "metadata": {},
     "output_type": "execute_result"
    }
   ],
   "source": [
    "include(\"../iLQR.jl\")"
   ]
  },
  {
   "cell_type": "code",
   "execution_count": 31,
   "metadata": {},
   "outputs": [],
   "source": [
    "using iLQR\n",
    "using Base.Test\n",
    "using BenchmarkTools\n",
    "using Plots"
   ]
  },
  {
   "cell_type": "markdown",
   "metadata": {},
   "source": [
    "## Test Dynamics"
   ]
  },
  {
   "cell_type": "code",
   "execution_count": null,
   "metadata": {},
   "outputs": [],
   "source": [
    "n,m = 3,2\n",
    "A = [0 1 0; 0 0 1; 0 0 0]\n",
    "B = [0 0; 0 1; 1 1]\n",
    "x = [1;2;3]\n",
    "u = [4;5]\n",
    "\n",
    "Qf = diagm([10, 20, 30])\n",
    "R = eye(m)*2\n",
    "Q = diagm([3, 2, 1])"
   ]
  },
  {
   "cell_type": "markdown",
   "metadata": {},
   "source": [
    "## Functions"
   ]
  },
  {
   "cell_type": "code",
   "execution_count": 4,
   "metadata": {},
   "outputs": [
    {
     "data": {
      "text/plain": [
       "makePSD_chol (generic function with 1 method)"
      ]
     },
     "execution_count": 4,
     "metadata": {},
     "output_type": "execute_result"
    }
   ],
   "source": [
    "function makePSD_current(A)\n",
    "    n = size(A,1)\n",
    "    mu = 0\n",
    "    for i = 1:100\n",
    "        if any(eigvals(A).<0.)\n",
    "            mu += 1\n",
    "            A += mu*eye(n)\n",
    "        else\n",
    "            break;\n",
    "        end\n",
    "    end\n",
    "    return A\n",
    "end\n",
    "\n",
    "function makePSD_eig(A)\n",
    "    δ = 1e-3\n",
    "    λ,Q = eig(A)\n",
    "    λ[λ .< δ] = δ\n",
    "    Q*diagm(λ)Q'\n",
    "end\n",
    "\n",
    "function makePSD_cur_mod(A,δ=1.)\n",
    "    n = size(A,1)\n",
    "    mu = 0\n",
    "    for i = 1:100\n",
    "        if ~isposdef(A)\n",
    "            mu += δ\n",
    "            A += mu*eye(n)\n",
    "        else\n",
    "            break;\n",
    "        end\n",
    "    end\n",
    "    return A\n",
    "end\n",
    "\n",
    "function makePSD_33(A)\n",
    "    n = size(A,1)\n",
    "    I = eye(n)\n",
    "\n",
    "    β = 1e-3\n",
    "    min_diag = minimum(diag(A))\n",
    "    if min_diag > 0\n",
    "        constraint_decrease_ratio = 0\n",
    "    else\n",
    "        constraint_decrease_ratio = -min_diag + β\n",
    "    end\n",
    "    \n",
    "    for k = 1:100\n",
    "        v = eigvals(A)\n",
    "        if isposdef(A+constraint_decrease_ratio*I)\n",
    "#             println(\"iter: $k\")\n",
    "            return A+constraint_decrease_ratio*I\n",
    "        else\n",
    "            constraint_decrease_ratio = max(2*constraint_decrease_ratio,β)\n",
    "        end\n",
    "    end\n",
    "    return A\n",
    "end\n",
    "\n",
    "function makePSD_33_mod(A)\n",
    "    n = size(A,1)\n",
    "    I = eye(n)\n",
    "    mu = 0\n",
    "    \n",
    "    β = 1e-2\n",
    "    min_diag = minimum(diag(A))\n",
    "    if min_diag > 0\n",
    "        mu = 0\n",
    "        δ = 1\n",
    "    else\n",
    "        mu = -min_diag + β\n",
    "        δ = -min_diag\n",
    "    end\n",
    "    A += mu*I\n",
    "    min_diag = abs(min_diag)\n",
    "    \n",
    "    for k = 1:100\n",
    "        if ~isposdef(A)\n",
    "            mu += δ\n",
    "            A += mu*I\n",
    "        else\n",
    "#             println(\"iter: $k\")\n",
    "            break;\n",
    "        end\n",
    "    end\n",
    "    return A\n",
    "end\n",
    "\n",
    "function makePSD_chol(A::Array)\n",
    "    n = size(A,1)\n",
    "    d = zeros(n)\n",
    "    C = zeros(A)\n",
    "    L = eye(A)\n",
    "    β = 1e-3\n",
    "    δ = 1e-3\n",
    "    for j = 1:n\n",
    "        t = 0\n",
    "        for s = 1:j-1\n",
    "            t += d[s]*L[j,s]^2\n",
    "        end\n",
    "        C[j,j] = A[j,j] - t\n",
    "#         d[j] = cjj\n",
    "        θ = maximum(C[j:n,j])\n",
    "        d[j] = max(abs(C[j,j]),(θ\\β)^2,δ)\n",
    "        \n",
    "        for i = j+1:n\n",
    "            t = 0\n",
    "            for s = 1:j-1\n",
    "                t += d[s]*L[i,s]*L[j,s]\n",
    "            end\n",
    "            C[i,j] = A[i,j] - t\n",
    "            L[i,j] = C[i,j] / d[j]\n",
    "        end\n",
    "    end\n",
    "    D = diagm(d)\n",
    "    return L,D\n",
    "end"
   ]
  },
  {
   "cell_type": "markdown",
   "metadata": {},
   "source": [
    "## Create Symmetric (non PSD) Matrix"
   ]
  },
  {
   "cell_type": "code",
   "execution_count": 5,
   "metadata": {},
   "outputs": [
    {
     "data": {
      "text/plain": [
       "false"
      ]
     },
     "execution_count": 5,
     "metadata": {},
     "output_type": "execute_result"
    }
   ],
   "source": [
    "n = 10\n",
    "A = randn(n,n)\n",
    "A = A'A-1\n",
    "isposdef(A)"
   ]
  },
  {
   "cell_type": "code",
   "execution_count": 8,
   "metadata": {},
   "outputs": [
    {
     "name": "stdout",
     "output_type": "stream",
     "text": [
      "6.000000000000002\n",
      "6.000000000000002\n",
      "8.192000000000002\n",
      "6.000000000000002\n"
     ]
    },
    {
     "data": {
      "text/plain": [
       "\u001b[1m\u001b[32mTest Passed\u001b[39m\u001b[22m"
      ]
     },
     "execution_count": 8,
     "metadata": {},
     "output_type": "execute_result"
    }
   ],
   "source": [
    "A1 = makePSD_current(A); println(norm(A1-A))\n",
    "A2 = makePSD_cur_mod(A); println(norm(A2-A))\n",
    "A3 = makePSD_33(A); println(norm(A3-A))\n",
    "A4 = makePSD_33_mod(A); println(norm(A4-A))\n",
    "@test isposdef(A1)\n",
    "@test isposdef(A2)\n",
    "@test isposdef(A3)\n",
    "@test isposdef(A4)"
   ]
  },
  {
   "cell_type": "code",
   "execution_count": 9,
   "metadata": {},
   "outputs": [
    {
     "ename": "LoadError",
     "evalue": "\u001b[91mUndefVarError: @btime not defined\u001b[39m",
     "output_type": "error",
     "traceback": [
      "\u001b[91mUndefVarError: @btime not defined\u001b[39m",
      ""
     ]
    }
   ],
   "source": []
  },
  {
   "cell_type": "markdown",
   "metadata": {},
   "source": [
    "## Timing Tests"
   ]
  },
  {
   "cell_type": "code",
   "execution_count": 11,
   "metadata": {},
   "outputs": [
    {
     "name": "stdout",
     "output_type": "stream",
     "text": [
      "  3.745 μs (29 allocations: 11.69 KiB)\n",
      "  4.026 μs (24 allocations: 11.78 KiB)\n"
     ]
    },
    {
     "data": {
      "text/plain": [
       "10×10 Array{Float64,2}:\n",
       " 17.3037     0.187935   -0.930121   …   1.28372  -1.91581    -4.60172 \n",
       "  0.187935  19.3448      1.40536       -3.08864  -3.2367     -1.7733  \n",
       " -0.930121   1.40536    17.6842        -8.05624  -0.0587832  -0.373924\n",
       "  0.735326  -5.38276    -0.643955      -2.54875   0.671312   -3.38484 \n",
       " -7.22286   -1.69571    -5.34609        3.95583  -0.96827    -1.32153 \n",
       " -3.97363   -2.70317    -4.53474    …   2.62932   0.555115   -1.54464 \n",
       " -3.24262    0.0521949   0.699046       2.09351   1.38237    -1.95622 \n",
       "  1.28372   -3.08864    -8.05624       15.413    -4.69973    -3.73858 \n",
       " -1.91581   -3.2367     -0.0587832     -4.69973  11.1123      1.70968 \n",
       " -4.60172   -1.7733     -0.373924      -3.73858   1.70968     8.46663 "
      ]
     },
     "execution_count": 11,
     "metadata": {},
     "output_type": "execute_result"
    }
   ],
   "source": [
    "@btime makePSD_cur_mod(A)\n",
    "@btime makePSD_33_mod(A)"
   ]
  },
  {
   "cell_type": "markdown",
   "metadata": {},
   "source": [
    "### Test PSD Matrix"
   ]
  },
  {
   "cell_type": "code",
   "execution_count": 12,
   "metadata": {},
   "outputs": [
    {
     "data": {
      "text/plain": [
       "true"
      ]
     },
     "execution_count": 12,
     "metadata": {},
     "output_type": "execute_result"
    }
   ],
   "source": [
    "n = 10\n",
    "A = randn(n,n)\n",
    "A = A'A\n",
    "isposdef(A)"
   ]
  },
  {
   "cell_type": "code",
   "execution_count": 13,
   "metadata": {},
   "outputs": [
    {
     "name": "stdout",
     "output_type": "stream",
     "text": [
      "  707.199 ns (3 allocations: 944 bytes)\n",
      "  1.254 μs (9 allocations: 3.77 KiB)\n"
     ]
    },
    {
     "data": {
      "text/plain": [
       "10×10 Array{Float64,2}:\n",
       "  9.58178    -4.10342   -1.56798   …   4.4951    11.0001    -0.885739\n",
       " -4.10342    18.476     -2.77111       1.36717    0.591129   6.12655 \n",
       " -1.56798    -2.77111    9.15291       1.10503    2.49907   -3.40365 \n",
       " -2.6129      5.03195   -0.170133      4.73274   -2.42702   -0.124012\n",
       "  0.0528265  -0.229719  -3.70785       0.667241  -0.117513   0.540832\n",
       " -1.55059    -1.13266   -1.74145   …  -6.39981   -9.10601    1.30898 \n",
       "  0.137167    2.74969   -2.83629      -0.988845  -6.81938    2.78984 \n",
       "  4.4951      1.36717    1.10503      10.4121    11.6939    -0.599723\n",
       " 11.0001      0.591129   2.49907      11.6939    24.0052    -1.25792 \n",
       " -0.885739    6.12655   -3.40365      -0.599723  -1.25792    5.1453  "
      ]
     },
     "execution_count": 13,
     "metadata": {},
     "output_type": "execute_result"
    }
   ],
   "source": [
    "@btime makePSD_cur_mod(A)\n",
    "@btime makePSD_33_mod(A)"
   ]
  },
  {
   "cell_type": "code",
   "execution_count": 34,
   "metadata": {},
   "outputs": [
    {
     "name": "stdout",
     "output_type": "stream",
     "text": [
      "n: 1, time=3.984e-6\n",
      "n: 2, time=2.4903e-5\n",
      "n: 4, time=5.761e-6\n",
      "n: 8, time=1.4838e-5\n",
      "n: 16, time=5.2798e-5\n",
      "n: 32, time=0.000214132\n",
      "n: 64, time=0.006982906\n",
      "n: 128, time=0.01341747\n",
      "n: 256, time=0.018245619\n",
      "n: 512, time=0.113145209\n",
      "n: 1024, time=1.151988449\n"
     ]
    }
   ],
   "source": [
    "N = 2.^(0:10)\n",
    "T = zeros(length(N))\n",
    "for (i,n) in enumerate(N)\n",
    "    A = randn(n,n)\n",
    "    A = A'A - 1\n",
    "    t = @elapsed makePSD_cur_mod(A)\n",
    "    T[i] = t\n",
    "    println(\"n: $n, time=$t\")\n",
    "end"
   ]
  },
  {
   "cell_type": "code",
   "execution_count": 37,
   "metadata": {},
   "outputs": [
    {
     "data": {
      "image/svg+xml": [
       "<?xml version=\"1.0\" encoding=\"utf-8\"?>\n",
       "<svg xmlns=\"http://www.w3.org/2000/svg\" xmlns:xlink=\"http://www.w3.org/1999/xlink\" width=\"600\" height=\"400\" viewBox=\"0 0 600 400\">\n",
       "<defs>\n",
       "  <clipPath id=\"clip8200\">\n",
       "    <rect x=\"0\" y=\"0\" width=\"600\" height=\"400\"/>\n",
       "  </clipPath>\n",
       "</defs>\n",
       "<polygon clip-path=\"url(#clip8200)\" points=\"\n",
       "0,400 600,400 600,0 0,0 \n",
       "  \" fill=\"#ffffff\" fill-opacity=\"1\"/>\n",
       "<defs>\n",
       "  <clipPath id=\"clip8201\">\n",
       "    <rect x=\"120\" y=\"0\" width=\"421\" height=\"400\"/>\n",
       "  </clipPath>\n",
       "</defs>\n",
       "<polygon clip-path=\"url(#clip8200)\" points=\"\n",
       "47.0391,375.869 580.315,375.869 580.315,11.811 47.0391,11.811 \n",
       "  \" fill=\"#ffffff\" fill-opacity=\"1\"/>\n",
       "<defs>\n",
       "  <clipPath id=\"clip8202\">\n",
       "    <rect x=\"47\" y=\"11\" width=\"534\" height=\"365\"/>\n",
       "  </clipPath>\n",
       "</defs>\n",
       "<polyline clip-path=\"url(#clip8202)\" style=\"stroke:#000000; stroke-width:0.5; stroke-opacity:0.1; fill:none\" points=\"\n",
       "  62.1318,375.869 62.1318,11.811 \n",
       "  \"/>\n",
       "<polyline clip-path=\"url(#clip8202)\" style=\"stroke:#000000; stroke-width:0.5; stroke-opacity:0.1; fill:none\" points=\"\n",
       "  229.255,375.869 229.255,11.811 \n",
       "  \"/>\n",
       "<polyline clip-path=\"url(#clip8202)\" style=\"stroke:#000000; stroke-width:0.5; stroke-opacity:0.1; fill:none\" points=\"\n",
       "  396.378,375.869 396.378,11.811 \n",
       "  \"/>\n",
       "<polyline clip-path=\"url(#clip8202)\" style=\"stroke:#000000; stroke-width:0.5; stroke-opacity:0.1; fill:none\" points=\"\n",
       "  563.501,375.869 563.501,11.811 \n",
       "  \"/>\n",
       "<polyline clip-path=\"url(#clip8202)\" style=\"stroke:#000000; stroke-width:0.5; stroke-opacity:0.1; fill:none\" points=\"\n",
       "  47.0391,365.566 580.315,365.566 \n",
       "  \"/>\n",
       "<polyline clip-path=\"url(#clip8202)\" style=\"stroke:#000000; stroke-width:0.5; stroke-opacity:0.1; fill:none\" points=\"\n",
       "  47.0391,291.032 580.315,291.032 \n",
       "  \"/>\n",
       "<polyline clip-path=\"url(#clip8202)\" style=\"stroke:#000000; stroke-width:0.5; stroke-opacity:0.1; fill:none\" points=\"\n",
       "  47.0391,216.497 580.315,216.497 \n",
       "  \"/>\n",
       "<polyline clip-path=\"url(#clip8202)\" style=\"stroke:#000000; stroke-width:0.5; stroke-opacity:0.1; fill:none\" points=\"\n",
       "  47.0391,141.963 580.315,141.963 \n",
       "  \"/>\n",
       "<polyline clip-path=\"url(#clip8202)\" style=\"stroke:#000000; stroke-width:0.5; stroke-opacity:0.1; fill:none\" points=\"\n",
       "  47.0391,67.4281 580.315,67.4281 \n",
       "  \"/>\n",
       "<polyline clip-path=\"url(#clip8200)\" style=\"stroke:#000000; stroke-width:1; stroke-opacity:1; fill:none\" points=\"\n",
       "  47.0391,375.869 580.315,375.869 \n",
       "  \"/>\n",
       "<polyline clip-path=\"url(#clip8200)\" style=\"stroke:#000000; stroke-width:1; stroke-opacity:1; fill:none\" points=\"\n",
       "  47.0391,375.869 47.0391,11.811 \n",
       "  \"/>\n",
       "<polyline clip-path=\"url(#clip8200)\" style=\"stroke:#000000; stroke-width:1; stroke-opacity:1; fill:none\" points=\"\n",
       "  62.1318,375.869 62.1318,370.408 \n",
       "  \"/>\n",
       "<polyline clip-path=\"url(#clip8200)\" style=\"stroke:#000000; stroke-width:1; stroke-opacity:1; fill:none\" points=\"\n",
       "  229.255,375.869 229.255,370.408 \n",
       "  \"/>\n",
       "<polyline clip-path=\"url(#clip8200)\" style=\"stroke:#000000; stroke-width:1; stroke-opacity:1; fill:none\" points=\"\n",
       "  396.378,375.869 396.378,370.408 \n",
       "  \"/>\n",
       "<polyline clip-path=\"url(#clip8200)\" style=\"stroke:#000000; stroke-width:1; stroke-opacity:1; fill:none\" points=\"\n",
       "  563.501,375.869 563.501,370.408 \n",
       "  \"/>\n",
       "<polyline clip-path=\"url(#clip8200)\" style=\"stroke:#000000; stroke-width:1; stroke-opacity:1; fill:none\" points=\"\n",
       "  47.0391,365.566 55.0382,365.566 \n",
       "  \"/>\n",
       "<polyline clip-path=\"url(#clip8200)\" style=\"stroke:#000000; stroke-width:1; stroke-opacity:1; fill:none\" points=\"\n",
       "  47.0391,291.032 55.0382,291.032 \n",
       "  \"/>\n",
       "<polyline clip-path=\"url(#clip8200)\" style=\"stroke:#000000; stroke-width:1; stroke-opacity:1; fill:none\" points=\"\n",
       "  47.0391,216.497 55.0382,216.497 \n",
       "  \"/>\n",
       "<polyline clip-path=\"url(#clip8200)\" style=\"stroke:#000000; stroke-width:1; stroke-opacity:1; fill:none\" points=\"\n",
       "  47.0391,141.963 55.0382,141.963 \n",
       "  \"/>\n",
       "<polyline clip-path=\"url(#clip8200)\" style=\"stroke:#000000; stroke-width:1; stroke-opacity:1; fill:none\" points=\"\n",
       "  47.0391,67.4281 55.0382,67.4281 \n",
       "  \"/>\n",
       "<g clip-path=\"url(#clip8200)\">\n",
       "<text style=\"fill:#000000; fill-opacity:1; font-family:Arial,Helvetica Neue,Helvetica,sans-serif; font-size:12; text-anchor:start;\" transform=\"rotate(0, 51.3641, 394.62)\" x=\"51.3641\" y=\"394.62\">10</text>\n",
       "</g>\n",
       "<g clip-path=\"url(#clip8200)\">\n",
       "<text style=\"fill:#000000; fill-opacity:1; font-family:Arial,Helvetica Neue,Helvetica,sans-serif; font-size:10; text-anchor:start;\" transform=\"rotate(0, 64.7453, 387.768)\" x=\"64.7453\" y=\"387.768\">0 </text>\n",
       "</g>\n",
       "<g clip-path=\"url(#clip8200)\">\n",
       "<text style=\"fill:#000000; fill-opacity:1; font-family:Arial,Helvetica Neue,Helvetica,sans-serif; font-size:12; text-anchor:start;\" transform=\"rotate(0, 218.487, 394.62)\" x=\"218.487\" y=\"394.62\">10</text>\n",
       "</g>\n",
       "<g clip-path=\"url(#clip8200)\">\n",
       "<text style=\"fill:#000000; fill-opacity:1; font-family:Arial,Helvetica Neue,Helvetica,sans-serif; font-size:10; text-anchor:start;\" transform=\"rotate(0, 231.868, 387.768)\" x=\"231.868\" y=\"387.768\">1 </text>\n",
       "</g>\n",
       "<g clip-path=\"url(#clip8200)\">\n",
       "<text style=\"fill:#000000; fill-opacity:1; font-family:Arial,Helvetica Neue,Helvetica,sans-serif; font-size:12; text-anchor:start;\" transform=\"rotate(0, 385.61, 394.62)\" x=\"385.61\" y=\"394.62\">10</text>\n",
       "</g>\n",
       "<g clip-path=\"url(#clip8200)\">\n",
       "<text style=\"fill:#000000; fill-opacity:1; font-family:Arial,Helvetica Neue,Helvetica,sans-serif; font-size:10; text-anchor:start;\" transform=\"rotate(0, 398.991, 387.768)\" x=\"398.991\" y=\"387.768\">2 </text>\n",
       "</g>\n",
       "<g clip-path=\"url(#clip8200)\">\n",
       "<text style=\"fill:#000000; fill-opacity:1; font-family:Arial,Helvetica Neue,Helvetica,sans-serif; font-size:12; text-anchor:start;\" transform=\"rotate(0, 552.733, 394.62)\" x=\"552.733\" y=\"394.62\">10</text>\n",
       "</g>\n",
       "<g clip-path=\"url(#clip8200)\">\n",
       "<text style=\"fill:#000000; fill-opacity:1; font-family:Arial,Helvetica Neue,Helvetica,sans-serif; font-size:10; text-anchor:start;\" transform=\"rotate(0, 566.114, 387.768)\" x=\"566.114\" y=\"387.768\">3 </text>\n",
       "</g>\n",
       "<g clip-path=\"url(#clip8200)\">\n",
       "<text style=\"fill:#000000; fill-opacity:1; font-family:Arial,Helvetica Neue,Helvetica,sans-serif; font-size:12; text-anchor:end;\" transform=\"rotate(0, 41.0391, 370.066)\" x=\"41.0391\" y=\"370.066\">0.00</text>\n",
       "</g>\n",
       "<g clip-path=\"url(#clip8200)\">\n",
       "<text style=\"fill:#000000; fill-opacity:1; font-family:Arial,Helvetica Neue,Helvetica,sans-serif; font-size:12; text-anchor:end;\" transform=\"rotate(0, 41.0391, 295.532)\" x=\"41.0391\" y=\"295.532\">0.25</text>\n",
       "</g>\n",
       "<g clip-path=\"url(#clip8200)\">\n",
       "<text style=\"fill:#000000; fill-opacity:1; font-family:Arial,Helvetica Neue,Helvetica,sans-serif; font-size:12; text-anchor:end;\" transform=\"rotate(0, 41.0391, 220.997)\" x=\"41.0391\" y=\"220.997\">0.50</text>\n",
       "</g>\n",
       "<g clip-path=\"url(#clip8200)\">\n",
       "<text style=\"fill:#000000; fill-opacity:1; font-family:Arial,Helvetica Neue,Helvetica,sans-serif; font-size:12; text-anchor:end;\" transform=\"rotate(0, 41.0391, 146.463)\" x=\"41.0391\" y=\"146.463\">0.75</text>\n",
       "</g>\n",
       "<g clip-path=\"url(#clip8200)\">\n",
       "<text style=\"fill:#000000; fill-opacity:1; font-family:Arial,Helvetica Neue,Helvetica,sans-serif; font-size:12; text-anchor:end;\" transform=\"rotate(0, 41.0391, 71.9281)\" x=\"41.0391\" y=\"71.9281\">1.00</text>\n",
       "</g>\n",
       "<polyline clip-path=\"url(#clip8202)\" style=\"stroke:#009af9; stroke-width:1; stroke-opacity:1; fill:none\" points=\"\n",
       "  62.1318,365.565 112.441,365.559 162.75,365.565 213.059,365.562 263.368,365.551 313.677,365.503 363.986,363.484 414.295,361.566 464.604,360.127 514.913,331.833 \n",
       "  565.222,22.1145 \n",
       "  \"/>\n",
       "<polygon clip-path=\"url(#clip8200)\" points=\"\n",
       "489.608,62.931 562.315,62.931 562.315,32.691 489.608,32.691 \n",
       "  \" fill=\"#ffffff\" fill-opacity=\"1\"/>\n",
       "<polyline clip-path=\"url(#clip8200)\" style=\"stroke:#000000; stroke-width:1; stroke-opacity:1; fill:none\" points=\"\n",
       "  489.608,62.931 562.315,62.931 562.315,32.691 489.608,32.691 489.608,62.931 \n",
       "  \"/>\n",
       "<polyline clip-path=\"url(#clip8200)\" style=\"stroke:#009af9; stroke-width:1; stroke-opacity:1; fill:none\" points=\"\n",
       "  495.608,47.811 531.608,47.811 \n",
       "  \"/>\n",
       "<g clip-path=\"url(#clip8200)\">\n",
       "<text style=\"fill:#000000; fill-opacity:1; font-family:Arial,Helvetica Neue,Helvetica,sans-serif; font-size:12; text-anchor:start;\" transform=\"rotate(0, 537.608, 52.311)\" x=\"537.608\" y=\"52.311\">y1</text>\n",
       "</g>\n",
       "</svg>\n"
      ]
     },
     "execution_count": 37,
     "metadata": {},
     "output_type": "execute_result"
    }
   ],
   "source": [
    "plot(N,T,xscale=:log10)"
   ]
  },
  {
   "cell_type": "code",
   "execution_count": null,
   "metadata": {},
   "outputs": [],
   "source": []
  }
 ],
 "metadata": {
  "kernelspec": {
   "display_name": "Julia 0.6.4",
   "language": "julia",
   "name": "julia-0.6"
  },
  "language_info": {
   "file_extension": ".jl",
   "mimetype": "application/julia",
   "name": "julia",
   "version": "0.6.4"
  }
 },
 "nbformat": 4,
 "nbformat_minor": 2
}
