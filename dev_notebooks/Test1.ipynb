{
 "cells": [
  {
   "cell_type": "code",
   "execution_count": 1,
   "metadata": {},
   "outputs": [
    {
     "data": {
      "text/plain": [
       "iLQR.Model(iLQR.fc, 4, 1)"
      ]
     },
     "execution_count": 1,
     "metadata": {},
     "output_type": "execute_result"
    }
   ],
   "source": [
    "include(\"iLQR.jl\")\n",
    "include(\"dynamics.jl\")"
   ]
  },
  {
   "cell_type": "code",
   "execution_count": 2,
   "metadata": {},
   "outputs": [],
   "source": [
    "using iLQR"
   ]
  },
  {
   "cell_type": "code",
   "execution_count": 5,
   "metadata": {},
   "outputs": [],
   "source": [
    "## Double pendulum\n",
    "urdf_dp = \"urdf/doublependulum.urdf\"\n",
    "dp = iLQR.Model(urdf_dp)\n",
    "\n",
    "# initial and goal states\n",
    "x0 = [0.;0.;0.;0.]\n",
    "xf = [pi;0.;0.;0.]\n",
    "\n",
    "# costs\n",
    "Q = 0.0001*eye(4)\n",
    "Qf = 250.0*eye(4)\n",
    "R = 0.0001*eye(2)\n",
    "\n",
    "# simulation\n",
    "tf = 5.0\n",
    "dt = 0.1\n",
    "\n",
    "obj = iLQR.Objective(Q,R,Qf,tf,x0,xf)\n",
    "solver = iLQR.Solver(dp,obj,dt=dt);"
   ]
  },
  {
   "cell_type": "code",
   "execution_count": 7,
   "metadata": {},
   "outputs": [
    {
     "ename": "LoadError",
     "evalue": "\u001b[91mUndefVarError: solve_sqrt not defined\u001b[39m",
     "output_type": "error",
     "traceback": [
      "\u001b[91mUndefVarError: solve_sqrt not defined\u001b[39m",
      ""
     ]
    }
   ],
   "source": [
    "U = 10.0*rand(solver.model.m,solver.N)\n",
    "X_dp, U_dp = @time iLQR.solve(solver,U);"
   ]
  },
  {
   "cell_type": "code",
   "execution_count": 12,
   "metadata": {},
   "outputs": [
    {
     "data": {
      "text/plain": [
       "4-element Array{Float64,1}:\n",
       "  3.14096    \n",
       " -0.000255546\n",
       "  0.000563909\n",
       " -0.000193513"
      ]
     },
     "execution_count": 12,
     "metadata": {},
     "output_type": "execute_result"
    }
   ],
   "source": [
    "X_dp[:,end]"
   ]
  },
  {
   "cell_type": "code",
   "execution_count": 77,
   "metadata": {},
   "outputs": [
    {
     "data": {
      "text/plain": [
       "1×10 Array{Float64,2}:\n",
       " 11.0  11.0  11.0  11.0  11.0  11.0  11.0  11.0  11.0  11.0"
      ]
     },
     "execution_count": 77,
     "metadata": {},
     "output_type": "execute_result"
    }
   ],
   "source": [
    "## BoB\n",
    "n = 4\n",
    "m = 1\n",
    "\n",
    "# initial and goal states\n",
    "x0 = [.1;0.;0.;0.]\n",
    "xf = [.5;0.;0.;0.]\n",
    "\n",
    "#set_configuration!(state, x0[1:2])\n",
    "#set_velocity!(state, x0[3:4])\n",
    "\n",
    "# costs\n",
    "Q = 5e-4*eye(n)\n",
    "Qf = 500.0*eye(n)\n",
    "R = 1e-5*eye(m)\n",
    "\n",
    "# simulation\n",
    "tf = 1.0\n",
    "dt = 0.01\n",
    "\n",
    "obj = iLQR.Objective(Q,R,Qf,tf,x0,xf)\n",
    "solver = iLQR.Solver(ballonbeam,obj)\n",
    "u = ones(m,solver.N)*11"
   ]
  },
  {
   "cell_type": "code",
   "execution_count": 81,
   "metadata": {},
   "outputs": [
    {
     "name": "stdout",
     "output_type": "stream",
     "text": [
      "Cost: 0.5842129116391265\n",
      "Cost: 0.562731870863896\n",
      "Cost: 0.5328879202116943\n",
      "Cost: 0.4664224959632715\n",
      "Cost: 0.055458890470258954\n",
      "Cost: 0.05255860252594142\n",
      "Cost: 0.047985845692635115\n",
      "Cost: 0.033204603658799105\n",
      "Cost: 0.03307311801826171\n",
      "Cost: 0.032901751430380946\n"
     ]
    },
    {
     "data": {
      "text/plain": [
       "([0.1 0.1 … 0.496028 0.500049; 0.0 -0.23631 … 0.16448 0.00143103; 0.0 0.0558422 … -0.12157 0.000574857; 0.0 -4.72619 … -3.12429 5.23828e-5], [-5.58811 33.8462 … 28.7945 6.9004e-310])"
      ]
     },
     "execution_count": 81,
     "metadata": {},
     "output_type": "execute_result"
    }
   ],
   "source": [
    "x,u = iLQR.solve(solver,u)"
   ]
  },
  {
   "cell_type": "code",
   "execution_count": 79,
   "metadata": {},
   "outputs": [
    {
     "data": {
      "text/plain": [
       "4-element Array{Float64,1}:\n",
       " 0.501483   \n",
       " 0.00401038 \n",
       " 0.00408662 \n",
       " 0.000849233"
      ]
     },
     "execution_count": 79,
     "metadata": {},
     "output_type": "execute_result"
    }
   ],
   "source": [
    "x[:,end]"
   ]
  },
  {
   "cell_type": "code",
   "execution_count": 80,
   "metadata": {},
   "outputs": [
    {
     "data": {
      "text/plain": [
       "1×10 Array{Float64,2}:\n",
       " -5.37549  33.1822  23.5858  7.22139  …  -3.34205  29.119  0.0492478"
      ]
     },
     "execution_count": 80,
     "metadata": {},
     "output_type": "execute_result"
    }
   ],
   "source": [
    "u += randn(size(u))*1"
   ]
  },
  {
   "cell_type": "code",
   "execution_count": null,
   "metadata": {},
   "outputs": [],
   "source": []
  },
  {
   "cell_type": "code",
   "execution_count": null,
   "metadata": {},
   "outputs": [],
   "source": []
  }
 ],
 "metadata": {
  "kernelspec": {
   "display_name": "Julia 0.6.4",
   "language": "julia",
   "name": "julia-0.6"
  },
  "language_info": {
   "file_extension": ".jl",
   "mimetype": "application/julia",
   "name": "julia",
   "version": "0.6.4"
  }
 },
 "nbformat": 4,
 "nbformat_minor": 2
}
