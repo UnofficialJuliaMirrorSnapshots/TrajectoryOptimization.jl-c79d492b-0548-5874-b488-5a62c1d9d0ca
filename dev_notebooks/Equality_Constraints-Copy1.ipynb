{
 "cells": [
  {
   "cell_type": "code",
   "execution_count": 3,
   "metadata": {},
   "outputs": [],
   "source": [
    "using ForwardDiff\n",
    "using Base.Test\n",
    "using Plots"
   ]
  },
  {
   "cell_type": "code",
   "execution_count": 77,
   "metadata": {},
   "outputs": [
    {
     "data": {
      "text/plain": [
       "solve_AL (generic function with 2 methods)"
      ]
     },
     "execution_count": 77,
     "metadata": {},
     "output_type": "execute_result"
    }
   ],
   "source": [
    "function solve_penalty(J,c;num_iter=100,μ=1)\n",
    "    function print_stats()\n",
    "        println(\"Final Value: $x\")\n",
    "        println(\"Final Cost: $(Q(x))\")\n",
    "        println(\"Final mu: \", μ)\n",
    "        println(\"Final C: $(c(x))\")\n",
    "        println(\"k: $k/$(length(tau))\")\n",
    "        println(\"Iterations: $iter\")\n",
    "    end\n",
    "    \n",
    "    tau = logspace(1,-5,30)\n",
    "    k = 1\n",
    "    \n",
    "    Q(x) = J(x) + μ/2*c(x)^2\n",
    "    dQ(x) = ForwardDiff.gradient(Q,x)\n",
    "    hQ(x) = ForwardDiff.hessian(Q,x)\n",
    "    p(x) = -inv(hQ(x))*dQ(x)\n",
    "    \n",
    "    x_prev = ones(n)*Inf\n",
    "    X = zeros(n,num_iter)\n",
    "    cost = zeros(num_iter)\n",
    "    P = zeros(n,num_iter)\n",
    "    x = copy(x0)\n",
    "        \n",
    "    for iter = 1:num_iter\n",
    "        px = p(x)\n",
    "        x += α*px\n",
    "        \n",
    "        cost[iter] = J(x)\n",
    "        X[:,iter] = x\n",
    "        P[:,iter] = px\n",
    "        \n",
    "        if norm(dQ(x)) <= tau[k]\n",
    "            k += 1 # Decrease tolerance\n",
    "            μ *= 2\n",
    "        end\n",
    "        if norm(x-x_prev) < 1e-8\n",
    "            println(\"Tolerance Condition Hit\")\n",
    "            print_stats()\n",
    "            return X,P,cost\n",
    "        end\n",
    "        x_prev = copy(x)\n",
    "    end\n",
    "    iter = num_iter\n",
    "    print_stats()\n",
    "    return X,P,cost\n",
    "end\n",
    "\n",
    "function plotQ(f,c,μ)\n",
    "    Q(x) = J(x) + μ/2*c(x)^2\n",
    "    Q2(x,y) = Q([x;y])\n",
    "    Xs = linspace(-1.5,1.5,N)\n",
    "    Ys = linspace(-1.5,1.5,N)\n",
    "    plt = contourf(Xs,Ys,Q2)\n",
    "end\n",
    "\n",
    "function solve_AL(f,ce,ci,x0;num_iter=100,μ=1.,α=0.1)\n",
    "    function print_stats()\n",
    "        println(\"Final Value: $x\")\n",
    "        println(\"Final Cost: $(L(x))\")\n",
    "        println(\"Final mu: \", μ)\n",
    "        println(\"Final C: $(c(x))\")\n",
    "        println(\"j: $j/$(length(tau))\")\n",
    "        println(\"Iterations: $iter\")\n",
    "        println(\"eps: $(norm(x-x_prev))\")\n",
    "    end\n",
    "    \n",
    "    function updateIμ(c, λ)\n",
    "        for i = Ne+1:N\n",
    "            if c[i] >= 0 && λ[i] <= 0\n",
    "                Iμ[i,i] = 0\n",
    "            end\n",
    "        end\n",
    "    end\n",
    "        \n",
    "    \n",
    "    n = length(x0)\n",
    "    Ne = length(ce(x0))\n",
    "    Ni = length(ci(x0))\n",
    "    N = Ne+Ni\n",
    "    \n",
    "    tau = logspace(1,-5,30)\n",
    "    j = 1\n",
    "    λ = zeros(N)\n",
    "    if isa(μ,Number)\n",
    "        Iμ = eye(N)*μ\n",
    "        println(Iμ)\n",
    "    else\n",
    "        Iμ = diagm(μ)\n",
    "    end\n",
    "    \n",
    "    c(x) = [ce(x); ci(x)]\n",
    "    L(x) = J(x) + c(x)'Iμ*c(x) - λ'c(x)\n",
    "    dL(x) = ForwardDiff.gradient(L,x)\n",
    "    hL(x) = ForwardDiff.hessian(L,x)\n",
    "    p(x) = -inv(hL(x))*dL(x)\n",
    "    \n",
    "    updateIμ(c(x0),λ)\n",
    "    println(Iμ)\n",
    "    \n",
    "    x_prev = ones(n)*Inf\n",
    "    X = zeros(n,num_iter)\n",
    "    cost = zeros(num_iter)\n",
    "    P = zeros(n,num_iter)\n",
    "    x = copy(x0)\n",
    "    px = zeros(n)\n",
    "    \n",
    "    iter_limit = 1000\n",
    "        \n",
    "    for iter = 1:num_iter\n",
    "        for k = 1:iter_limit\n",
    "            px = p(x)\n",
    "            x += α*px\n",
    "            if norm(dL(x)) < tau[j]\n",
    "                break\n",
    "            end\n",
    "        end\n",
    "        \n",
    "        j += 1\n",
    "        λ += -μ*c(x)\n",
    "        μ *= 2\n",
    "        \n",
    "        if norm(x-x_prev) < 1e-8 || abs(c(x)) < 1e-6\n",
    "            println(\"Tolerance Condition Hit\")\n",
    "            print_stats()\n",
    "            return X,P,cost\n",
    "        end\n",
    "        \n",
    "        cost[iter] = J(x)\n",
    "        X[:,iter] = x\n",
    "        P[:,iter] = px\n",
    "        \n",
    "        x_prev = copy(x)\n",
    "    end\n",
    "    iter = num_iter\n",
    "    print_stats()\n",
    "    return X,P,cost\n",
    "end\n",
    "    \n"
   ]
  },
  {
   "cell_type": "code",
   "execution_count": 78,
   "metadata": {},
   "outputs": [
    {
     "name": "stdout",
     "output_type": "stream",
     "text": [
      "\n",
      "[1.0 0.0; 0.0 1.0]\n",
      "[-0.9, -0.9]\n",
      "[0.0, 0.0]\n",
      "[1.0 0.0; 0.0 1.0]\n"
     ]
    },
    {
     "name": "stderr",
     "output_type": "stream",
     "text": [
      "\u001b[1m\u001b[33mWARNING: \u001b[39m\u001b[22m\u001b[33mabs(x::AbstractArray{T}) where T <: Number is deprecated, use abs.(x) instead.\u001b[39m\n",
      "Stacktrace:\n",
      " [1] \u001b[1mdepwarn\u001b[22m\u001b[22m\u001b[1m(\u001b[22m\u001b[22m::String, ::Symbol\u001b[1m)\u001b[22m\u001b[22m at \u001b[1m./deprecated.jl:70\u001b[22m\u001b[22m\n",
      " [2] \u001b[1mabs\u001b[22m\u001b[22m\u001b[1m(\u001b[22m\u001b[22m::Array{Float64,1}\u001b[1m)\u001b[22m\u001b[22m at \u001b[1m./deprecated.jl:57\u001b[22m\u001b[22m\n",
      " [3] \u001b[1m#solve_AL#455\u001b[22m\u001b[22m\u001b[1m(\u001b[22m\u001b[22m::Int64, ::Float64, ::Float64, ::Function, ::Function, ::#ce, ::#ci, ::Array{Float64,1}\u001b[1m)\u001b[22m\u001b[22m at \u001b[1m./In[77]:125\u001b[22m\u001b[22m\n",
      " [4] \u001b[1m(::#kw##solve_AL)\u001b[22m\u001b[22m\u001b[1m(\u001b[22m\u001b[22m::Array{Any,1}, ::#solve_AL, ::Function, ::Function, ::Function, ::Array{Float64,1}\u001b[1m)\u001b[22m\u001b[22m at \u001b[1m./<missing>:0\u001b[22m\u001b[22m\n",
      " [5] \u001b[1minclude_string\u001b[22m\u001b[22m\u001b[1m(\u001b[22m\u001b[22m::String, ::String\u001b[1m)\u001b[22m\u001b[22m at \u001b[1m./loading.jl:522\u001b[22m\u001b[22m\n",
      " [6] \u001b[1mexecute_request\u001b[22m\u001b[22m\u001b[1m(\u001b[22m\u001b[22m::ZMQ.Socket, ::IJulia.Msg\u001b[1m)\u001b[22m\u001b[22m at \u001b[1m/home/bjack205/.julia/v0.6/IJulia/src/execute_request.jl:158\u001b[22m\u001b[22m\n",
      " [7] \u001b[1m(::Compat.#inner#18{Array{Any,1},IJulia.#execute_request,Tuple{ZMQ.Socket,IJulia.Msg}})\u001b[22m\u001b[22m\u001b[1m(\u001b[22m\u001b[22m\u001b[1m)\u001b[22m\u001b[22m at \u001b[1m/home/bjack205/.julia/v0.6/Compat/src/Compat.jl:378\u001b[22m\u001b[22m\n",
      " [8] \u001b[1meventloop\u001b[22m\u001b[22m\u001b[1m(\u001b[22m\u001b[22m::ZMQ.Socket\u001b[1m)\u001b[22m\u001b[22m at \u001b[1m/home/bjack205/.julia/v0.6/IJulia/src/eventloop.jl:8\u001b[22m\u001b[22m\n",
      " [9] \u001b[1m(::IJulia.##14#17)\u001b[22m\u001b[22m\u001b[1m(\u001b[22m\u001b[22m\u001b[1m)\u001b[22m\u001b[22m at \u001b[1m./task.jl:335\u001b[22m\u001b[22m\n",
      "while loading In[78], in expression starting on line 11\n"
     ]
    },
    {
     "ename": "LoadError",
     "evalue": "\u001b[91mMethodError: no method matching isless(::Array{Float64,1}, ::Float64)\u001b[0m\nClosest candidates are:\n  isless(\u001b[91m::Float64\u001b[39m, ::Float64) at float.jl:439\n  isless(\u001b[91m::Missings.Missing\u001b[39m, ::Any) at /home/bjack205/.julia/v0.6/Missings/src/Missings.jl:74\n  isless(\u001b[91m::AbstractFloat\u001b[39m, ::AbstractFloat) at operators.jl:96\n  ...\u001b[39m",
     "output_type": "error",
     "traceback": [
      "\u001b[91mMethodError: no method matching isless(::Array{Float64,1}, ::Float64)\u001b[0m\nClosest candidates are:\n  isless(\u001b[91m::Float64\u001b[39m, ::Float64) at float.jl:439\n  isless(\u001b[91m::Missings.Missing\u001b[39m, ::Any) at /home/bjack205/.julia/v0.6/Missings/src/Missings.jl:74\n  isless(\u001b[91m::AbstractFloat\u001b[39m, ::AbstractFloat) at operators.jl:96\n  ...\u001b[39m",
      "",
      "Stacktrace:",
      " [1] \u001b[1m<\u001b[22m\u001b[22m\u001b[1m(\u001b[22m\u001b[22m::Array{Float64,1}, ::Float64\u001b[1m)\u001b[22m\u001b[22m at \u001b[1m./operators.jl:194\u001b[22m\u001b[22m",
      " [2] \u001b[1m#solve_AL#455\u001b[22m\u001b[22m\u001b[1m(\u001b[22m\u001b[22m::Int64, ::Float64, ::Float64, ::Function, ::Function, ::#ce, ::#ci, ::Array{Float64,1}\u001b[1m)\u001b[22m\u001b[22m at \u001b[1m./In[77]:125\u001b[22m\u001b[22m",
      " [3] \u001b[1m(::#kw##solve_AL)\u001b[22m\u001b[22m\u001b[1m(\u001b[22m\u001b[22m::Array{Any,1}, ::#solve_AL, ::Function, ::Function, ::Function, ::Array{Float64,1}\u001b[1m)\u001b[22m\u001b[22m at \u001b[1m./<missing>:0\u001b[22m\u001b[22m"
     ]
    }
   ],
   "source": [
    "# J(x) = sum(x)\n",
    "# ce(x) = x[1]^2 + x[2]^2 -2\n",
    "J(x) = x[1]^2 + x[2]^2\n",
    "ce(x) = x[1] + x[2] - 1\n",
    "ci(x) = x[2]\n",
    "n = 2\n",
    "x0 = [1,-.9]\n",
    "\n",
    "# X, P, cost = solve_penalty(J,c,num_iter=500);\n",
    "println()\n",
    "X, P, cost = solve_AL(J,ce,ci,x0,num_iter=500);\n",
    "# plotQ(J,c,1)"
   ]
  },
  {
   "cell_type": "code",
   "execution_count": 95,
   "metadata": {},
   "outputs": [
    {
     "ename": "LoadError",
     "evalue": "\u001b[91mInterruptException:\u001b[39m",
     "output_type": "error",
     "traceback": [
      "\u001b[91mInterruptException:\u001b[39m",
      "",
      "Stacktrace:",
      " [1] \u001b[1min\u001b[22m\u001b[22m at \u001b[1m./reduce.jl:631\u001b[22m\u001b[22m [inlined]",
      " [2] \u001b[1mdefault_should_widen\u001b[22m\u001b[22m\u001b[1m(\u001b[22m\u001b[22m::Plots.Axis\u001b[1m)\u001b[22m\u001b[22m at \u001b[1m/home/bjack205/.julia/v0.6/Plots/src/axes.jl:437\u001b[22m\u001b[22m",
      " [3] \u001b[1maxis_limits\u001b[22m\u001b[22m\u001b[1m(\u001b[22m\u001b[22m::Plots.Axis\u001b[1m)\u001b[22m\u001b[22m at \u001b[1m/home/bjack205/.julia/v0.6/Plots/src/axes.jl:455\u001b[22m\u001b[22m",
      " [4] \u001b[1mgr_xy_axislims\u001b[22m\u001b[22m at \u001b[1m/home/bjack205/.julia/v0.6/Plots/src/backends/gr.jl:286\u001b[22m\u001b[22m [inlined]",
      " [5] \u001b[1mgr_colorbar\u001b[22m\u001b[22m\u001b[1m(\u001b[22m\u001b[22m::Plots.Subplot{Plots.GRBackend}, ::Tuple{Float64,Float64}\u001b[1m)\u001b[22m\u001b[22m at \u001b[1m/home/bjack205/.julia/v0.6/Plots/src/backends/gr.jl:485\u001b[22m\u001b[22m",
      " [6] \u001b[1mgr_display\u001b[22m\u001b[22m\u001b[1m(\u001b[22m\u001b[22m::Plots.Subplot{Plots.GRBackend}, ::Measures.Length{:mm,Float64}, ::Measures.Length{:mm,Float64}, ::Array{Float64,1}\u001b[1m)\u001b[22m\u001b[22m at \u001b[1m/home/bjack205/.julia/v0.6/Plots/src/backends/gr.jl:1230\u001b[22m\u001b[22m",
      " [7] \u001b[1mgr_display\u001b[22m\u001b[22m\u001b[1m(\u001b[22m\u001b[22m::Plots.Plot{Plots.GRBackend}, ::String\u001b[1m)\u001b[22m\u001b[22m at \u001b[1m/home/bjack205/.julia/v0.6/Plots/src/backends/gr.jl:583\u001b[22m\u001b[22m",
      " [8] \u001b[1m_show\u001b[22m\u001b[22m\u001b[1m(\u001b[22m\u001b[22m::IOStream, ::MIME{Symbol(\"image/png\")}, ::Plots.Plot{Plots.GRBackend}\u001b[1m)\u001b[22m\u001b[22m at \u001b[1m/home/bjack205/.julia/v0.6/Plots/src/backends/gr.jl:1380\u001b[22m\u001b[22m",
      " [9] \u001b[1mshow\u001b[22m\u001b[22m\u001b[1m(\u001b[22m\u001b[22m::IOStream, ::MIME{Symbol(\"image/png\")}, ::Plots.Plot{Plots.GRBackend}\u001b[1m)\u001b[22m\u001b[22m at \u001b[1m/home/bjack205/.julia/v0.6/Plots/src/output.jl:202\u001b[22m\u001b[22m",
      " [10] \u001b[1mpng\u001b[22m\u001b[22m\u001b[1m(\u001b[22m\u001b[22m::Plots.Plot{Plots.GRBackend}, ::String\u001b[1m)\u001b[22m\u001b[22m at \u001b[1m/home/bjack205/.julia/v0.6/Plots/src/output.jl:8\u001b[22m\u001b[22m",
      " [11] \u001b[1mframe\u001b[22m\u001b[22m\u001b[1m(\u001b[22m\u001b[22m::Plots.Animation, ::Plots.Plot{Plots.GRBackend}\u001b[1m)\u001b[22m\u001b[22m at \u001b[1m/home/bjack205/.julia/v0.6/Plots/src/animation.jl:20\u001b[22m\u001b[22m",
      " [12] \u001b[1mframe\u001b[22m\u001b[22m\u001b[1m(\u001b[22m\u001b[22m::Plots.Animation\u001b[1m)\u001b[22m\u001b[22m at \u001b[1m/home/bjack205/.julia/v0.6/Plots/src/animation.jl:18\u001b[22m\u001b[22m",
      " [13] \u001b[1mmacro expansion\u001b[22m\u001b[22m at \u001b[1m/home/bjack205/.julia/v0.6/Plots/src/animation.jl:144\u001b[22m\u001b[22m [inlined]",
      " [14] \u001b[1mmacro expansion\u001b[22m\u001b[22m at \u001b[1m./In[95]:13\u001b[22m\u001b[22m [inlined]",
      " [15] \u001b[1mmacro expansion\u001b[22m\u001b[22m at \u001b[1m/home/bjack205/.julia/v0.6/Plots/src/animation.jl:155\u001b[22m\u001b[22m [inlined]",
      " [16] \u001b[1manonymous\u001b[22m\u001b[22m at \u001b[1m./<missing>:?\u001b[22m\u001b[22m"
     ]
    }
   ],
   "source": [
    "function plot_step(x,px)\n",
    "    scatter!([x[1]],[x[2]],color=\"red\",legend=:none)\n",
    "    plot!([x[1], x[1]+px[1]*α],[x[2], x[2]+px[2]*α],width=2,color=\"black\",legend=:none)\n",
    "end\n",
    "\n",
    "N = 100\n",
    "Xs = linspace(-1.5,1.5,N)\n",
    "Ys = linspace(-1.5,1.5,N)\n",
    "Q2(x,y) = Q([x;y])\n",
    "contourf(Xs,Ys,Q2)\n",
    "\n",
    "@gif for i = 1:size(X,2)\n",
    "    scatter!([X[1,i]],[X[2,i]],color=\"red\",legend=:none)\n",
    "end"
   ]
  },
  {
   "cell_type": "code",
   "execution_count": 57,
   "metadata": {},
   "outputs": [
    {
     "data": {
      "text/plain": [
       "false"
      ]
     },
     "execution_count": 57,
     "metadata": {},
     "output_type": "execute_result"
    }
   ],
   "source": [
    "μ = [1]\n",
    "isa(μ,Number)"
   ]
  },
  {
   "cell_type": "code",
   "execution_count": 223,
   "metadata": {},
   "outputs": [
    {
     "data": {
      "text/plain": [
       "makePSD_current (generic function with 1 method)"
      ]
     },
     "execution_count": 223,
     "metadata": {},
     "output_type": "execute_result"
    }
   ],
   "source": []
  },
  {
   "cell_type": "code",
   "execution_count": 222,
   "metadata": {},
   "outputs": [
    {
     "name": "stdout",
     "output_type": "stream",
     "text": [
      "[2.0 0.0 0.0; 0.0 4.0 0.0; 0.0 0.0 -1.0]\n",
      "[4.0 0.0 0.0; 0.0 6.0 0.0; 0.0 0.0 1.0]\n",
      "3\n"
     ]
    },
    {
     "data": {
      "text/plain": [
       "3×3 Array{Float64,2}:\n",
       " 4.0  0.0  0.0\n",
       " 0.0  6.0  0.0\n",
       " 0.0  0.0  1.0"
      ]
     },
     "execution_count": 222,
     "metadata": {},
     "output_type": "execute_result"
    }
   ],
   "source": [
    "A = diagm([1, 3, -2])\n",
    "makePSD_current(A)"
   ]
  },
  {
   "cell_type": "code",
   "execution_count": 195,
   "metadata": {},
   "outputs": [
    {
     "data": {
      "text/plain": [
       "4×4 Array{Float64,2}:\n",
       " 9.95217  9.84117  11.2317    6.2585  \n",
       " 0.0      8.86774   5.98027   4.7625  \n",
       " 0.0      0.0       4.62761  -0.871035\n",
       " 0.0      0.0       0.0       1.02907 "
      ]
     },
     "execution_count": 195,
     "metadata": {},
     "output_type": "execute_result"
    }
   ],
   "source": []
  },
  {
   "cell_type": "code",
   "execution_count": 196,
   "metadata": {},
   "outputs": [
    {
     "data": {
      "text/plain": [
       "\u001b[1m\u001b[32mTest Passed\u001b[39m\u001b[22m"
      ]
     },
     "execution_count": 196,
     "metadata": {},
     "output_type": "execute_result"
    }
   ],
   "source": []
  },
  {
   "cell_type": "code",
   "execution_count": 200,
   "metadata": {},
   "outputs": [
    {
     "data": {
      "text/plain": [
       "4×4 Array{Float64,2}:\n",
       " 10.166  9.95752  11.1892    6.46353 \n",
       "  0.0    8.90409   6.04521   4.76489 \n",
       "  0.0    0.0       4.76655  -0.936592\n",
       "  0.0    0.0       0.0       1.27698 "
      ]
     },
     "execution_count": 200,
     "metadata": {},
     "output_type": "execute_result"
    }
   ],
   "source": []
  },
  {
   "cell_type": "code",
   "execution_count": 203,
   "metadata": {},
   "outputs": [
    {
     "data": {
      "text/plain": [
       "4×4 Array{Float64,2}:\n",
       " 10.166  9.95752  11.1892    6.46353 \n",
       "  0.0    8.90409   6.04521   4.76489 \n",
       "  0.0    0.0       4.76655  -0.936592\n",
       "  0.0    0.0       0.0       1.27698 "
      ]
     },
     "execution_count": 203,
     "metadata": {},
     "output_type": "execute_result"
    },
    {
     "name": "stdout",
     "output_type": "stream",
     "text": [
      "search: \u001b[1me\u001b[22m\u001b[1ml\u001b[22m\u001b[1ms\u001b[22m\u001b[1me\u001b[22m \u001b[1me\u001b[22m\u001b[1ml\u001b[22m\u001b[1ms\u001b[22m\u001b[1me\u001b[22mif if\u001b[1me\u001b[22m\u001b[1ml\u001b[22m\u001b[1ms\u001b[22m\u001b[1me\u001b[22m @\u001b[1me\u001b[22m\u001b[1ml\u001b[22map\u001b[1ms\u001b[22m\u001b[1me\u001b[22md fi\u001b[1me\u001b[22m\u001b[1ml\u001b[22mdoff\u001b[1ms\u001b[22m\u001b[1me\u001b[22mt S\u001b[1me\u001b[22mria\u001b[1ml\u001b[22mization\u001b[1mS\u001b[22mtat\u001b[1me\u001b[22m nfi\u001b[1me\u001b[22m\u001b[1ml\u001b[22md\u001b[1ms\u001b[22m\n",
      "\n",
      "search: \u001b[1me\u001b[22m\u001b[1ml\u001b[22m\u001b[1ms\u001b[22m\u001b[1me\u001b[22m \u001b[1me\u001b[22m\u001b[1ml\u001b[22m\u001b[1ms\u001b[22m\u001b[1me\u001b[22mif if\u001b[1me\u001b[22m\u001b[1ml\u001b[22m\u001b[1ms\u001b[22m\u001b[1me\u001b[22m @\u001b[1me\u001b[22m\u001b[1ml\u001b[22map\u001b[1ms\u001b[22m\u001b[1me\u001b[22md fi\u001b[1me\u001b[22m\u001b[1ml\u001b[22mdoff\u001b[1ms\u001b[22m\u001b[1me\u001b[22mt S\u001b[1me\u001b[22mria\u001b[1ml\u001b[22mization\u001b[1mS\u001b[22mtat\u001b[1me\u001b[22m nfi\u001b[1me\u001b[22m\u001b[1ml\u001b[22md\u001b[1ms\u001b[22m\n",
      "\n",
      "search: \u001b[1me\u001b[22m\u001b[1ml\u001b[22m\u001b[1ms\u001b[22m\u001b[1me\u001b[22m \u001b[1me\u001b[22m\u001b[1ml\u001b[22m\u001b[1ms\u001b[22m\u001b[1me\u001b[22mif if\u001b[1me\u001b[22m\u001b[1ml\u001b[22m\u001b[1ms\u001b[22m\u001b[1me\u001b[22m @\u001b[1me\u001b[22m\u001b[1ml\u001b[22map\u001b[1ms\u001b[22m\u001b[1me\u001b[22md fi\u001b[1me\u001b[22m\u001b[1ml\u001b[22mdoff\u001b[1ms\u001b[22m\u001b[1me\u001b[22mt S\u001b[1me\u001b[22mria\u001b[1ml\u001b[22mization\u001b[1mS\u001b[22mtat\u001b[1me\u001b[22m nfi\u001b[1me\u001b[22m\u001b[1ml\u001b[22md\u001b[1ms\u001b[22m\n",
      "\n"
     ]
    }
   ],
   "source": []
  },
  {
   "cell_type": "code",
   "execution_count": null,
   "metadata": {},
   "outputs": [],
   "source": []
  }
 ],
 "metadata": {
  "kernelspec": {
   "display_name": "Julia 0.6.4",
   "language": "julia",
   "name": "julia-0.6"
  },
  "language_info": {
   "file_extension": ".jl",
   "mimetype": "application/julia",
   "name": "julia",
   "version": "0.6.4"
  }
 },
 "nbformat": 4,
 "nbformat_minor": 2
}
