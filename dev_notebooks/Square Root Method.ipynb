{
 "cells": [
  {
   "cell_type": "code",
<<<<<<< HEAD:dev_notebooks/Square Root Method.ipynb
   "execution_count": 1,
=======
   "execution_count": 15,
>>>>>>> e5865afe4f31336b5ce1a57c522d52be35b558ca:Square Root Method.ipynb
   "metadata": {},
   "outputs": [],
   "source": [
    "using ForwardDiff\n",
<<<<<<< HEAD:dev_notebooks/Square Root Method.ipynb
    "using Plots"
   ]
  },
  {
   "cell_type": "code",
   "execution_count": 2,
   "metadata": {},
   "outputs": [
    {
     "data": {
      "text/plain": [
       "2-element Array{Float64,1}:\n",
       " 1.0\n",
       " 1.0"
      ]
     },
     "execution_count": 2,
     "metadata": {},
     "output_type": "execute_result"
    }
   ],
   "source": [
=======
    "\n",
>>>>>>> e5865afe4f31336b5ce1a57c522d52be35b558ca:Square Root Method.ipynb
    "# Dubins car parallel park\n",
    "n = 3 # number of states\n",
    "m = 2 # number of controls\n",
    "\n",
    "# initial and goal states\n",
    "x0 = [0.;0.;0.]\n",
    "xf = [0.;1.;0.]\n",
    "\n",
    "# costs\n",
    "Q = 0.001*eye(n)\n",
    "Qf = 1000.0*eye(n)\n",
    "R = 0.001*eye(m)\n",
    "\n",
    "dt = 0.01\n",
    "\n",
    "# RK4 integration\n",
    "function fc(x,u)\n",
    "    return [u[1]*cos(x[3]); u[1]*sin(x[3]); u[2]]\n",
    "end\n",
    "\n",
    "function rk4(f::Function,dt::Float64)\n",
    "    # Runge-Kutta 4\n",
    "    k1(x,u) = dt*f(x,u)\n",
    "    k2(x,u) = dt*f(x + k1(x,u)/2.,u)\n",
    "    k3(x,u) = dt*f(x + k2(x,u)/2.,u)\n",
    "    k4(x,u) = dt*f(x + k3(x,u), u)\n",
    "    fd(x,u) = x + (k1(x,u) + 2.*k2(x,u) + 2.*k3(x,u) + k4(x,u))/6.\n",
    "end\n",
    "\n",
    "function Jacobian(f::Function,x::Array{Float64,1},u::Array{Float64,1})\n",
    "    f1 = a -> f(a,u)\n",
    "    f2 = b -> f(x,b)\n",
    "    fx = ForwardDiff.jacobian(f1,x)\n",
    "    fu = ForwardDiff.jacobian(f2,u)\n",
    "    return fx, fu\n",
    "end\n",
    "\n",
    "fd = rk4(fc, dt)\n",
    "F(x,u) = Jacobian(fd,x,u)\n",
    "\n",
    "X = [1.;1.;1.]\n",
    "U = [1.;1.];"
   ]
  },
  {
   "cell_type": "code",
<<<<<<< HEAD:dev_notebooks/Square Root Method.ipynb
   "execution_count": 3,
   "metadata": {},
   "outputs": [
    {
     "data": {
      "text/plain": [
       "gson (generic function with 1 method)"
      ]
     },
     "execution_count": 3,
     "metadata": {},
     "output_type": "execute_result"
    }
   ],
   "source": [
    "function gson(X)\n",
    "    #Gram-Schmidt orthonormalization which produces the same result as [Q,R]=qr(X,0)\n",
    "    #Written by Mo Chen (sth4nth@gmail.com).\n",
    "    d, n = size(X)\n",
    "    m = min(d,n)\n",
    "    R = zeros(m,n)\n",
    "    Q = zeros(d,m)\n",
    "    for i = 1:m\n",
    "        R[1:i-1,i] = Q[:,1:i-1]'*X[:,i]\n",
    "        v = X[:,i]-Q[:,1:i-1]*R[1:i-1,i]\n",
    "        R[i,i] = norm(v)\n",
    "        Q[:,i] = v/R[i,i]\n",
    "    end\n",
    "    R[:,m+1:n] = Q'*X[:,m+1:n]\n",
    "        \n",
    "    return Q, R\n",
    "end"
   ]
  },
  {
   "cell_type": "code",
   "execution_count": 4,
   "metadata": {},
   "outputs": [
    {
     "ename": "LoadError",
     "evalue": "\u001b[91mUndefVarError: K not defined\u001b[39m",
     "output_type": "error",
     "traceback": [
      "\u001b[91mUndefVarError: K not defined\u001b[39m",
      ""
=======
   "execution_count": 18,
   "metadata": {},
   "outputs": [
    {
     "name": "stdout",
     "output_type": "stream",
     "text": [
      "Standard backward pass:\n",
      "  0.000253 seconds (262 allocations: 24.828 KiB)\n",
      "S=\n",
      "[1000.0 0.0 0.0; 0.0 1000.0 0.0; 0.0 0.0 1000.0]\n",
      "S_=\n",
      "[715.438 -448.053 -4.26243; -448.053 294.44 2.70697; -4.26243 2.70697 9.92749]\n",
      "s=\n",
      "[1000.0, 0.0, 1000.0]\n",
      "s_=\n",
      "[719.565, -450.791, 5.51555]\n",
      "K=\n",
      "[53.0783 83.5807 0.000816934; -0.417894 0.265376 99.0124]\n",
      "Quu=\n",
      "[0.100999 -8.33326e-7; -8.33326e-7 0.101002]\n",
      "d=\n",
      "[53.089, 98.5995]\n"
>>>>>>> e5865afe4f31336b5ce1a57c522d52be35b558ca:Square Root Method.ipynb
     ]
    }
   ],
   "source": [
    "# Standard backward pass\n",
    "println(\"Standard backward pass:\")\n",
    "@time begin \n",
    "    S = Qf\n",
    "    s = Qf*(X - xf)\n",
    "\n",
    "    lx = Q*(X - xf)\n",
    "    lu = R*(U)\n",
    "    lxx = Q\n",
    "    luu = R\n",
    "    fx, fu = F(X,U)\n",
    "    Qx = lx + fx'*s\n",
    "    Qu = lu + fu'*s\n",
    "    Qxx = lxx + fx'*S*fx\n",
    "    Quu = luu + fu'*S*fu\n",
    "    Qux = fu'*S*fx\n",
    "    K = Quu\\Qux\n",
    "    d = Quu\\Qu\n",
    "    s_ = Qx - K'*Qu + K'*Quu'*d - Qux'*d\n",
    "    S_ = Qxx + K'*Quu*K - K'*Qux - Qux'*K\n",
    "end\n",
    "println(\"S=\\n$S\\nS_=\\n$S_\")\n",
    "println(\"s=\\n$s\\ns_=\\n$s_\")\n",
    "println(\"K=\\n$K\")\n",
    "println(\"Quu=\\n$Quu\")\n",
    "println(\"d=\\n$d\")"
   ]
  },
  {
   "cell_type": "code",
<<<<<<< HEAD:dev_notebooks/Square Root Method.ipynb
   "execution_count": 6,
=======
   "execution_count": 17,
>>>>>>> e5865afe4f31336b5ce1a57c522d52be35b558ca:Square Root Method.ipynb
   "metadata": {},
   "outputs": [
    {
     "name": "stdout",
     "output_type": "stream",
     "text": [
<<<<<<< HEAD:dev_notebooks/Square Root Method.ipynb
      "  0.000436 seconds (412 allocations: 39.203 KiB)\n"
     ]
    },
    {
     "data": {
      "text/plain": [
       "3×3 Array{Float64,2}:\n",
       " -0.364655  1.64711    26.6944  \n",
       " -0.603386  2.58695   -16.9524  \n",
       "  3.0667    0.704847   -0.161274"
      ]
     },
     "execution_count": 6,
     "metadata": {},
     "output_type": "execute_result"
=======
      "Square-root backward pass\n",
      "  0.000581 seconds (522 allocations: 54.250 KiB)\n",
      "S=\n",
      "[1000.0 0.0 0.0; 0.0 1000.0 0.0; 0.0 0.0 1000.0]\n",
      "L*L'=\n",
      "[1000.0 0.0 0.0; 0.0 1000.0 0.0; 0.0 0.0 1000.0]\n",
      "\n",
      "S_=\n",
      "[715.438 -448.053 -4.26243; -448.053 294.44 2.70697; -4.26243 2.70697 9.92749]\n",
      "L_*L_'=\n",
      "[715.438 -448.053 -4.26243; -448.053 294.44 2.70697; -4.26243 2.70697 9.92749]\n",
      "\n",
      "s_=\n",
      "[719.565, -450.791, 5.51555]\n",
      "s_qrt=\n",
      "[719.565, -450.791, 5.51555]\n",
      "\n",
      "K=\n",
      "[53.0783 83.5807 0.000816934; -0.417894 0.265376 99.0124]\n",
      "K_sqrt=\n",
      "[53.0783 83.5807 0.000816934; -0.417894 0.265376 99.0124]\n",
      "\n",
      "Quu=\n",
      "[0.100999 -8.33326e-7; -8.33326e-7 0.101002]\n",
      "L_quu*L_quu'=\n",
      "[0.100999 -8.33326e-7; -8.33326e-7 0.101002]\n",
      "\n",
      "d:\n",
      "[53.089, 98.5995]\n",
      "d_sqrt=\n",
      "[53.089, 98.5995]\n",
      "\n"
     ]
>>>>>>> e5865afe4f31336b5ce1a57c522d52be35b558ca:Square Root Method.ipynb
    }
   ],
   "source": [
    "## Square-root backward pass\n",
    "println(\"Square-root backward pass\")\n",
    "@time begin \n",
    "    S = Qf\n",
    "    s = Qf*(X - xf)\n",
    "    A, B = F(X,U) \n",
    "    lx = Q*(X - xf)\n",
    "    lu = R*U\n",
    "    lxx = Q\n",
    "    luu = R\n",
    "    Qx = lx + fx'*s\n",
    "    Qu = lu + fu'*s\n",
    "    \n",
    "    L = chol(S)\n",
    "    Lq = chol(lxx)\n",
    "    Lr = chol(luu)\n",
    "    \n",
    "    # K update\n",
    "    K_sqrt = inv(luu)*B'*L*inv(eye(size(L,2)) + L'*B*inv(luu)*B'*L)*L'*A\n",
    "    \n",
    "    # d update\n",
    "    H = [B'*L Lr]\n",
    "    W0, V0 = qr(H)\n",
    "    L_quu = W0*(V0*V0')^(1/2)\n",
    "    \n",
    "    d_sqrt = inv(L_quu*L_quu')*Qu\n",
    "    \n",
    "    # S_k+1 -> S_k update\n",
    "    G = L'*B*inv(Lr')\n",
    "    d1, W1 = eig(G*G')\n",
    "    D1 = diagm(d1)\n",
    "    P = [A'*L*W1*((eye(size(D1,1)) + D1)^(-1/2))*W1' Lq]\n",
    "    W1, V = qr(P)\n",
    "    d2, W2 = eig(V*V')\n",
    "    D2 = diagm(d2)\n",
    "    L_ = W1*W2*D2^(1/2)\n",
    "    \n",
    "    # s_k+1 -> s_k update\n",
    "    s_sqrt = Qx - A'*L*inv(eye(size(L,2)) + L'*B*inv(luu)'*B'*L)*L'*B*inv(luu)'*Qu\n",
    "    \n",
    "end\n",
<<<<<<< HEAD:dev_notebooks/Square Root Method.ipynb
    "# check result\n",
    "# isapprox.(S_,L_*L_')"
   ]
  },
  {
   "cell_type": "code",
   "execution_count": null,
   "metadata": {},
   "outputs": [],
   "source": [
    "P = 10.*eye(3)\n",
    "M = ones(2,3)\n",
    "Fm = 1.*eye(3)\n",
    "Q = 0.1*eye(3)\n",
    "R = 0.05*eye(2)\n",
    "Ps = chol(P)\n",
    "Qs = chol(Q)\n",
    "Rs = chol(R)\n",
    "\n",
    "A = [Fm*Ps Qs]\n",
    "\n",
    "L, V = gson(A)\n",
    "D = V*V'\n",
    "\n",
    "Ps_ = L*D^(1/2)\n",
    "Ps_*Ps_'\n",
    "\n",
    "Bt = inv(Rs)*M*Ps\n",
    "\n",
    "W, V = gson(Bt'*Bt)\n",
    "\n",
    "#Ps__ = Ps_*W*((eye(3) + V*V')^(-1/2))*W'\n",
    "\n",
    "Ps__ = Ps_*inv(eye(3) + Bt'*Bt)*Ps_'\n",
    "Ps__*Ps__'"
   ]
  },
  {
   "cell_type": "code",
   "execution_count": null,
   "metadata": {},
   "outputs": [],
   "source": [
    "Pnew = Fm*P*Fm' + Q"
   ]
  },
  {
   "cell_type": "code",
   "execution_count": null,
   "metadata": {},
   "outputs": [],
   "source": [
    "P_new = Pnew - Pnew*M'*inv(M*Pnew*M' + R)*M*Pnew"
   ]
  },
  {
   "cell_type": "code",
   "execution_count": null,
   "metadata": {},
   "outputs": [],
   "source": [
    "vals, vectors = eig(eye(3))\n",
    "diagm(vals)\n",
    "vectors*vectors'"
   ]
  },
  {
   "cell_type": "code",
   "execution_count": null,
   "metadata": {},
   "outputs": [],
   "source": [
    "B = [1. 0. 0.; 0. 1. 0.]\n",
    "B'*B\n",
    "\n",
    "V,D = eig(B'*B)"
   ]
  },
  {
   "cell_type": "code",
   "execution_count": 1,
   "metadata": {},
   "outputs": [
    {
     "data": {
      "text/plain": [
       "3×3 Array{Float64,2}:\n",
       "  6.8254  -3.1746  -3.1746\n",
       " -3.1746   6.8254  -3.1746\n",
       " -3.1746  -3.1746   6.8254"
      ]
     },
     "execution_count": 1,
     "metadata": {},
     "output_type": "execute_result"
    }
   ],
   "source": [
    "n = 3\n",
    "m = 2\n",
    "P = 10.*eye(n)\n",
    "M = 1.*ones(m,n)\n",
    "Q = 3.*eye(m)\n",
    "Ps = chol(P)\n",
    "\n",
    "P_ = P - P*M'*inv(M*P*M' + Q)*M*P"
   ]
  },
  {
   "cell_type": "code",
   "execution_count": 2,
   "metadata": {},
   "outputs": [
    {
     "data": {
      "text/plain": [
       "3×3 Array{Float64,2}:\n",
       "  6.8254  -3.1746  -3.1746\n",
       " -3.1746   6.8254  -3.1746\n",
       " -3.1746  -3.1746   6.8254"
      ]
     },
     "execution_count": 2,
     "metadata": {},
     "output_type": "execute_result"
    }
   ],
   "source": [
    "Bt = inv(chol(Q))*M*Ps\n",
    "\n",
    "P_2 = Ps*inv(eye(n) + Bt'*Bt)*Ps'\n",
    "P_2"
   ]
  },
  {
   "cell_type": "code",
   "execution_count": 13,
   "metadata": {},
   "outputs": [
    {
     "data": {
      "text/plain": [
       "3×3 Array{Float64,2}:\n",
       " 0.0  0.57735   0.707107\n",
       " 0.0  0.57735  -0.707107\n",
       " 1.0  0.57735   0.0     "
      ]
     },
     "execution_count": 13,
     "metadata": {},
     "output_type": "execute_result"
    }
   ],
   "source": [
    "eigs, vec = eig(Bt'*Bt)\n",
    "\n",
    "eigs2, vec2 = eig([Bt' zeros(3,1)])\n",
=======
>>>>>>> e5865afe4f31336b5ce1a57c522d52be35b558ca:Square Root Method.ipynb
    "\n",
    "#check results\n",
    "println(\"S=\\n$S\")\n",
    "println(\"L*L'=\\n$(L*L')\\n\")\n",
    "println(\"S_=\\n$S_\")\n",
    "println(\"L_*L_'=\\n$(L_*L_')\\n\")\n",
    "println(\"s_=\\n$s_\")\n",
    "println(\"s_qrt=\\n$s_sqrt\\n\")\n",
    "println(\"K=\\n$K\")\n",
    "println(\"K_sqrt=\\n$K_sqrt\\n\")\n",
    "println(\"Quu=\\n$Quu\")\n",
    "println(\"L_quu*L_quu'=\\n$(L_quu*L_quu')\\n\")\n",
    "println(\"d:\\n$d\")\n",
    "println(\"d_sqrt=\\n$d_sqrt\\n\")"
   ]
  },
  {
   "cell_type": "code",
   "execution_count": null,
   "metadata": {
    "collapsed": true
   },
   "outputs": [],
   "source": []
  }
 ],
 "metadata": {
  "kernelspec": {
   "display_name": "Julia 0.6.4",
   "language": "julia",
   "name": "julia-0.6"
  },
  "language_info": {
   "file_extension": ".jl",
   "mimetype": "application/julia",
   "name": "julia",
   "version": "0.6.4"
  }
 },
 "nbformat": 4,
 "nbformat_minor": 2
}
